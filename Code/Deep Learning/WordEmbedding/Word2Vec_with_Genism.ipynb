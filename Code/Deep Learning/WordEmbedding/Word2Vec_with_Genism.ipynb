{
 "cells": [
  {
   "cell_type": "code",
   "execution_count": 1,
   "metadata": {},
   "outputs": [],
   "source": [
    "from nltk.corpus import brown\n",
    "from gensim.models import Word2Vec"
   ]
  },
  {
   "cell_type": "code",
   "execution_count": 2,
   "metadata": {},
   "outputs": [],
   "source": [
    "import nltk"
   ]
  },
  {
   "cell_type": "code",
   "execution_count": 3,
   "metadata": {},
   "outputs": [
    {
     "name": "stderr",
     "output_type": "stream",
     "text": [
      "[nltk_data] Downloading package brown to\n",
      "[nltk_data]     /Users/rajnishechauhan/nltk_data...\n",
      "[nltk_data]   Package brown is already up-to-date!\n"
     ]
    },
    {
     "data": {
      "text/plain": [
       "True"
      ]
     },
     "execution_count": 3,
     "metadata": {},
     "output_type": "execute_result"
    }
   ],
   "source": [
    "nltk.download('brown')"
   ]
  },
  {
   "cell_type": "code",
   "execution_count": 4,
   "metadata": {
    "scrolled": true
   },
   "outputs": [
    {
     "name": "stdout",
     "output_type": "stream",
     "text": [
      "[['The', 'Fulton', 'County', 'Grand', 'Jury', 'said', 'Friday', 'an', 'investigation', 'of', \"Atlanta's\", 'recent', 'primary', 'election', 'produced', '``', 'no', 'evidence', \"''\", 'that', 'any', 'irregularities', 'took', 'place', '.'], ['The', 'jury', 'further', 'said', 'in', 'term-end', 'presentments', 'that', 'the', 'City', 'Executive', 'Committee', ',', 'which', 'had', 'over-all', 'charge', 'of', 'the', 'election', ',', '``', 'deserves', 'the', 'praise', 'and', 'thanks', 'of', 'the', 'City', 'of', 'Atlanta', \"''\", 'for', 'the', 'manner', 'in', 'which', 'the', 'election', 'was', 'conducted', '.'], ...]\n"
     ]
    }
   ],
   "source": [
    "print(brown.sents())"
   ]
  },
  {
   "cell_type": "code",
   "execution_count": null,
   "metadata": {},
   "outputs": [],
   "source": []
  },
  {
   "cell_type": "code",
   "execution_count": 5,
   "metadata": {},
   "outputs": [],
   "source": [
    "wordList = brown.sents()"
   ]
  },
  {
   "cell_type": "code",
   "execution_count": null,
   "metadata": {},
   "outputs": [],
   "source": []
  },
  {
   "cell_type": "code",
   "execution_count": 6,
   "metadata": {},
   "outputs": [],
   "source": [
    "wordEmbedding = Word2Vec(wordList, min_count=1,size= 50,\n",
    "                         workers=3, window =3, sg = 1)"
   ]
  },
  {
   "cell_type": "markdown",
   "metadata": {},
   "source": [
    "<B>size:</B> The number of dimensions of the embeddings and the default is 100.\n",
    "<BR><B>window:</B> The maximum distance between a target word and words around the target word. The default window is 5.\n",
    "<BR><B>min_count:</B> The minimum count of words to consider when training the model; words with occurrence less than      this count will be ignored. The default for min_count is 5.\n",
    "<BR><B>workers:</B> The number of partitions during training and the default workers is 3.\n",
    "sg: The training algorithm, either CBOW(0) or skip gram(1). The default training algorithm is CBOW."
   ]
  },
  {
   "cell_type": "code",
   "execution_count": 7,
   "metadata": {},
   "outputs": [
    {
     "name": "stdout",
     "output_type": "stream",
     "text": [
      "Word2Vec(vocab=56057, size=50, alpha=0.025)\n"
     ]
    }
   ],
   "source": [
    "print(wordEmbedding)"
   ]
  },
  {
   "cell_type": "code",
   "execution_count": 8,
   "metadata": {},
   "outputs": [
    {
     "data": {
      "text/plain": [
       "[('London', 0.9490595459938049),\n",
       " ('Italy', 0.9470598697662354),\n",
       " ('junior', 0.9451492428779602),\n",
       " ('nowhere', 0.9447856545448303),\n",
       " ('Newport', 0.9432646632194519),\n",
       " ('Georgia', 0.9427064657211304),\n",
       " ('Atlanta', 0.9419857859611511),\n",
       " ('1954', 0.9415296912193298),\n",
       " ('club', 0.9402583837509155),\n",
       " ('Rome', 0.9397833943367004)]"
      ]
     },
     "execution_count": 8,
     "metadata": {},
     "output_type": "execute_result"
    }
   ],
   "source": [
    "wordEmbedding.wv.most_similar('Paris')"
   ]
  },
  {
   "cell_type": "code",
   "execution_count": 17,
   "metadata": {},
   "outputs": [],
   "source": [
    "# Get all embedded words\n",
    "words = list(wordEmbedding.wv.vocab)\n",
    "#print(words)"
   ]
  },
  {
   "cell_type": "code",
   "execution_count": 18,
   "metadata": {},
   "outputs": [
    {
     "name": "stdout",
     "output_type": "stream",
     "text": [
      "[ 0.30673158  0.42656392  0.4489356  -0.21003334  0.08958424 -0.07999418\n",
      " -0.10053888 -0.33029056 -0.16475476 -0.11950172  0.46683332  0.66465855\n",
      "  0.333976    0.43957448 -0.1617478  -0.4888638  -0.01239989  0.26931143\n",
      " -0.29947096 -0.32598493  0.02769523  0.30390975  0.18215543  0.06387614\n",
      " -0.17362002  0.1801481   0.6833793  -0.36007464 -0.03268894 -0.31439325\n",
      "  0.10554598  0.21397033  0.08557256 -0.6552539  -0.22433165  0.536713\n",
      "  0.11411712  0.06737972  0.42706043 -0.00305953 -0.25367227 -0.45363286\n",
      "  0.02178201 -0.10163325  0.21045882 -0.03132302 -0.03278312 -0.02016432\n",
      " -0.03064967 -0.2786778 ]\n"
     ]
    },
    {
     "name": "stderr",
     "output_type": "stream",
     "text": [
      "/Users/rajnishechauhan/anaconda/envs/dl_env/lib/python3.6/site-packages/ipykernel_launcher.py:2: DeprecationWarning: Call to deprecated `__getitem__` (Method will be removed in 4.0.0, use self.wv.__getitem__() instead).\n",
      "  \n"
     ]
    }
   ],
   "source": [
    "# access vector for one word\n",
    "print(wordEmbedding['sentence'])\n"
   ]
  },
  {
   "cell_type": "code",
   "execution_count": 19,
   "metadata": {},
   "outputs": [],
   "source": [
    "# save model\n",
    "wordEmbedding.save('wordEmbedding.bin')\n"
   ]
  },
  {
   "cell_type": "code",
   "execution_count": 20,
   "metadata": {},
   "outputs": [
    {
     "name": "stdout",
     "output_type": "stream",
     "text": [
      "Word2Vec(vocab=56057, size=50, alpha=0.025)\n"
     ]
    }
   ],
   "source": [
    "# load model\n",
    "new_model = Word2Vec.load('wordEmbedding.bin')\n",
    "print(new_model)"
   ]
  },
  {
   "cell_type": "code",
   "execution_count": 21,
   "metadata": {},
   "outputs": [
    {
     "name": "stdout",
     "output_type": "stream",
     "text": [
      "[-0.2347924   1.1186985   0.41828752 -0.37774304  0.3121661  -0.45732996\n",
      " -0.6382701  -0.37722376 -0.17755808  0.06340855  0.32071862  0.69021606\n",
      "  0.67575973  0.9935842   0.04194497 -0.27773052 -0.34230414  0.48960048\n",
      " -0.395326    0.23937488  0.77304846  0.591793   -0.10864463  0.22120355\n",
      "  0.17548732  0.29081225  0.9283681  -0.4944495   0.31244633 -0.7589067\n",
      " -0.6653945   0.38511175 -0.6888573  -0.9050279  -0.6820038   0.6017311\n",
      " -0.11863469  0.2441609   0.87262064  0.22821684 -0.08261462 -0.01603655\n",
      "  0.596443   -0.41784778 -0.19960271 -0.14267965  0.5011004   0.08803952\n",
      "  0.28051576 -0.35547236]\n"
     ]
    },
    {
     "name": "stderr",
     "output_type": "stream",
     "text": [
      "/Users/rajnishechauhan/anaconda/envs/dl_env/lib/python3.6/site-packages/ipykernel_launcher.py:2: DeprecationWarning: Call to deprecated `__getitem__` (Method will be removed in 4.0.0, use self.wv.__getitem__() instead).\n",
      "  \n"
     ]
    }
   ],
   "source": [
    "# access vector for one word\n",
    "print(wordEmbedding['take'])"
   ]
  },
  {
   "cell_type": "code",
   "execution_count": 22,
   "metadata": {},
   "outputs": [],
   "source": [
    "# Loopping word list and print vector\n",
    "#for i, word in enumerate(words):\n",
    "#        print(word)"
   ]
  },
  {
   "cell_type": "code",
   "execution_count": 23,
   "metadata": {},
   "outputs": [
    {
     "name": "stdout",
     "output_type": "stream",
     "text": [
      "[-0.2347924   1.1186985   0.41828752 -0.37774304  0.3121661  -0.45732996\n",
      " -0.6382701  -0.37722376 -0.17755808  0.06340855  0.32071862  0.69021606\n",
      "  0.67575973  0.9935842   0.04194497 -0.27773052 -0.34230414  0.48960048\n",
      " -0.395326    0.23937488  0.77304846  0.591793   -0.10864463  0.22120355\n",
      "  0.17548732  0.29081225  0.9283681  -0.4944495   0.31244633 -0.7589067\n",
      " -0.6653945   0.38511175 -0.6888573  -0.9050279  -0.6820038   0.6017311\n",
      " -0.11863469  0.2441609   0.87262064  0.22821684 -0.08261462 -0.01603655\n",
      "  0.596443   -0.41784778 -0.19960271 -0.14267965  0.5011004   0.08803952\n",
      "  0.28051576 -0.35547236]\n"
     ]
    },
    {
     "name": "stderr",
     "output_type": "stream",
     "text": [
      "/Users/rajnishechauhan/anaconda/envs/dl_env/lib/python3.6/site-packages/ipykernel_launcher.py:1: DeprecationWarning: Call to deprecated `__getitem__` (Method will be removed in 4.0.0, use self.wv.__getitem__() instead).\n",
      "  \"\"\"Entry point for launching an IPython kernel.\n"
     ]
    }
   ],
   "source": [
    "print(wordEmbedding['take'][0:50])"
   ]
  },
  {
   "cell_type": "code",
   "execution_count": 24,
   "metadata": {},
   "outputs": [],
   "source": [
    "from gensim.models import FastText"
   ]
  },
  {
   "cell_type": "code",
   "execution_count": 25,
   "metadata": {},
   "outputs": [],
   "source": [
    "ft_model = FastText(wordList, \n",
    "                    size=100, window=5, min_count=150, workers=4, min_n=3, max_n=10)\n",
    " "
   ]
  },
  {
   "cell_type": "code",
   "execution_count": 26,
   "metadata": {},
   "outputs": [
    {
     "name": "stdout",
     "output_type": "stream",
     "text": [
      "[-0.7780065   0.32069457 -0.12732904 -0.4515518   0.27398494 -0.5020156\n",
      " -0.10635569  0.81005025  0.2319681   0.08826911 -0.09678438 -0.2074017\n",
      "  0.7575435  -0.40152237  1.4226105   0.22546248  0.18468755  0.34498173\n",
      "  0.5472688   1.7053825   0.5012753  -0.03414404  0.5285981   0.7456925\n",
      " -0.0386517  -0.14223947  0.13542672 -0.63692874  0.5995416  -1.1195236\n",
      " -0.06293065  0.11995494  0.01778017 -0.4697191   0.4444246  -0.09075744\n",
      "  0.14146084 -0.52895176 -1.0197843   0.5148712   0.60023314 -0.3931349\n",
      "  0.10265117  0.06509017 -0.898923    0.02804614 -0.20902991 -0.39285862\n",
      "  0.5515388   1.233598  ]\n"
     ]
    },
    {
     "name": "stderr",
     "output_type": "stream",
     "text": [
      "/Users/rajnishechauhan/anaconda/envs/dl_env/lib/python3.6/site-packages/ipykernel_launcher.py:1: DeprecationWarning: Call to deprecated `__getitem__` (Method will be removed in 4.0.0, use self.wv.__getitem__() instead).\n",
      "  \"\"\"Entry point for launching an IPython kernel.\n"
     ]
    }
   ],
   "source": [
    "print(ft_model['take'][0:50])"
   ]
  },
  {
   "cell_type": "code",
   "execution_count": 27,
   "metadata": {},
   "outputs": [
    {
     "name": "stdout",
     "output_type": "stream",
     "text": [
      "[-0.13414288 -0.13399534  0.24249792 -0.38861725 -0.05141604 -0.05014688\n",
      "  0.1912566   0.06123102 -0.4168198   0.44029903  0.546172   -0.2671113\n",
      "  0.17931432  0.0679967   0.671987   -0.49928567  0.03890722 -0.13050611\n",
      " -0.287438    0.00236     0.03174296 -0.47403964 -0.17710821  0.39521155\n",
      " -0.02202271 -0.314702   -0.03902765 -0.19308357 -0.80539244 -0.01901753\n",
      "  0.14737679  0.16516711  0.06411691  0.11394914  0.31225517 -0.06208961\n",
      " -0.04898179  0.47130337  0.44405016  0.3255633   0.23745258 -0.47800305\n",
      "  0.39748338  0.02621536  0.28673849  0.14664975  0.03948073  0.16221566\n",
      " -0.19017224  0.35434183 -0.18804748 -0.00974297 -0.40617046  0.14020526\n",
      " -0.06111392  0.41443586 -0.23593503  0.429503    0.54286414 -0.2826986\n",
      " -0.16565154  0.08020422  0.02364376 -0.10810997  0.19682181  0.15415296\n",
      " -0.29082027 -0.00449179 -0.21414171  0.2405175   0.1778835   0.15518972\n",
      "  0.24540746 -0.08321059 -0.46746048  0.39664295 -0.21640293  0.44923738\n",
      " -0.00866578 -0.18082969  0.1011406   0.27459085 -0.4473816   0.40890527\n",
      " -0.5059557  -0.14079958  0.23806934 -0.25936434 -0.27538392 -0.1349085\n",
      " -0.43341792  0.46863008  0.6693328  -0.18487345  0.20381503 -0.31062192\n",
      "  0.09610331  0.36814854 -0.2339509  -0.7248959 ]\n"
     ]
    }
   ],
   "source": [
    "print(ft_model.wv['veniciaaaaaa'])"
   ]
  },
  {
   "cell_type": "code",
   "execution_count": 28,
   "metadata": {},
   "outputs": [
    {
     "name": "stdout",
     "output_type": "stream",
     "text": [
      "[('what', 0.9699999094009399), ('why', 0.8546369075775146), ('thing', 0.8273084163665771)]\n"
     ]
    },
    {
     "name": "stderr",
     "output_type": "stream",
     "text": [
      "/Users/rajnishechauhan/anaconda/envs/dl_env/lib/python3.6/site-packages/ipykernel_launcher.py:2: DeprecationWarning: Call to deprecated `most_similar` (Method will be removed in 4.0.0, use self.wv.most_similar() instead).\n",
      "  \n"
     ]
    }
   ],
   "source": [
    "# What?\n",
    "print(ft_model.most_similar('whaaaa', topn=3))"
   ]
  },
  {
   "cell_type": "raw",
   "metadata": {},
   "source": [
    "# Store them in a pandas dataframe\n",
    ">>> df_clean = pd.DataFrame({'clean': df2})\n",
    "# Create the list of list format of the custom corpus for gensim modeling \n",
    ">>> sent = [row.split(',') for row in df_clean['clean']]"
   ]
  },
  {
   "cell_type": "raw",
   "metadata": {},
   "source": [
    "with open('embed.txt', 'w') as f: \n",
    "    for i, word in enumerate(words):\n",
    "        f.writelines(\"{} {}\".format(word,wordEmbedding[word][0:50]))\n",
    "        f.write('\\n')"
   ]
  },
  {
   "cell_type": "code",
   "execution_count": 29,
   "metadata": {},
   "outputs": [],
   "source": [
    "import numpy as np"
   ]
  },
  {
   "cell_type": "code",
   "execution_count": 30,
   "metadata": {},
   "outputs": [],
   "source": [
    "#for x in wordEmbedding['take']:\n",
    "#    print(x)\n",
    "#    new = str(x) + \" \"\n",
    "    "
   ]
  },
  {
   "cell_type": "code",
   "execution_count": null,
   "metadata": {},
   "outputs": [],
   "source": []
  },
  {
   "cell_type": "code",
   "execution_count": 86,
   "metadata": {},
   "outputs": [],
   "source": [
    "def create_embedding_matrix(model,word_index, embedding_dim):\n",
    "    \n",
    "    vocab_size = len(word_index) + 1 \n",
    "    # Adding again 1 because of reserved 0 index\n",
    "    \n",
    "    embedding_matrix = np.zeros((vocab_size, embedding_dim))\n",
    "    #words = list(wordEmbedding.wv.vocab)\n",
    "    words = list(model.wv.vocab)\n",
    "    for i, word in enumerate(words):\n",
    "        if word in word_index:\n",
    "            idx = word_index[word]\n",
    "            embedding_matrix[idx] = np.array(model[word], dtype=np.float32)[:embedding_dim]\n",
    "    return embedding_matrix        "
   ]
  },
  {
   "cell_type": "code",
   "execution_count": 87,
   "metadata": {},
   "outputs": [],
   "source": [
    "import pandas as pd\n",
    "\n",
    "reviewDataPath = {'yelp': '../SentimentAnalysis/data/yelp_labelled.txt',\n",
    "                 'amazon': '../SentimentAnalysis/data/amazon_cells_labelled.txt',\n",
    "                 'imdb': '../SentimentAnalysis/data/imdb_labelled.txt'}\n",
    "reviewList = []\n",
    "\n",
    "for source, filepath in reviewDataPath.items():\n",
    "    df = pd.read_csv(filepath, names=['sentence', 'label'], sep='\\t')\n",
    "    # Add another column filled with the source name\n",
    "    df['source'] = source \n",
    "    reviewList.append(df)\n",
    "\n",
    "df = pd.concat(reviewList)\n",
    "\n",
    "from sklearn.model_selection import train_test_split\n",
    "\n",
    "review_yelp = df[df['source'] == 'yelp']\n",
    "\n",
    "sentences = review_yelp['sentence'].values\n",
    "\n",
    "y = review_yelp['label'].values\n",
    "\n",
    "sentences_train, sentences_test, y_train, y_test = train_test_split(\n",
    "    sentences, y, test_size=0.25, random_state=1000)\n",
    "\n"
   ]
  },
  {
   "cell_type": "code",
   "execution_count": 88,
   "metadata": {},
   "outputs": [],
   "source": [
    "from keras.preprocessing.text import Tokenizer\n",
    "\n",
    "tokenizer = Tokenizer(num_words=5000)\n",
    "\n",
    "tokenizer.fit_on_texts(sentences_train)\n",
    "\n",
    "X_train = tokenizer.texts_to_sequences(sentences_train)\n",
    "X_test = tokenizer.texts_to_sequences(sentences_test)\n",
    "\n",
    "vocab_size = len(tokenizer.word_index) + 1\n",
    "\n",
    "from keras.preprocessing.sequence import pad_sequences\n",
    "\n",
    "maxlen = 100\n",
    "\n",
    "X_train = pad_sequences(X_train, padding='post', maxlen=maxlen)\n",
    "X_test = pad_sequences(X_test, padding='post', maxlen=maxlen)\n"
   ]
  },
  {
   "cell_type": "code",
   "execution_count": 89,
   "metadata": {},
   "outputs": [
    {
     "data": {
      "text/plain": [
       "1747"
      ]
     },
     "execution_count": 89,
     "metadata": {},
     "output_type": "execute_result"
    }
   ],
   "source": [
    "vocab_size"
   ]
  },
  {
   "cell_type": "code",
   "execution_count": 90,
   "metadata": {},
   "outputs": [],
   "source": [
    "#embedding_dime = 50\n",
    "#embedding_matrix = create_embedding_matrix(wordEmbedding,vocab_size,\n",
    "#                                           tokenizer.word_index, \n",
    "#                                           embedding_dime)"
   ]
  },
  {
   "cell_type": "code",
   "execution_count": 91,
   "metadata": {},
   "outputs": [
    {
     "name": "stdout",
     "output_type": "stream",
     "text": [
      "[[ 0.          0.          0.          0.          0.          0.\n",
      "   0.          0.          0.          0.          0.          0.\n",
      "   0.          0.          0.          0.          0.          0.\n",
      "   0.          0.          0.          0.          0.          0.\n",
      "   0.          0.          0.          0.          0.          0.\n",
      "   0.          0.          0.          0.          0.          0.\n",
      "   0.          0.          0.          0.          0.          0.\n",
      "   0.          0.          0.          0.          0.          0.\n",
      "   0.          0.        ]\n",
      " [-0.10419714  0.27328858  0.3937189  -0.03750739  0.16883592 -0.10292502\n",
      "   0.10506625 -0.58146173  0.16001183  0.64196271  0.00335016  0.6706813\n",
      "   0.25909197  0.11256886 -0.51902592 -0.96585947 -0.60517204  0.44077405\n",
      "  -0.38255504 -0.14942504  0.09298538  0.56663585 -0.18034394  0.80477923\n",
      "  -0.33919799 -0.31773064  1.05933225 -0.57562786 -0.0027693  -0.46236601\n",
      "  -0.09070908 -0.04138818 -0.18531148 -0.74999517 -0.15925083  0.39020953\n",
      "   0.39096817  0.87134022  0.58257061 -0.54081666 -0.21942087  0.10424488\n",
      "   0.60781616  0.30922243 -0.00380372 -0.01789063  0.21602957  0.0209557\n",
      "  -0.02261503 -0.1289687 ]]\n"
     ]
    }
   ],
   "source": [
    "print(embedding_matrix[0:2])"
   ]
  },
  {
   "cell_type": "code",
   "execution_count": 92,
   "metadata": {},
   "outputs": [
    {
     "name": "stderr",
     "output_type": "stream",
     "text": [
      "[nltk_data] Downloading package punkt to\n",
      "[nltk_data]     /Users/rajnishechauhan/nltk_data...\n",
      "[nltk_data]   Package punkt is already up-to-date!\n"
     ]
    },
    {
     "data": {
      "text/plain": [
       "True"
      ]
     },
     "execution_count": 92,
     "metadata": {},
     "output_type": "execute_result"
    }
   ],
   "source": [
    "from nltk.tokenize import word_tokenize\n",
    "nltk.download('punkt')\n",
    "#tokenized_word=word_tokenize(text)\n",
    "#print(tokenized_word)"
   ]
  },
  {
   "cell_type": "code",
   "execution_count": 93,
   "metadata": {},
   "outputs": [
    {
     "data": {
      "text/plain": [
       "array(['The food was barely lukewarm, so it must have been sitting waiting for the server to bring it out to us.',\n",
       "       'Sorry, I will not be getting food from here anytime soon :(',\n",
       "       'Of all the dishes, the salmon was the best, but all were great.',\n",
       "       'The fries were not hot, and neither was my burger.',\n",
       "       \"In fact I'm going to round up to 4 stars, just because she was so awesome.\",\n",
       "       'Will go back next trip out.',\n",
       "       'This was my first crawfish experience, and it was delicious!',\n",
       "       \"I could barely stomach the meal, but didn't complain because it was a business lunch.\",\n",
       "       'A great way to finish a great.',\n",
       "       'Best service and food ever, Maria our server was so good and friendly she made our day.',\n",
       "       'Good food , good service .',\n",
       "       'My drink was never empty and he made some really great menu suggestions.',\n",
       "       'Be sure to order dessert, even if you need to pack it to-go - the tiramisu and cannoli are both to die for.',\n",
       "       'The food was excellent and service was very good.',\n",
       "       'All of the tapas dishes were delicious!',\n",
       "       'We loved the biscuits!!!',\n",
       "       'This place receives stars for their APPETIZERS!!!',\n",
       "       'So they performed.',\n",
       "       'The refried beans that came with my meal were dried out and crusty and the food was bland.',\n",
       "       'Good prices.',\n",
       "       'I have eaten here multiple times, and each time the food was delicious.',\n",
       "       'The service was poor and thats being nice.',\n",
       "       'Service was very prompt.', 'dont go here.',\n",
       "       'I immediately said I wanted to talk to the manager but I did not want to talk to the guy who was doing shots of fireball behind the bar.',\n",
       "       'The chips and salsa were really good, the salsa was very fresh.',\n",
       "       'The flair bartenders are absolutely amazing!',\n",
       "       \"I started this review with two stars, but I'm editing it to give it only one.\",\n",
       "       'I also decided not to send it back because our waitress looked like she was on the verge of having a heart attack.',\n",
       "       \"I wouldn't return.\", 'The fried rice was dry as well.',\n",
       "       'I got food poisoning here at the buffet.',\n",
       "       'First - the bathrooms at this location were dirty- Seat covers were not replenished & just plain yucky!!!',\n",
       "       'This place is pretty good, nice little vibe in the restaurant.',\n",
       "       'Food was delicious!',\n",
       "       'you can watch them preparing the delicious food!)',\n",
       "       'The nachos are a MUST HAVE!',\n",
       "       'Much better than the other AYCE sushi place I went to in Vegas.',\n",
       "       'Poor service, the waiter made me feel like I was stupid every time he came to the table.',\n",
       "       'The Han Nan Chicken was also very tasty.',\n",
       "       'I had the chicken Pho and it tasted very bland.',\n",
       "       \"I go to far too many places and I've never seen any restaurant that serves a 1 egg breakfast, especially for $4.00.\",\n",
       "       'Sauce was tasteless.',\n",
       "       'The poor batter to meat ratio made the chicken tenders very unsatisfying.',\n",
       "       'Needless to say, we will never be back here again.',\n",
       "       'But the service was beyond bad.',\n",
       "       'The jalapeno bacon is soooo good.',\n",
       "       'The pancake was also really good and pretty large at that.',\n",
       "       'Service is perfect and the family atmosphere is nice to see.',\n",
       "       'Pretty awesome place.',\n",
       "       'Gave up trying to eat any of the crust (teeth still sore).',\n",
       "       'This place is hands-down one of the best places to eat in the Phoenix metro area.',\n",
       "       'The waitresses are very friendly.',\n",
       "       'Good service, very clean, and inexpensive, to boot!',\n",
       "       'The inside is really quite nice and very clean.',\n",
       "       \"Honeslty it didn't taste THAT fresh.)\",\n",
       "       'I had strawberry tea, which was good.',\n",
       "       \"It wasn't busy at all and now we know why.\",\n",
       "       \"I just don't know how this place managed to served the blandest food I have ever eaten when they are preparing Indian cuisine.\",\n",
       "       'Service stinks here!',\n",
       "       'The best place to go for a tasty bowl of Pho!',\n",
       "       'After one bite, I was hooked.', 'Highly recommended.',\n",
       "       \"Point your finger at any item on the menu, order it and you won't be disappointed.\",\n",
       "       'The vanilla ice cream was creamy and smooth while the profiterole (choux) pastry was fresh enough.',\n",
       "       \"I'll definitely be in soon again.\",\n",
       "       \"Sadly, Gordon Ramsey's Steak is a place we shall sharply avoid during our next trip to Vegas.\",\n",
       "       'I could eat their bruschetta all day it is devine.',\n",
       "       'Wow very spicy but delicious.',\n",
       "       'Great place to eat, reminds me of the little mom and pop shops in the San Francisco Bay Area.',\n",
       "       'The descriptions said \"yum yum sauce\" and another said \"eel sauce\", yet another said \"spicy mayo\"...well NONE of the rolls had sauces on them.',\n",
       "       'OMG I felt like I had never eaten Thai food until this dish.',\n",
       "       'Every time I eat here, I see caring teamwork to a professional degree.',\n",
       "       'How awesome is that.',\n",
       "       \"Perhaps I caught them on an off night judging by the other reviews, but I'm not inspired to go back.\",\n",
       "       'And the beans and rice were mediocre at best.',\n",
       "       'The seafood was fresh and generous in portion.',\n",
       "       'walked in and the place smelled like an old grease trap and only 2 others there eating.',\n",
       "       'I consider this theft.', 'Very friendly staff.',\n",
       "       'The burger had absolutely no flavor - the meat itself was totally bland, the burger was overcooked and there was no charcoal flavor.',\n",
       "       'After two I felt disgusting.', \"I can't wait to go back.\",\n",
       "       'This place is disgusting!',\n",
       "       \"I've lived here since 1979 and this was the first (and last) time I've stepped foot into this place.\",\n",
       "       'My sashimi was poor quality being soggy and tasteless.',\n",
       "       'Reasonably priced also!',\n",
       "       \"Hard to judge whether these sides were good because we were grossed out by the melted styrofoam and didn't want to eat it for fear of getting sick.\",\n",
       "       'I just wanted to leave.', 'What a great double cheeseburger!',\n",
       "       'What I really like there is the crepe station.',\n",
       "       'To my disbelief, each dish qualified as the worst version of these foods I have ever tasted.',\n",
       "       'However, my recent experience at this particular location was not so good.',\n",
       "       'Not a weekly haunt, but definitely a place to come back to every once in a while.',\n",
       "       'say bye bye to your tip lady!',\n",
       "       'I ordered the Lemon raspberry ice cocktail which was also incredible.',\n",
       "       'Stopped by this place while in Madison for the Ironman, very friendly, kind staff.',\n",
       "       'Great place fo take out or eat in.',\n",
       "       'The staff is super nice and very quick even with the crazy crowds of the downtown juries, lawyers, and court staff.',\n",
       "       'At least think to refill my water before I struggle to wave you over for 10 minutes.',\n",
       "       'I will not return.',\n",
       "       \"These are the nicest restaurant owners I've ever come across.\",\n",
       "       'There is nothing authentic about this place.',\n",
       "       'Their chow mein is so good!',\n",
       "       'Service was slow and not attentive.',\n",
       "       'The cow tongue and cheek tacos are amazing.',\n",
       "       'We were sat right on time and our server from the get go was FANTASTIC!',\n",
       "       'Def coming back to bowl next time',\n",
       "       'Both of them were truly unbelievably good, and I am so glad we went back.',\n",
       "       'An extensive menu provides lots of options for breakfast.',\n",
       "       'the staff is friendly and the joint is always clean.',\n",
       "       \"It really is impressive that the place hasn't closed down.\",\n",
       "       'So flavorful and has just the perfect amount of heat.',\n",
       "       \"I probably won't be coming back here.\",\n",
       "       'There is so much good food in Vegas that I feel cheated for wasting an eating opportunity by going to Rice and Company.',\n",
       "       'I have been here several times in the past, and the experience has always been great.',\n",
       "       'No one at the table thought the food was above average or worth the wait that we had for it.',\n",
       "       'My breakfast was perpared great, with a beautiful presentation of 3 giant slices of Toast, lightly dusted with powdered sugar.',\n",
       "       'Overall, a great experience.',\n",
       "       'Anyway, this FS restaurant has a wonderful breakfast/lunch.',\n",
       "       'Never been to Hard Rock Casino before, WILL NEVER EVER STEP FORWARD IN IT AGAIN!',\n",
       "       'Special thanks to Dylan T. for the recommendation on what to order :) All yummy for my tummy.',\n",
       "       'We ordered some old classics and some new dishes after going there a few times and were sorely disappointed with everything.',\n",
       "       \"If it were possible to give them zero stars, they'd have it.\",\n",
       "       'My husband and I ate lunch here and were very disappointed with the food and service.',\n",
       "       'Ambience is perfect.',\n",
       "       'Cooked to perfection and the service was impeccable.',\n",
       "       'DELICIOUS!!', 'Kind of hard to mess up a steak but they did.',\n",
       "       'Disappointing experience.',\n",
       "       'We could not believe how dirty the oysters were!',\n",
       "       'The patio seating was very comfortable.',\n",
       "       'If you look for authentic Thai food, go else where.',\n",
       "       'Probably not in a hurry to go back.', 'Crust is not good.',\n",
       "       \"Maybe if they weren't cold they would have been somewhat edible.\",\n",
       "       'I left with a stomach ache and felt sick the rest of the day.',\n",
       "       \"I'd love to go back.\", 'Tasted like dirt.', 'It was not good.',\n",
       "       'The worst was the salmon sashimi.', 'Will not be back.',\n",
       "       'Nothing special.', 'This is a disgrace.',\n",
       "       'I want to first say our server was great and we had perfect service.',\n",
       "       'The only thing I did like was the prime rib and dessert section.',\n",
       "       'Great pork sandwich.',\n",
       "       'That just SCREAMS \"LEGIT\" in my book...somethat\\'s also pretty rare here in Vegas.',\n",
       "       'The Wife hated her meal (coconut shrimp), and our friends really did not enjoy their meals, either.',\n",
       "       'This place has a lot of promise but fails to deliver.',\n",
       "       \"Furthermore, you can't even find hours of operation on the website!\",\n",
       "       'I\\'m so happy to be here!!!\"',\n",
       "       'Talk about great customer service of course we will be back.',\n",
       "       \"Definitely a turn off for me & i doubt I'll be back unless someone else is buying.\",\n",
       "       '(The bathroom is just next door and very nice.)',\n",
       "       'A lady at the table next to us found a live green caterpillar In her salad.',\n",
       "       'The desserts were a bit strange.',\n",
       "       'Pricing is a bit of a concern at Mellow Mushroom.',\n",
       "       \"Once your food arrives it's meh.\",\n",
       "       'My fiancé and I came in the middle of the day and we were greeted and seated right away.',\n",
       "       'He came running after us when he realized my husband had left his sunglasses on the table.',\n",
       "       'Waitress was a little slow in service.',\n",
       "       'Hot dishes are not hot, cold dishes are close to room temp.I watched staff prepare food with BARE HANDS, no gloves.Everything is deep fried in oil.',\n",
       "       'My ribeye steak was cooked perfectly and had great mesquite flavor.',\n",
       "       'Then our food came out, disappointment ensued.',\n",
       "       'He also came back to check on us regularly, excellent service.',\n",
       "       'My gyro was basically lettuce only.',\n",
       "       'Eew... This location needs a complete overhaul.',\n",
       "       'Very good, though!',\n",
       "       \"I'm probably one of the few people to ever go to Ians and not like it.\",\n",
       "       'Very bad Experience!',\n",
       "       'It lacked flavor, seemed undercooked, and dry.',\n",
       "       'We recently witnessed her poor quality of management towards other guests as well.',\n",
       "       'The meat was pretty dry, I had the sliced brisket and pulled pork.',\n",
       "       'I ate there twice on my last visit, and especially enjoyed the salmon salad.',\n",
       "       'They could serve it with just the vinaigrette and it may make for a better overall dish, but it was still very good.',\n",
       "       \"It's a great place and I highly recommend it.\",\n",
       "       'This place is like Chipotle, but BETTER.',\n",
       "       'Best tacos in town by far!!', 'Spend your money elsewhere.',\n",
       "       'If you love authentic Mexican food and want a whole bunch of interesting, yet delicious meats to choose from, you need to try this place.',\n",
       "       'I swung in to give them a try but was deeply disappointed.',\n",
       "       'They really want to make your experience a good one.',\n",
       "       'Try them in the airport to experience some tasty food and speedy, friendly service.',\n",
       "       \"Now the burgers aren't as good, the pizza which used to be amazing is doughy and flavorless.\",\n",
       "       'Loved it...friendly servers, great food, wonderful and imaginative menu.',\n",
       "       'The service here leaves a lot to be desired.',\n",
       "       'The grilled chicken was so tender and yellow from the saffron seasoning.',\n",
       "       'Check it out.',\n",
       "       \"We've have gotten a much better service from the pizza place next door than the services we received from this restaurant.\",\n",
       "       'Wow... Loved this place.',\n",
       "       'I ordered Albondigas soup - which was just warm - and tasted like tomato soup with frozen meatballs.',\n",
       "       'Great steak, great sides, great wine, amazing desserts.',\n",
       "       'Everyone is treated equally special.',\n",
       "       'Just spicy enough.. Perfect actually.',\n",
       "       'Ample portions and good prices.',\n",
       "       \"Maybe it's just their Vegetarian fare, but I've been twice and I thought it was average at best.\",\n",
       "       'Took an hour to get our food only 4 tables in restaurant my food was Luke warm, Our sever was running around like he was totally overwhelmed.',\n",
       "       'The service was outshining & I definitely recommend the Halibut.',\n",
       "       'Go To Place for Gyros.', 'This place is amazing!',\n",
       "       \"I've never been treated so bad.\",\n",
       "       'When my order arrived, one of the gyros was missing.',\n",
       "       'this was a different cut than the piece the other day but still wonderful and tender s well as well flavored.',\n",
       "       'The servers went back and forth several times, not even so much as an \"Are you being helped?\"',\n",
       "       'I was VERY disappointed!!', 'The management is rude.',\n",
       "       'And the drinks are WEAK, people!',\n",
       "       'We had a group of 70+ when we claimed we would only have 40 and they handled us beautifully.',\n",
       "       'An excellent new restaurant by an experienced Frenchman.',\n",
       "       \"Ryan's Bar is definitely one Edinburgh establishment I won't be revisiting.\",\n",
       "       \"We aren't ones to make a scene at restaurants but I just don't get it...definitely lost the love after this one!\",\n",
       "       'I was proven dead wrong by this sushi bar, not only because the quality is great, but the service is fast and the food, impeccable.',\n",
       "       'The bus boy on the other hand was so rude.',\n",
       "       'My husband said she was very rude... did not even apologize for the bad food or anything.',\n",
       "       'She ordered a toasted English muffin that came out untoasted.',\n",
       "       'I was so insulted.', 'Never going back.',\n",
       "       'We are so glad we found this place.',\n",
       "       'For that price I can think of a few place I would have much rather gone.',\n",
       "       \"I wasn't really impressed with Strip Steak.\",\n",
       "       'Nice, spicy and tender.', 'I give it 2 thumbs down',\n",
       "       'Not much seafood and like 5 strings of pasta at the bottom.',\n",
       "       'Their daily specials are always a hit with my group.',\n",
       "       'OMG, the food was delicioso!',\n",
       "       'This wonderful experience made this place a must-stop whenever we are in town again.',\n",
       "       'Anyway, I do not think i will go back there.',\n",
       "       'I would avoid this place if you are staying in the Mirage.',\n",
       "       'Join the club and get awesome offers via email.',\n",
       "       \"I can assure you that you won't be disappointed.\",\n",
       "       'I seriously cannot believe that the owner has so many unexperienced employees that all are running around like chickens with their heads cut off.',\n",
       "       'I had high hopes for this place since the burgers are cooked over a charcoal grill, but unfortunately the taste fell flat, way flat.',\n",
       "       'The selection on the menu was great and so were the prices.',\n",
       "       'Hands down my favorite Italian restaurant!',\n",
       "       \"I recently tried Caballero's and I have been back every week since!\",\n",
       "       \"When I'm on this side of town, this will definitely be a spot I'll hit up again!\",\n",
       "       'Also there are combos like a burger, fries, and beer for 23 which is a decent deal.',\n",
       "       'Unfortunately, we must have hit the bakery on leftover day because everything we ordered was STALE.',\n",
       "       'This is was due to the fact that it took 20 minutes to be acknowledged, then another 35 minutes to get our food...and they kept forgetting things.',\n",
       "       'The ambiance here did not feel like a buffet setting, but more of a douchey indoor garden for tea and biscuits.',\n",
       "       'Terrible management.',\n",
       "       \"That's right....the red velvet cake.....ohhh this stuff is so good.\",\n",
       "       'This is an unbelievable BARGAIN!',\n",
       "       'They had a toro tartare with a cavier that was extraordinary and I liked the thinly sliced wagyu with white truffle.',\n",
       "       'The only downside is the service.',\n",
       "       'All the bread is made in-house!',\n",
       "       \"I don't know what kind it is but they have the best iced tea.\",\n",
       "       'Their menu is diverse, and reasonably priced.',\n",
       "       \"I gave it 5 stars then, and I'm giving it 5 stars now.\",\n",
       "       'Appetite instantly gone.',\n",
       "       'If you want healthy authentic or ethic food, try this place.',\n",
       "       \"I find wasting food to be despicable, but this just wasn't food.\",\n",
       "       'We literally sat there for 20 minutes with no one asking to take our order.',\n",
       "       \"I'm not sure how long we stood there but it was long enough for me to begin to feel awkwardly out of place.\",\n",
       "       'I loved the grilled pizza, reminded me of legit Italian pizza.',\n",
       "       'Best tater tots in the southwest.',\n",
       "       \"The only good thing was our waiter, he was very helpful and kept the bloddy mary's coming.\",\n",
       "       \"And considering the two of us left there very full and happy for about $20, you just can't go wrong.\",\n",
       "       'Good Service-check!',\n",
       "       'To summarize... the food was incredible, nay, transcendant... but nothing brings me joy quite like the memory of the pneumatic condiment dispenser.',\n",
       "       'Kids pizza is always a hit too with lots of great side dish options for the kiddos!',\n",
       "       'I really enjoyed eating here.', 'Service is also cute.',\n",
       "       'This one is simply a disappointment.',\n",
       "       'The croutons also taste homemade which is an extra plus.',\n",
       "       \"The shower area is outside so you can only rinse, not take a full shower, unless you don't mind being nude for everyone to see!\",\n",
       "       'Waitress was good though!',\n",
       "       'Love this place, hits the spot when I want something healthy but not lacking in quantity or flavor.',\n",
       "       'What did bother me, was the slow service.',\n",
       "       \"It's NOT hard to make a decent hamburger.\",\n",
       "       'Now the pizza itself was good the peanut sauce was very tasty.',\n",
       "       \"The whole experience was underwhelming, and I think we'll just go to Ninja Sushi next time.\",\n",
       "       'I have watched their prices inflate, portions get smaller and management attitudes grow rapidly!',\n",
       "       'Favorite place in town for shawarrrrrrma!!!!!!',\n",
       "       'This place is great!!!!!!!!!!!!!!',\n",
       "       \"I'll take my business dinner dollars elsewhere.\",\n",
       "       'Google mediocre and I imagine Smashburger will pop up.',\n",
       "       \"Overall I wasn't very impressed with Noca.\",\n",
       "       'The place was not clean and the food oh so stale!',\n",
       "       'He was terrible!',\n",
       "       'Delicious NYC bagels, good selections of cream cheese, real Lox with capers even.',\n",
       "       'Our server was very nice and attentive as were the other serving staff.',\n",
       "       'On the good side, the staff was genuinely pleasant and enthusiastic - a real treat.',\n",
       "       'We ordered the duck rare and it was pink and tender on the inside with a nice char on the outside.',\n",
       "       'The staff are great, the ambiance is great.',\n",
       "       'Four stars for the food & the guy in the blue shirt for his great vibe & still letting us in to eat !',\n",
       "       'This was like the final blow!',\n",
       "       'They also have the best cheese crisp in town.',\n",
       "       \"This isn't a small family restaurant, this is a fine dining establishment.\",\n",
       "       'The service was extremely slow.',\n",
       "       'The chefs were friendly and did a good job.',\n",
       "       \"It's like a really sexy party in your mouth, where you're outrageously flirting with the hottest person at the party.\",\n",
       "       'WILL NEVER EVER GO BACK AND HAVE TOLD MANY PEOPLE WHAT HAD HAPPENED.',\n",
       "       'This hole in the wall has great Mexican street tacos, and friendly staff.',\n",
       "       'Great Pizza and Salads!',\n",
       "       \"I went to Bachi Burger on a friend's recommendation and was not disappointed.\",\n",
       "       'Service was fantastic.',\n",
       "       'Not good by any stretch of the imagination.',\n",
       "       \"At least 40min passed in between us ordering and the food arriving, and it wasn't that busy.\",\n",
       "       \"Horrible - don't waste your time and money.\",\n",
       "       \"If the food isn't bad enough for you, then enjoy dealing with the world's worst/annoying drunk people.\",\n",
       "       \"It shouldn't take 30 min for pancakes and eggs.\",\n",
       "       'Total letdown, I would much rather just go to the Camelback Flower Shop and Cartel Coffee.',\n",
       "       'The food came out at a good pace.',\n",
       "       'The pizza tasted old, super chewy in not a good way.',\n",
       "       'By this time our side of the restaurant was almost empty so there was no excuse.',\n",
       "       'the spaghetti is nothing special whatsoever.',\n",
       "       'The food was terrible.',\n",
       "       'I love the Pho and the spring rolls oh so yummy you have to try.',\n",
       "       \"Friend's pasta -- also bad, he barely touched it.\",\n",
       "       'As always the evening was wonderful and the food delicious!',\n",
       "       \"Won't ever go here again.\", \"We won't be going back.\",\n",
       "       'It was probably dirt.',\n",
       "       'My boyfriend tried the Mediterranean Chicken Salad and fell in love.',\n",
       "       'Very very fun chef.', \"You can't beat that.\",\n",
       "       'The staff is always super friendly and helpful, which is especially cool when you bring two small boys and a baby!',\n",
       "       \"I guess I should have known that this place would suck, because it is inside of the Excalibur, but I didn't use my common sense.\",\n",
       "       'Server did a great job handling our large rowdy table.',\n",
       "       'On three different occasions I asked for well done or medium well, and all three times I got the bloodiest piece of meat on my plate.',\n",
       "       'Love the margaritas, too!',\n",
       "       'My salad had a bland vinegrette on the baby greens and hearts of Palm.',\n",
       "       '-Drinks took close to 30 minutes to come out at one point.',\n",
       "       \"After all the rave reviews I couldn't wait to eat here......what a disappointment!\",\n",
       "       'We got sitting fairly fast, but, ended up waiting 40 minutes just to place our order, another 30 minutes before the food arrived.',\n",
       "       'If you stay in Vegas you must get breakfast here at least once.',\n",
       "       'The scallop dish is quite appalling for value as well.',\n",
       "       \"It's too bad the food is so damn generic.\",\n",
       "       'Always a great time at Dos Gringos!',\n",
       "       'I found this place by accident and I could not be happier.',\n",
       "       'Will never, ever go back.',\n",
       "       'Im in AZ all the time and now have my new spot.',\n",
       "       'The food is good.', 'Come hungry, leave happy and stuffed!',\n",
       "       'The chipolte ranch dipping sause was tasteless, seemed thin and watered down with no heat.',\n",
       "       'Sooooo good!!', \"I don't think we'll be going back anytime soon.\",\n",
       "       'All I have to say is the food was amazing!!!', 'Extremely Tasty!',\n",
       "       'Worse of all, he humiliated his worker right in front of me..Bunch of horrible name callings.',\n",
       "       'Service was fine and the waitress was friendly.',\n",
       "       'Best Buffet in town, for the price you cannot beat it.',\n",
       "       'I have been to very few places to eat that under no circumstances would I ever return to, and this tops the list.',\n",
       "       \"Owner's are really great people.!\",\n",
       "       'I always order from the vegetarian menu during dinner, which has a wide array of options to choose from.',\n",
       "       \"They will customize your order any way you'd like, my usual is Eggplant with Green Bean stir fry, love it!\",\n",
       "       'I liked the patio and the service was outstanding.',\n",
       "       \"The warm beer didn't help.\", 'An absolute must visit!',\n",
       "       'The atmosphere was great with a lovely duo of violinists playing songs we requested.',\n",
       "       'I love the decor with the Chinese calligraphy wall paper.',\n",
       "       '-My order was not correct.',\n",
       "       'Delicious and I will absolutely be back!',\n",
       "       'All in all an excellent restaurant highlighted by great service, a unique menu, and a beautiful setting.',\n",
       "       'I was mortified.', 'Give it a try, you will be happy you did.',\n",
       "       'Restaurant is always full but never a wait.',\n",
       "       'What happened next was pretty....off putting.',\n",
       "       'The one down note is the ventilation could use some upgrading.',\n",
       "       'Terrible service!',\n",
       "       'I was shocked because no signs indicate cash only.',\n",
       "       'I can say that the desserts were yummy.',\n",
       "       \"I also had to taste my Mom's multi-grain pumpkin pancakes with pecan butter and they were amazing, fluffy, and delicious!\",\n",
       "       'A FLY was in my apple juice.. A FLY!!!!!!!!',\n",
       "       'The sergeant pepper beef sandwich with auju sauce is an excellent sandwich as well.',\n",
       "       'It was way over fried.', \"We'd definitely go back here again.\",\n",
       "       'It was a pale color instead of nice and char and has NO flavor.',\n",
       "       \"For about 10 minutes, we we're waiting for her salad when we realized that it wasn't coming any time soon.\",\n",
       "       'Went for lunch - service was slow.',\n",
       "       \"Today is the second time I've been to their lunch buffet and it was pretty good.\",\n",
       "       \"REAL sushi lovers, let's be honest - Yama is not that good.\",\n",
       "       'My side Greek salad with the Greek dressing was so tasty, and the pita and hummus was very refreshing.',\n",
       "       \"Ordered burger rare came in we'll done.\",\n",
       "       'Only Pros : Large seating area/ Nice bar area/ Great simple drink menu/ The BEST brick oven pizza with homemade dough!',\n",
       "       'I asked multiple times for the wine list and after some time of being ignored I went to the hostess and got one myself.',\n",
       "       'Any grandmother can make a roasted chicken better than this one.',\n",
       "       'The selection of food was not the best.',\n",
       "       'the potatoes were great and so was the biscuit.',\n",
       "       'In an interesting part of town, this place is amazing.',\n",
       "       'The steaks are all well trimmed and also perfectly cooked.',\n",
       "       'It took over 30 min to get their milkshake, which was nothing more than chocolate milk.',\n",
       "       'The Heart Attack Grill in downtown Vegas is an absolutely flat-lined excuse for a restaurant.',\n",
       "       'Lastly, the mozzarella sticks, they were the best thing we ordered.',\n",
       "       'The server was very negligent of our needs and made us feel very unwelcome... I would not suggest this place!',\n",
       "       \"The waiter wasn't helpful or friendly and rarely checked on us.\",\n",
       "       'Unfortunately, it only set us up for disapppointment with our entrees.',\n",
       "       'I had heard good things about this place, but it exceeding every hope I could have dreamed of.',\n",
       "       'Before I go in to why I gave a 1 star rating please know that this was my third time eating at Bachi burger before writing a review.',\n",
       "       'This place is awesome if you want something light and healthy during the summer.',\n",
       "       'The classic Maine Lobster Roll was fantastic.',\n",
       "       \"Nicest Chinese restaurant I've been in a while.\", 'A good time!',\n",
       "       'Definitely not worth the $3 I paid.',\n",
       "       \"Worst food/service I've had in a while.\",\n",
       "       'WAAAAAAyyyyyyyyyy over rated is all I am saying.',\n",
       "       'This place is not quality sushi, it is not a quality restaurant.',\n",
       "       \"The servers are not pleasant to deal with and they don't always honor Pizza Hut coupons.\",\n",
       "       'If you want to wait for mediocre food and downright terrible service, then this is the place for you.',\n",
       "       'Have been going since 2007 and every meal has been awesome!!',\n",
       "       \"The ambiance isn't much better.\",\n",
       "       'Their steaks are 100% recommended!', 'Food was really boring.',\n",
       "       'Lordy, the Khao Soi is a dish that is not to be missed for curry lovers!',\n",
       "       \"We thought you'd have to venture further away to get good sushi, but this place really hit the spot that night.\",\n",
       "       'I probably would not go here again.',\n",
       "       \"I can't tell you how disappointed I was.\",\n",
       "       'So in a nutshell: 1) The restaraunt smells like a combination of a dirty fish market and a sewer.',\n",
       "       'The sweet potato tots were good but the onion rings were perfection or as close as I have had.',\n",
       "       'It sure does beat the nachos at the movies but I would expect a little bit more coming from a restaurant.',\n",
       "       \"Coming here is like experiencing an underwhelming relationship where both parties can't wait for the other person to ask to break up.\",\n",
       "       'This place has it!', 'It was absolutely amazing.',\n",
       "       \"I probably won't be back, to be honest.\",\n",
       "       'They were golden-crispy and delicious.',\n",
       "       'I had the mac salad and it was pretty bland so I will not be getting that again.',\n",
       "       'The manager was the worst.',\n",
       "       'I really enjoyed Crema Café before they expanded; I even told friends they had the BEST breakfast.',\n",
       "       'Your servers suck, wait, correction, our server Heimer sucked.',\n",
       "       'Soggy and not good.', 'The food was terrible.', 'I LOVED it!',\n",
       "       'The Greek dressing was very creamy and flavorful.',\n",
       "       'Great place to relax and have an awesome burger and beer.',\n",
       "       \"Definitely worth venturing off the strip for the pork belly, will return next time I'm in Vegas.\",\n",
       "       'The staff was very attentive.', 'And service was super friendly.',\n",
       "       \"I've had better, not only from dedicated boba tea spots, but even from Jenni Pho.\",\n",
       "       'Great atmosphere, friendly and fast service.',\n",
       "       'This is one of the best bars with food in Vegas.',\n",
       "       'The food was very good.',\n",
       "       'Del Taco is pretty nasty and should be avoided if possible.',\n",
       "       'It was a bit too sweet, not really spicy enough, and lacked flavor.',\n",
       "       \"The place was fairly clean but the food simply wasn't worth it.\",\n",
       "       'This is a really fantastic Thai restaurant which is definitely worth a visit.',\n",
       "       'Seriously flavorful delights, folks.', 'It was awesome.',\n",
       "       'This is a great restaurant at the Mandalay Bay.',\n",
       "       'We also ordered the spinach and avocado salad; the ingredients were sad and the dressing literally had zero taste.',\n",
       "       'One of the few places in Phoenix that I would definately go back to again .',\n",
       "       'I would not recommend this place.', 'Everything was gross.',\n",
       "       'The last 3 times I had lunch here has been bad.',\n",
       "       \"Great Subway, in fact it's so good when you come here every other Subway will not meet your expectations.\",\n",
       "       'Just as good as when I had it more than a year ago!',\n",
       "       'Penne vodka excellent!',\n",
       "       'a drive thru means you do not want to wait around for half an hour for your food, but somehow when we end up going here they make us wait and wait.',\n",
       "       \"As much as I'd like to go back, I can't get passed the atrocious service and will never return.\",\n",
       "       'The pan cakes everyone are raving about taste like a sugary disaster tailored to the palate of a six year old.',\n",
       "       'He deserves 5 stars.',\n",
       "       'Food was good, service was good, Prices were good.',\n",
       "       'We will not be coming back.',\n",
       "       'The chicken dishes are OK, the beef is like shoe leather.',\n",
       "       'The ambiance was incredible.',\n",
       "       'The only reason to eat here would be to fill up before a night of binge drinking just to get some carbs in your stomach.',\n",
       "       'We watched our waiter pay a lot more attention to other tables and ignore us.',\n",
       "       'The chips and sals a here is amazing!!!!!!!!!!!!!!!!!!!',\n",
       "       'Everything on the menu is terrific and we were also thrilled that they made amazing accommodations for our vegetarian daughter.',\n",
       "       'The block was amazing.',\n",
       "       'The food is delicious and just spicy enough, so be sure to ask for spicier if you prefer it that way.',\n",
       "       \"I won't be back.\",\n",
       "       'The ripped banana was not only ripped, but petrified and tasteless.',\n",
       "       'The food is very good for your typical bar food.',\n",
       "       'We waited for forty five minutes in vain.',\n",
       "       'But then they came back cold.',\n",
       "       'We got the food and apparently they have never heard of salt and the batter on the fish was chewy.',\n",
       "       'They have great dinners.', 'The service was a bit lacking.',\n",
       "       'We enjoy their pizza and brunch.', 'I was seated immediately.',\n",
       "       'Service sucks.', 'Spend your money and time some place else.',\n",
       "       \"Then, as if I hadn't wasted enough of my life there, they poured salt in the wound by drawing out the time it took to bring the check.\",\n",
       "       'Our server was very nice, and even though he looked a little overwhelmed with all of our needs, he stayed professional and friendly until the end.',\n",
       "       'Not a single employee came out to see if we were OK or even needed a water refill once they finally served us our food.',\n",
       "       \"Probably never coming back, and wouldn't recommend it.\",\n",
       "       'I never come again.',\n",
       "       'Host staff were, for lack of a better word, BITCHES!',\n",
       "       'Your staff spends more time talking to themselves than me.',\n",
       "       'In summary, this was a largely disappointing dining experience.',\n",
       "       \"this is the worst sushi i have ever eat besides Costco's.\",\n",
       "       'After waiting an hour and being seated, I was not in the greatest of moods.',\n",
       "       \"The building itself seems pretty neat; the bathroom is pretty trippy, but I wouldn't eat here again.\",\n",
       "       'I dont think I will be back for a very long time.',\n",
       "       'The cashew cream sauce was bland and the vegetables were undercooked.',\n",
       "       'Although I very much liked the look and sound of this place, the actual experience was a bit disappointing.',\n",
       "       \"And the red curry had so much bamboo shoots and wasn't very tasty to me.\",\n",
       "       'This place lacked style!!',\n",
       "       'The sangria was about half of a glass wine full and was $12, ridiculous.',\n",
       "       'A greasy, unhealthy meal.',\n",
       "       'Today was my first taste of a Buldogis Gourmet Hot Dog and I have to tell you it was more than I ever thought possible.',\n",
       "       'The seasonal fruit was fresh white peach puree.',\n",
       "       'Boy was that sucker dry!!.', 'Food was below average.',\n",
       "       'The ambience is wonderful and there is music playing.',\n",
       "       'Not my thing.',\n",
       "       'Update.....went back for a second time and it was still just as amazing',\n",
       "       \"I live in the neighborhood so I am disappointed I won't be back here, because it is a convenient location.\",\n",
       "       \"Don't do it!!!!\",\n",
       "       'We waited an hour for what was a breakfast I could have done 100 times better at home.',\n",
       "       'This place deserves one star and 90% has to do with the food.',\n",
       "       'On the ground, right next to our table was a large, smeared, been-stepped-in-and-tracked-everywhere pile of green bird poop.',\n",
       "       'AVOID THIS ESTABLISHMENT!',\n",
       "       'This is one of the better buffets that I have been to.',\n",
       "       'Our waiter was very attentive, friendly, and informative.',\n",
       "       'If you want a sandwich just go to any Firehouse!!!!!',\n",
       "       'Shrimp- When I unwrapped it (I live only 1/2 a mile from Brushfire) it was literally ice cold.',\n",
       "       'We were promptly greeted and seated.',\n",
       "       \"I'm not really sure how Joey's was voted best hot dog in the Valley by readers of Phoenix Magazine.\",\n",
       "       \"My girlfriend's veal was very bad.\", 'No complaints!',\n",
       "       'The only redeeming quality of the restaurant was that it was very inexpensive.',\n",
       "       \"I promise they won't disappoint.\",\n",
       "       'Back to good BBQ, lighter fare, reasonable pricing and tell the public they are back to the old ways.',\n",
       "       'Omelets are to die for!',\n",
       "       'Bad day or not, I have a very low tolerance for rude customer service people, it is your job to be nice and polite, wash dishes otherwise!!',\n",
       "       'This greedy corporation will NEVER see another dime from me!',\n",
       "       'i felt insulted and disrespected, how could you talk and judge another human being like that?',\n",
       "       'This is my new fav Vegas buffet spot.',\n",
       "       'Despite how hard I rate businesses, its actually rare for me to give a 1 star.',\n",
       "       'The cocktails are all handmade and delicious.',\n",
       "       'My first visit to Hiro was a delight!',\n",
       "       'Ordered an appetizer and took 40 minutes and then the pizza another 10 minutes.',\n",
       "       \"I won't try going back there even if it's empty.\",\n",
       "       'The bartender was also nice.',\n",
       "       'I have never had such bland food which surprised me considering the article we read focused so much on their spices and flavor.',\n",
       "       'for 40 bucks a head, i really expect better food.',\n",
       "       'Dessert: Panna Cotta was amazing.', 'Those burgers were amazing.',\n",
       "       'It was attached to a gas station, and that is rarely a good sign.',\n",
       "       'The potato chip order was sad... I could probably count how many chips were in that box and it was probably around 12.',\n",
       "       'You cant go wrong with any of the food here.',\n",
       "       'Strike 2, who wants to be rushed.', \"You won't be disappointed.\",\n",
       "       'Tonight I had the Elk Filet special...and it sucked.',\n",
       "       'I would definitely recommend the wings as well as the pizza.',\n",
       "       'Not much flavor to them, and very poorly constructed.',\n",
       "       'Would not recommend to others.',\n",
       "       'I will not be eating there again.',\n",
       "       'The chicken was deliciously seasoned and had the perfect fry on the outside and moist chicken on the inside.',\n",
       "       'Food arrived quickly!',\n",
       "       'I got to enjoy the seafood salad, with a fabulous vinegrette.',\n",
       "       'Seafood was limited to boiled shrimp and crab legs but the crab legs definitely did not taste fresh.',\n",
       "       'For service, I give them no stars.',\n",
       "       'After I pulled up my car I waited for another 15 minutes before being acknowledged.',\n",
       "       'The food was delicious, our bartender was attentive and personable AND we got a great deal!',\n",
       "       'Waited 2 hours & never got either of our pizzas as many other around us who came in later did!',\n",
       "       'My friend loved the salmon tartar.',\n",
       "       'As a sushi lover avoid this place by all means.',\n",
       "       'I love their fries and their beans.',\n",
       "       'After 20 minutes wait, I got a table.', \"I'm not eating here!\",\n",
       "       'The vegetables are so fresh and the sauce feels like authentic Thai.',\n",
       "       'The pizza selections are good.', 'I think not again',\n",
       "       'The decor is nice, and the piano music soundtrack is pleasant.',\n",
       "       \"Level 5 spicy was perfect, where spice didn't over-whelm the soup.\",\n",
       "       'Overall, I was very disappointed with the quality of food at Bouchon.',\n",
       "       'It was just not a fun experience.',\n",
       "       'Tried to go here for lunch and it was a madhouse.',\n",
       "       \"They have horrible attitudes towards customers, and talk down to each one when customers don't enjoy their food.\",\n",
       "       \"Third, the cheese on my friend's burger was cold.\",\n",
       "       'Frozen pucks of disgust, with some of the worst people behind the register.',\n",
       "       'Damn good steak.',\n",
       "       \"It's close to my house, it's low-key, non-fancy, affordable prices, good food.\",\n",
       "       'As for the service, I thought it was good.',\n",
       "       'Great time - family dinner on a Sunday night.',\n",
       "       \"The only thing I wasn't too crazy about was their guacamole as I don't like it puréed.\",\n",
       "       'I *heart* this place.',\n",
       "       'It was extremely \"crumby\" and pretty tasteless.',\n",
       "       'This place is not worth your time, let alone Vegas.',\n",
       "       'What SHOULD have been a hilarious, yummy Christmas Eve dinner to remember was the biggest fail of the entire trip for us.',\n",
       "       'Everything was perfect the night we were in.',\n",
       "       'The roast beef sandwich tasted really good!',\n",
       "       'I hope this place sticks around.',\n",
       "       \"If someone orders two tacos don't' you think it may be part of customer service to ask if it is combo or ala cart?\",\n",
       "       'On the up side, their cafe serves really good food.',\n",
       "       'Very good food, great atmosphere.1',\n",
       "       'Never had anything to complain about here.',\n",
       "       'This place was such a nice surprise!',\n",
       "       'The tables outside are also dirty a lot of the time and the workers are not always friendly and helpful with the menu.',\n",
       "       'did not like at all.', 'Do not waste your money here!',\n",
       "       'I came back today since they relocated and still not impressed.',\n",
       "       'The fries were great too.', \"We won't be returning.\",\n",
       "       \"The food is about on par with Denny's, which is to say, not good at all.\",\n",
       "       'We had fantastic service, and were pleased by the atmosphere.',\n",
       "       'It was either too cold, not enough flavor or just bad.',\n",
       "       'No allergy warnings on the menu, and the waitress had absolutely no clue as to which meals did or did not contain peanuts.',\n",
       "       'Mediocre food.', \"Don't waste your time here.\",\n",
       "       'Why are these sad little vegetables so overcooked?',\n",
       "       'Also, I feel like the chips are bought, not made in house.',\n",
       "       'This was my first and only Vegas buffet and it did not disappoint.',\n",
       "       'For sushi on the Strip, this is the place to go.',\n",
       "       'When I opened the sandwich, I was impressed, but not in a good way.',\n",
       "       'Now this dish was quite flavourful.', 'The Burrittos Blah!',\n",
       "       'It was packed!!',\n",
       "       'The yellowtail carpaccio was melt in your mouth fresh.',\n",
       "       'The real disappointment was our waiter.',\n",
       "       'The feel of the dining room was more college cooking course than high class dining and the service was slow at best.',\n",
       "       'The sides are delish - mixed mushrooms, yukon gold puree, white corn - beateous.',\n",
       "       'I got home to see the driest damn wings ever!',\n",
       "       'I love this place.',\n",
       "       'The restaurant is very clean and has a family restaurant feel to it.',\n",
       "       'Fantastic service here.',\n",
       "       'The menu is always changing, food quality is going down & service is extremely slow.',\n",
       "       'It is worth the drive.',\n",
       "       \"We started with the tuna sashimi which was brownish in color and obviously wasn't fresh.\",\n",
       "       'The sweet potato fries were very good and seasoned well.',\n",
       "       'A couple of months later, I returned and had an amazing meal.',\n",
       "       'The service was meh.',\n",
       "       'All in all, Ha Long Bay was a bit of a flop.',\n",
       "       'From what my dinner companions told me...everything was very fresh with nice texture and taste.',\n",
       "       'Waitress was sweet and funny.', 'Weird vibe from owners.',\n",
       "       'The crêpe was delicate and thin and moist.',\n",
       "       'And the chef was generous with his time (even came around twice so we can take pictures with him).',\n",
       "       'Good value, great food, great service.',\n",
       "       '2 times - Very Bad Customer Service !',\n",
       "       \"One nice thing was that they added gratuity on the bill since our party was larger than 6 or 8, and they didn't expect more tip than that.\",\n",
       "       'So we went to Tigerlilly and had a fantastic afternoon!',\n",
       "       'The portion was huge!',\n",
       "       'Very convenient, since we were staying at the MGM!',\n",
       "       'The steak and the shrimp are in my opinion the best entrees at GC.',\n",
       "       'We had so much to say about the place before we walked in that he expected it to be amazing, but was quickly disappointed.',\n",
       "       \"It'll be a regular stop on my trips to Phoenix!\",\n",
       "       'This is an Outstanding little restaurant with some of the Best Food I have ever tasted.',\n",
       "       \"I don't think I'll be running back to Carly's anytime soon for food.\",\n",
       "       'The restaurant atmosphere was exquisite.', 'A great touch.',\n",
       "       'The salad had just the right amount of sauce to not over power the scallop, which was perfectly cooked.',\n",
       "       'The wontons were thin, not thick and chewy, almost melt in your mouth.',\n",
       "       'I love this place.',\n",
       "       'The service was a little slow , considering that were served by 3 people servers so the food was coming in a slow pace.',\n",
       "       'Both of the egg rolls were fantastic.',\n",
       "       'I tried the Cape Cod ravoli, chicken,with cranberry...mmmm!',\n",
       "       'Food was great and so was the serivce!', 'We loved the place.',\n",
       "       \"I will come back here every time I'm in Vegas.\",\n",
       "       'The steak was amazing...rge fillet relleno was the best seafood plate i have ever had!',\n",
       "       '2 Thumbs Up!!', 'My friend did not like his Bloody Mary.',\n",
       "       'The food was outstanding and the prices were very reasonable.',\n",
       "       'TOTAL WASTE OF TIME.',\n",
       "       \"We asked for the bill to leave without eating and they didn't bring that either.\",\n",
       "       'I had a salad with the wings, and some ice cream for dessert and left feeling quite satisfied.',\n",
       "       'The best place in Vegas for breakfast (just check out a Sat, or Sun.',\n",
       "       'AN HOUR... seriously?',\n",
       "       'It also took her forever to bring us the check when we asked for it.',\n",
       "       \"I like Steiners because it's dark and it feels like a bar.\",\n",
       "       'Cant say enough good things about this place.',\n",
       "       'This place should honestly be blown up.',\n",
       "       'A fantastic neighborhood gem !!!',\n",
       "       \"Great place to have a couple drinks and watch any and all sporting events as the walls are covered with TV's.\",\n",
       "       'Insults, profound deuchebaggery, and had to go outside for a smoke break while serving just to solidify it.',\n",
       "       'What a mistake.',\n",
       "       'I guess maybe we went on an off night but it was disgraceful.',\n",
       "       'Overpriced for what you are getting.',\n",
       "       'This place deserves no stars.',\n",
       "       'Not tasty and the texture was just nasty.',\n",
       "       \"I don't have to be an accountant to know I'm getting screwed!\",\n",
       "       'The food was very good and I enjoyed every mouthful, an enjoyable relaxed venue for couples small family groups etc.',\n",
       "       'I miss it and wish they had one in Philadelphia!',\n",
       "       \"If you're not familiar, check it out.\",\n",
       "       \"The guys all had steaks, and our steak loving son who has had steak at the best and worst places said it was the best steak he's ever eaten.\",\n",
       "       'Now I am getting angry and I want my damn pho.',\n",
       "       'The cashier had no care what so ever on what I had to say it still ended up being wayyy overpriced.',\n",
       "       'Unfortunately, it was not good.',\n",
       "       'We waited for thirty minutes to be seated (although there were 8 vacant tables and we were the only folks waiting).',\n",
       "       'I dressed up to be treated so rudely!',\n",
       "       'The bathrooms are clean and the place itself is well decorated.',\n",
       "       'Great service and food.',\n",
       "       'The burger is good beef, cooked just right.',\n",
       "       'The RI style calamari was a joke.',\n",
       "       'Prices are very reasonable, flavors are spot on, the sauce is home made, and the slaw is not drenched in mayo.',\n",
       "       'first time there and might just be the last.',\n",
       "       \"I as well would've given godfathers zero stars if possible.\",\n",
       "       \"I'm not impressed with the concept or the food.\",\n",
       "       'Very disappointing!!!', 'this place is good.',\n",
       "       \"Once you get inside you'll be impressed with the place.\",\n",
       "       'By far the BEST cheesecurds we have ever had!',\n",
       "       'Anyways, The food was definitely not filling at all, and for the price you pay you should expect more.',\n",
       "       'The staff are now not as friendly, the wait times for being served are horrible, no one even says hi for the first 10 minutes.',\n",
       "       'The service was terrible, food was mediocre.',\n",
       "       'This really is how Vegas fine dining used to be, right down to the menus handed to the ladies that have no prices listed.',\n",
       "       'The problem I have is that they charge $11.99 for a sandwich that is no bigger than a Subway sub (which offers better and more amount of vegetables).',\n",
       "       \"My fella got the huevos rancheros and they didn't look too appealing.\",\n",
       "       \"But I don't like it.\",\n",
       "       'Nice blanket of moz over top but i feel like this was done to cover up the subpar food.',\n",
       "       'The potatoes were like rubber and you could tell they had been made up ahead of time being kept under a warmer.',\n",
       "       'Our server was fantastic and when he found out the wife loves roasted garlic and bone marrow, he added extra to our meal and another marrow to go!',\n",
       "       'I waited and waited.',\n",
       "       \"The goat taco didn't skimp on the meat and wow what FLAVOR!\",\n",
       "       \"It kept getting worse and worse so now I'm officially done.\",\n",
       "       'Con: spotty service.', 'But now I was completely grossed out.',\n",
       "       \"I won't be back.\", 'This place is horrible and way overpriced.',\n",
       "       'Would not go back.', 'They have a really nice atmosphere.',\n",
       "       'Over rated.',\n",
       "       'I do love sushi, but I found Kabuki to be over-priced, over-hip and under-services.',\n",
       "       'And it was way to expensive.',\n",
       "       'It was so bad, I had lost the heart to finish it.',\n",
       "       'He was extremely rude and really, there are so many other restaurants I would love to dine at during a weekend in Vegas.',\n",
       "       'Overall, I like there food and the service.', \"Won't go back.\",\n",
       "       'The owner used to work at Nobu, so this place is really similar for half the price.',\n",
       "       'The food was great as always, compliments to the chef.',\n",
       "       'Very good lunch spot.',\n",
       "       'like the other reviewer said \"you couldn\\'t pay me to eat at this place again.\"',\n",
       "       'I don\\'t know what the big deal is about this place, but I won\\'t be back \"ya\\'all\".',\n",
       "       'However, there was so much garlic in the fondue, it was barely edible.',\n",
       "       'I can take a little bad service but the food sucks.',\n",
       "       'We definately enjoyed ourselves.',\n",
       "       \"The selection was probably the worst I've seen in Vegas.....there was none.\",\n",
       "       'Ordered a double cheeseburger & got a single patty that was falling apart (picture uploaded) Yeah, still sucks.',\n",
       "       'Things that went wrong: - They burned the saganaki.',\n",
       "       'Their monster chicken fried steak and eggs is my all time favorite.',\n",
       "       \"I personally love the hummus, pita, baklava, falafels and Baba Ganoush (it's amazing what they do with eggplant!).\",\n",
       "       'As for the \"mains,\" also uninspired.',\n",
       "       \"Don't bother coming here.\",\n",
       "       'Great food for the price, which is very high quality and house made.',\n",
       "       'Never again will I be dining at this place!',\n",
       "       'And then tragedy struck.', 'CONCLUSION: Very filling meals.',\n",
       "       'The chips that came out were dripping with grease, and mostly not edible.',\n",
       "       'The staff is great, the food is delish, and they have an incredible beer selection.',\n",
       "       '- the food is rich so order accordingly.',\n",
       "       'the presentation of the food was awful.',\n",
       "       'My boyfriend and i sat at the bar and had a completely delightful experience.',\n",
       "       'I would recommend saving room for this!',\n",
       "       'I think this restaurant suffers from not trying hard enough.',\n",
       "       'Some may say this buffet is pricey but I think you get what you pay for and this place you are getting quite a lot!',\n",
       "       'The Macarons here are insanely good.',\n",
       "       'Not to mention the combination of pears, almonds and bacon is a big winner!',\n",
       "       '* Both the Hot & Sour & the Egg Flower Soups were absolutely 5 Stars!',\n",
       "       '5 stars for the brick oven bread app!',\n",
       "       'We sat another ten minutes and finally gave up and left.',\n",
       "       'There is nothing privileged about working/eating there.',\n",
       "       'The cashier was friendly and even brought the food out to me.',\n",
       "       '- Really, really good rice, all the time.',\n",
       "       'Not good for the money.',\n",
       "       'It was a huge awkward 1.5lb piece of cow that was 3/4ths gristle and fat.'],\n",
       "      dtype=object)"
      ]
     },
     "execution_count": 93,
     "metadata": {},
     "output_type": "execute_result"
    }
   ],
   "source": [
    "sentences_train"
   ]
  },
  {
   "cell_type": "code",
   "execution_count": 94,
   "metadata": {},
   "outputs": [],
   "source": [
    "dfSentences = pd.DataFrame(data = sentences_train,columns=['sentence'])"
   ]
  },
  {
   "cell_type": "code",
   "execution_count": 95,
   "metadata": {},
   "outputs": [
    {
     "data": {
      "text/html": [
       "<div>\n",
       "<style scoped>\n",
       "    .dataframe tbody tr th:only-of-type {\n",
       "        vertical-align: middle;\n",
       "    }\n",
       "\n",
       "    .dataframe tbody tr th {\n",
       "        vertical-align: top;\n",
       "    }\n",
       "\n",
       "    .dataframe thead th {\n",
       "        text-align: right;\n",
       "    }\n",
       "</style>\n",
       "<table border=\"1\" class=\"dataframe\">\n",
       "  <thead>\n",
       "    <tr style=\"text-align: right;\">\n",
       "      <th></th>\n",
       "      <th>sentence</th>\n",
       "    </tr>\n",
       "  </thead>\n",
       "  <tbody>\n",
       "    <tr>\n",
       "      <th>0</th>\n",
       "      <td>The food was barely lukewarm, so it must have ...</td>\n",
       "    </tr>\n",
       "    <tr>\n",
       "      <th>1</th>\n",
       "      <td>Sorry, I will not be getting food from here an...</td>\n",
       "    </tr>\n",
       "  </tbody>\n",
       "</table>\n",
       "</div>"
      ],
      "text/plain": [
       "                                            sentence\n",
       "0  The food was barely lukewarm, so it must have ...\n",
       "1  Sorry, I will not be getting food from here an..."
      ]
     },
     "execution_count": 95,
     "metadata": {},
     "output_type": "execute_result"
    }
   ],
   "source": [
    "dfSentences.head(2)"
   ]
  },
  {
   "cell_type": "code",
   "execution_count": 96,
   "metadata": {},
   "outputs": [],
   "source": [
    "import pandas as pd\n",
    "#temp = word_tokenize('this is a test')\n",
    "#print(review_yelp['sentence'])\n",
    "# For each row, combine all the columns into one column\n",
    "df1 = pd.DataFrame({'review_text':dfSentences['sentence']})\n"
   ]
  },
  {
   "cell_type": "code",
   "execution_count": 97,
   "metadata": {},
   "outputs": [
    {
     "data": {
      "text/html": [
       "<div>\n",
       "<style scoped>\n",
       "    .dataframe tbody tr th:only-of-type {\n",
       "        vertical-align: middle;\n",
       "    }\n",
       "\n",
       "    .dataframe tbody tr th {\n",
       "        vertical-align: top;\n",
       "    }\n",
       "\n",
       "    .dataframe thead th {\n",
       "        text-align: right;\n",
       "    }\n",
       "</style>\n",
       "<table border=\"1\" class=\"dataframe\">\n",
       "  <thead>\n",
       "    <tr style=\"text-align: right;\">\n",
       "      <th></th>\n",
       "      <th>review_text</th>\n",
       "    </tr>\n",
       "  </thead>\n",
       "  <tbody>\n",
       "    <tr>\n",
       "      <th>0</th>\n",
       "      <td>The food was barely lukewarm, so it must have ...</td>\n",
       "    </tr>\n",
       "    <tr>\n",
       "      <th>1</th>\n",
       "      <td>Sorry, I will not be getting food from here an...</td>\n",
       "    </tr>\n",
       "    <tr>\n",
       "      <th>2</th>\n",
       "      <td>Of all the dishes, the salmon was the best, bu...</td>\n",
       "    </tr>\n",
       "    <tr>\n",
       "      <th>3</th>\n",
       "      <td>The fries were not hot, and neither was my bur...</td>\n",
       "    </tr>\n",
       "    <tr>\n",
       "      <th>4</th>\n",
       "      <td>In fact I'm going to round up to 4 stars, just...</td>\n",
       "    </tr>\n",
       "  </tbody>\n",
       "</table>\n",
       "</div>"
      ],
      "text/plain": [
       "                                         review_text\n",
       "0  The food was barely lukewarm, so it must have ...\n",
       "1  Sorry, I will not be getting food from here an...\n",
       "2  Of all the dishes, the salmon was the best, bu...\n",
       "3  The fries were not hot, and neither was my bur...\n",
       "4  In fact I'm going to round up to 4 stars, just..."
      ]
     },
     "execution_count": 97,
     "metadata": {},
     "output_type": "execute_result"
    }
   ],
   "source": [
    "df1.head()"
   ]
  },
  {
   "cell_type": "code",
   "execution_count": 98,
   "metadata": {},
   "outputs": [
    {
     "data": {
      "text/plain": [
       "0    [The, food, was, barely, lukewarm, ,, so, it, ...\n",
       "1    [Sorry, ,, I, will, not, be, getting, food, fr...\n",
       "2    [Of, all, the, dishes, ,, the, salmon, was, th...\n",
       "3    [The, fries, were, not, hot, ,, and, neither, ...\n",
       "4    [In, fact, I, 'm, going, to, round, up, to, 4,...\n",
       "Name: review_text, dtype: object"
      ]
     },
     "execution_count": 98,
     "metadata": {},
     "output_type": "execute_result"
    }
   ],
   "source": [
    "df2 = df1['review_text'].apply(lambda x: word_tokenize(x))\n",
    "df2.head()"
   ]
  },
  {
   "cell_type": "code",
   "execution_count": 99,
   "metadata": {},
   "outputs": [],
   "source": [
    "newlist = []\n",
    "for i in df2:\n",
    "    newlist.append(i)\n",
    "# Create the list of list format of the custom corpus for gensim modeling \n",
    "#sent = [row.split(',x') for row in df2 ]"
   ]
  },
  {
   "cell_type": "code",
   "execution_count": 100,
   "metadata": {},
   "outputs": [
    {
     "name": "stdout",
     "output_type": "stream",
     "text": [
      "[['The', 'food', 'was', 'barely', 'lukewarm', ',', 'so', 'it', 'must', 'have', 'been', 'sitting', 'waiting', 'for', 'the', 'server', 'to', 'bring', 'it', 'out', 'to', 'us', '.'], ['Sorry', ',', 'I', 'will', 'not', 'be', 'getting', 'food', 'from', 'here', 'anytime', 'soon', ':', '('], ['Of', 'all', 'the', 'dishes', ',', 'the', 'salmon', 'was', 'the', 'best', ',', 'but', 'all', 'were', 'great', '.'], ['The', 'fries', 'were', 'not', 'hot', ',', 'and', 'neither', 'was', 'my', 'burger', '.'], ['In', 'fact', 'I', \"'m\", 'going', 'to', 'round', 'up', 'to', '4', 'stars', ',', 'just', 'because', 'she', 'was', 'so', 'awesome', '.'], ['Will', 'go', 'back', 'next', 'trip', 'out', '.'], ['This', 'was', 'my', 'first', 'crawfish', 'experience', ',', 'and', 'it', 'was', 'delicious', '!'], ['I', 'could', 'barely', 'stomach', 'the', 'meal', ',', 'but', 'did', \"n't\", 'complain', 'because', 'it', 'was', 'a', 'business', 'lunch', '.'], ['A', 'great', 'way', 'to', 'finish', 'a', 'great', '.'], ['Best', 'service', 'and', 'food', 'ever', ',', 'Maria', 'our', 'server', 'was', 'so', 'good', 'and', 'friendly', 'she', 'made', 'our', 'day', '.'], ['Good', 'food', ',', 'good', 'service', '.'], ['My', 'drink', 'was', 'never', 'empty', 'and', 'he', 'made', 'some', 'really', 'great', 'menu', 'suggestions', '.'], ['Be', 'sure', 'to', 'order', 'dessert', ',', 'even', 'if', 'you', 'need', 'to', 'pack', 'it', 'to-go', '-', 'the', 'tiramisu', 'and', 'cannoli', 'are', 'both', 'to', 'die', 'for', '.'], ['The', 'food', 'was', 'excellent', 'and', 'service', 'was', 'very', 'good', '.'], ['All', 'of', 'the', 'tapas', 'dishes', 'were', 'delicious', '!'], ['We', 'loved', 'the', 'biscuits', '!', '!', '!'], ['This', 'place', 'receives', 'stars', 'for', 'their', 'APPETIZERS', '!', '!', '!'], ['So', 'they', 'performed', '.'], ['The', 'refried', 'beans', 'that', 'came', 'with', 'my', 'meal', 'were', 'dried', 'out', 'and', 'crusty', 'and', 'the', 'food', 'was', 'bland', '.'], ['Good', 'prices', '.'], ['I', 'have', 'eaten', 'here', 'multiple', 'times', ',', 'and', 'each', 'time', 'the', 'food', 'was', 'delicious', '.'], ['The', 'service', 'was', 'poor', 'and', 'thats', 'being', 'nice', '.'], ['Service', 'was', 'very', 'prompt', '.'], ['dont', 'go', 'here', '.'], ['I', 'immediately', 'said', 'I', 'wanted', 'to', 'talk', 'to', 'the', 'manager', 'but', 'I', 'did', 'not', 'want', 'to', 'talk', 'to', 'the', 'guy', 'who', 'was', 'doing', 'shots', 'of', 'fireball', 'behind', 'the', 'bar', '.'], ['The', 'chips', 'and', 'salsa', 'were', 'really', 'good', ',', 'the', 'salsa', 'was', 'very', 'fresh', '.'], ['The', 'flair', 'bartenders', 'are', 'absolutely', 'amazing', '!'], ['I', 'started', 'this', 'review', 'with', 'two', 'stars', ',', 'but', 'I', \"'m\", 'editing', 'it', 'to', 'give', 'it', 'only', 'one', '.'], ['I', 'also', 'decided', 'not', 'to', 'send', 'it', 'back', 'because', 'our', 'waitress', 'looked', 'like', 'she', 'was', 'on', 'the', 'verge', 'of', 'having', 'a', 'heart', 'attack', '.'], ['I', 'would', \"n't\", 'return', '.'], ['The', 'fried', 'rice', 'was', 'dry', 'as', 'well', '.'], ['I', 'got', 'food', 'poisoning', 'here', 'at', 'the', 'buffet', '.'], ['First', '-', 'the', 'bathrooms', 'at', 'this', 'location', 'were', 'dirty-', 'Seat', 'covers', 'were', 'not', 'replenished', '&', 'just', 'plain', 'yucky', '!', '!', '!'], ['This', 'place', 'is', 'pretty', 'good', ',', 'nice', 'little', 'vibe', 'in', 'the', 'restaurant', '.'], ['Food', 'was', 'delicious', '!'], ['you', 'can', 'watch', 'them', 'preparing', 'the', 'delicious', 'food', '!', ')'], ['The', 'nachos', 'are', 'a', 'MUST', 'HAVE', '!'], ['Much', 'better', 'than', 'the', 'other', 'AYCE', 'sushi', 'place', 'I', 'went', 'to', 'in', 'Vegas', '.'], ['Poor', 'service', ',', 'the', 'waiter', 'made', 'me', 'feel', 'like', 'I', 'was', 'stupid', 'every', 'time', 'he', 'came', 'to', 'the', 'table', '.'], ['The', 'Han', 'Nan', 'Chicken', 'was', 'also', 'very', 'tasty', '.'], ['I', 'had', 'the', 'chicken', 'Pho', 'and', 'it', 'tasted', 'very', 'bland', '.'], ['I', 'go', 'to', 'far', 'too', 'many', 'places', 'and', 'I', \"'ve\", 'never', 'seen', 'any', 'restaurant', 'that', 'serves', 'a', '1', 'egg', 'breakfast', ',', 'especially', 'for', '$', '4.00', '.'], ['Sauce', 'was', 'tasteless', '.'], ['The', 'poor', 'batter', 'to', 'meat', 'ratio', 'made', 'the', 'chicken', 'tenders', 'very', 'unsatisfying', '.'], ['Needless', 'to', 'say', ',', 'we', 'will', 'never', 'be', 'back', 'here', 'again', '.'], ['But', 'the', 'service', 'was', 'beyond', 'bad', '.'], ['The', 'jalapeno', 'bacon', 'is', 'soooo', 'good', '.'], ['The', 'pancake', 'was', 'also', 'really', 'good', 'and', 'pretty', 'large', 'at', 'that', '.'], ['Service', 'is', 'perfect', 'and', 'the', 'family', 'atmosphere', 'is', 'nice', 'to', 'see', '.'], ['Pretty', 'awesome', 'place', '.'], ['Gave', 'up', 'trying', 'to', 'eat', 'any', 'of', 'the', 'crust', '(', 'teeth', 'still', 'sore', ')', '.'], ['This', 'place', 'is', 'hands-down', 'one', 'of', 'the', 'best', 'places', 'to', 'eat', 'in', 'the', 'Phoenix', 'metro', 'area', '.'], ['The', 'waitresses', 'are', 'very', 'friendly', '.'], ['Good', 'service', ',', 'very', 'clean', ',', 'and', 'inexpensive', ',', 'to', 'boot', '!'], ['The', 'inside', 'is', 'really', 'quite', 'nice', 'and', 'very', 'clean', '.'], ['Honeslty', 'it', 'did', \"n't\", 'taste', 'THAT', 'fresh', '.', ')'], ['I', 'had', 'strawberry', 'tea', ',', 'which', 'was', 'good', '.'], ['It', 'was', \"n't\", 'busy', 'at', 'all', 'and', 'now', 'we', 'know', 'why', '.'], ['I', 'just', 'do', \"n't\", 'know', 'how', 'this', 'place', 'managed', 'to', 'served', 'the', 'blandest', 'food', 'I', 'have', 'ever', 'eaten', 'when', 'they', 'are', 'preparing', 'Indian', 'cuisine', '.'], ['Service', 'stinks', 'here', '!'], ['The', 'best', 'place', 'to', 'go', 'for', 'a', 'tasty', 'bowl', 'of', 'Pho', '!'], ['After', 'one', 'bite', ',', 'I', 'was', 'hooked', '.'], ['Highly', 'recommended', '.'], ['Point', 'your', 'finger', 'at', 'any', 'item', 'on', 'the', 'menu', ',', 'order', 'it', 'and', 'you', 'wo', \"n't\", 'be', 'disappointed', '.'], ['The', 'vanilla', 'ice', 'cream', 'was', 'creamy', 'and', 'smooth', 'while', 'the', 'profiterole', '(', 'choux', ')', 'pastry', 'was', 'fresh', 'enough', '.'], ['I', \"'ll\", 'definitely', 'be', 'in', 'soon', 'again', '.'], ['Sadly', ',', 'Gordon', 'Ramsey', \"'s\", 'Steak', 'is', 'a', 'place', 'we', 'shall', 'sharply', 'avoid', 'during', 'our', 'next', 'trip', 'to', 'Vegas', '.'], ['I', 'could', 'eat', 'their', 'bruschetta', 'all', 'day', 'it', 'is', 'devine', '.'], ['Wow', 'very', 'spicy', 'but', 'delicious', '.'], ['Great', 'place', 'to', 'eat', ',', 'reminds', 'me', 'of', 'the', 'little', 'mom', 'and', 'pop', 'shops', 'in', 'the', 'San', 'Francisco', 'Bay', 'Area', '.'], ['The', 'descriptions', 'said', '``', 'yum', 'yum', 'sauce', \"''\", 'and', 'another', 'said', '``', 'eel', 'sauce', \"''\", ',', 'yet', 'another', 'said', '``', 'spicy', 'mayo', \"''\", '...', 'well', 'NONE', 'of', 'the', 'rolls', 'had', 'sauces', 'on', 'them', '.'], ['OMG', 'I', 'felt', 'like', 'I', 'had', 'never', 'eaten', 'Thai', 'food', 'until', 'this', 'dish', '.'], ['Every', 'time', 'I', 'eat', 'here', ',', 'I', 'see', 'caring', 'teamwork', 'to', 'a', 'professional', 'degree', '.'], ['How', 'awesome', 'is', 'that', '.'], ['Perhaps', 'I', 'caught', 'them', 'on', 'an', 'off', 'night', 'judging', 'by', 'the', 'other', 'reviews', ',', 'but', 'I', \"'m\", 'not', 'inspired', 'to', 'go', 'back', '.'], ['And', 'the', 'beans', 'and', 'rice', 'were', 'mediocre', 'at', 'best', '.'], ['The', 'seafood', 'was', 'fresh', 'and', 'generous', 'in', 'portion', '.'], ['walked', 'in', 'and', 'the', 'place', 'smelled', 'like', 'an', 'old', 'grease', 'trap', 'and', 'only', '2', 'others', 'there', 'eating', '.'], ['I', 'consider', 'this', 'theft', '.'], ['Very', 'friendly', 'staff', '.'], ['The', 'burger', 'had', 'absolutely', 'no', 'flavor', '-', 'the', 'meat', 'itself', 'was', 'totally', 'bland', ',', 'the', 'burger', 'was', 'overcooked', 'and', 'there', 'was', 'no', 'charcoal', 'flavor', '.'], ['After', 'two', 'I', 'felt', 'disgusting', '.'], ['I', 'ca', \"n't\", 'wait', 'to', 'go', 'back', '.'], ['This', 'place', 'is', 'disgusting', '!'], ['I', \"'ve\", 'lived', 'here', 'since', '1979', 'and', 'this', 'was', 'the', 'first', '(', 'and', 'last', ')', 'time', 'I', \"'ve\", 'stepped', 'foot', 'into', 'this', 'place', '.'], ['My', 'sashimi', 'was', 'poor', 'quality', 'being', 'soggy', 'and', 'tasteless', '.'], ['Reasonably', 'priced', 'also', '!'], ['Hard', 'to', 'judge', 'whether', 'these', 'sides', 'were', 'good', 'because', 'we', 'were', 'grossed', 'out', 'by', 'the', 'melted', 'styrofoam', 'and', 'did', \"n't\", 'want', 'to', 'eat', 'it', 'for', 'fear', 'of', 'getting', 'sick', '.'], ['I', 'just', 'wanted', 'to', 'leave', '.'], ['What', 'a', 'great', 'double', 'cheeseburger', '!'], ['What', 'I', 'really', 'like', 'there', 'is', 'the', 'crepe', 'station', '.'], ['To', 'my', 'disbelief', ',', 'each', 'dish', 'qualified', 'as', 'the', 'worst', 'version', 'of', 'these', 'foods', 'I', 'have', 'ever', 'tasted', '.'], ['However', ',', 'my', 'recent', 'experience', 'at', 'this', 'particular', 'location', 'was', 'not', 'so', 'good', '.'], ['Not', 'a', 'weekly', 'haunt', ',', 'but', 'definitely', 'a', 'place', 'to', 'come', 'back', 'to', 'every', 'once', 'in', 'a', 'while', '.'], ['say', 'bye', 'bye', 'to', 'your', 'tip', 'lady', '!'], ['I', 'ordered', 'the', 'Lemon', 'raspberry', 'ice', 'cocktail', 'which', 'was', 'also', 'incredible', '.'], ['Stopped', 'by', 'this', 'place', 'while', 'in', 'Madison', 'for', 'the', 'Ironman', ',', 'very', 'friendly', ',', 'kind', 'staff', '.'], ['Great', 'place', 'fo', 'take', 'out', 'or', 'eat', 'in', '.'], ['The', 'staff', 'is', 'super', 'nice', 'and', 'very', 'quick', 'even', 'with', 'the', 'crazy', 'crowds', 'of', 'the', 'downtown', 'juries', ',', 'lawyers', ',', 'and', 'court', 'staff', '.'], ['At', 'least', 'think', 'to', 'refill', 'my', 'water', 'before', 'I', 'struggle', 'to', 'wave', 'you', 'over', 'for', '10', 'minutes', '.'], ['I', 'will', 'not', 'return', '.'], ['These', 'are', 'the', 'nicest', 'restaurant', 'owners', 'I', \"'ve\", 'ever', 'come', 'across', '.'], ['There', 'is', 'nothing', 'authentic', 'about', 'this', 'place', '.'], ['Their', 'chow', 'mein', 'is', 'so', 'good', '!'], ['Service', 'was', 'slow', 'and', 'not', 'attentive', '.'], ['The', 'cow', 'tongue', 'and', 'cheek', 'tacos', 'are', 'amazing', '.'], ['We', 'were', 'sat', 'right', 'on', 'time', 'and', 'our', 'server', 'from', 'the', 'get', 'go', 'was', 'FANTASTIC', '!'], ['Def', 'coming', 'back', 'to', 'bowl', 'next', 'time'], ['Both', 'of', 'them', 'were', 'truly', 'unbelievably', 'good', ',', 'and', 'I', 'am', 'so', 'glad', 'we', 'went', 'back', '.'], ['An', 'extensive', 'menu', 'provides', 'lots', 'of', 'options', 'for', 'breakfast', '.'], ['the', 'staff', 'is', 'friendly', 'and', 'the', 'joint', 'is', 'always', 'clean', '.'], ['It', 'really', 'is', 'impressive', 'that', 'the', 'place', 'has', \"n't\", 'closed', 'down', '.'], ['So', 'flavorful', 'and', 'has', 'just', 'the', 'perfect', 'amount', 'of', 'heat', '.'], ['I', 'probably', 'wo', \"n't\", 'be', 'coming', 'back', 'here', '.'], ['There', 'is', 'so', 'much', 'good', 'food', 'in', 'Vegas', 'that', 'I', 'feel', 'cheated', 'for', 'wasting', 'an', 'eating', 'opportunity', 'by', 'going', 'to', 'Rice', 'and', 'Company', '.'], ['I', 'have', 'been', 'here', 'several', 'times', 'in', 'the', 'past', ',', 'and', 'the', 'experience', 'has', 'always', 'been', 'great', '.'], ['No', 'one', 'at', 'the', 'table', 'thought', 'the', 'food', 'was', 'above', 'average', 'or', 'worth', 'the', 'wait', 'that', 'we', 'had', 'for', 'it', '.'], ['My', 'breakfast', 'was', 'perpared', 'great', ',', 'with', 'a', 'beautiful', 'presentation', 'of', '3', 'giant', 'slices', 'of', 'Toast', ',', 'lightly', 'dusted', 'with', 'powdered', 'sugar', '.'], ['Overall', ',', 'a', 'great', 'experience', '.'], ['Anyway', ',', 'this', 'FS', 'restaurant', 'has', 'a', 'wonderful', 'breakfast/lunch', '.'], ['Never', 'been', 'to', 'Hard', 'Rock', 'Casino', 'before', ',', 'WILL', 'NEVER', 'EVER', 'STEP', 'FORWARD', 'IN', 'IT', 'AGAIN', '!'], ['Special', 'thanks', 'to', 'Dylan', 'T.', 'for', 'the', 'recommendation', 'on', 'what', 'to', 'order', ':', ')', 'All', 'yummy', 'for', 'my', 'tummy', '.'], ['We', 'ordered', 'some', 'old', 'classics', 'and', 'some', 'new', 'dishes', 'after', 'going', 'there', 'a', 'few', 'times', 'and', 'were', 'sorely', 'disappointed', 'with', 'everything', '.'], ['If', 'it', 'were', 'possible', 'to', 'give', 'them', 'zero', 'stars', ',', 'they', \"'d\", 'have', 'it', '.'], ['My', 'husband', 'and', 'I', 'ate', 'lunch', 'here', 'and', 'were', 'very', 'disappointed', 'with', 'the', 'food', 'and', 'service', '.'], ['Ambience', 'is', 'perfect', '.'], ['Cooked', 'to', 'perfection', 'and', 'the', 'service', 'was', 'impeccable', '.'], ['DELICIOUS', '!', '!'], ['Kind', 'of', 'hard', 'to', 'mess', 'up', 'a', 'steak', 'but', 'they', 'did', '.'], ['Disappointing', 'experience', '.'], ['We', 'could', 'not', 'believe', 'how', 'dirty', 'the', 'oysters', 'were', '!'], ['The', 'patio', 'seating', 'was', 'very', 'comfortable', '.'], ['If', 'you', 'look', 'for', 'authentic', 'Thai', 'food', ',', 'go', 'else', 'where', '.'], ['Probably', 'not', 'in', 'a', 'hurry', 'to', 'go', 'back', '.'], ['Crust', 'is', 'not', 'good', '.'], ['Maybe', 'if', 'they', 'were', \"n't\", 'cold', 'they', 'would', 'have', 'been', 'somewhat', 'edible', '.'], ['I', 'left', 'with', 'a', 'stomach', 'ache', 'and', 'felt', 'sick', 'the', 'rest', 'of', 'the', 'day', '.'], ['I', \"'d\", 'love', 'to', 'go', 'back', '.'], ['Tasted', 'like', 'dirt', '.'], ['It', 'was', 'not', 'good', '.'], ['The', 'worst', 'was', 'the', 'salmon', 'sashimi', '.'], ['Will', 'not', 'be', 'back', '.'], ['Nothing', 'special', '.'], ['This', 'is', 'a', 'disgrace', '.'], ['I', 'want', 'to', 'first', 'say', 'our', 'server', 'was', 'great', 'and', 'we', 'had', 'perfect', 'service', '.'], ['The', 'only', 'thing', 'I', 'did', 'like', 'was', 'the', 'prime', 'rib', 'and', 'dessert', 'section', '.'], ['Great', 'pork', 'sandwich', '.'], ['That', 'just', 'SCREAMS', '``', 'LEGIT', \"''\", 'in', 'my', 'book', '...', 'somethat', \"'s\", 'also', 'pretty', 'rare', 'here', 'in', 'Vegas', '.'], ['The', 'Wife', 'hated', 'her', 'meal', '(', 'coconut', 'shrimp', ')', ',', 'and', 'our', 'friends', 'really', 'did', 'not', 'enjoy', 'their', 'meals', ',', 'either', '.'], ['This', 'place', 'has', 'a', 'lot', 'of', 'promise', 'but', 'fails', 'to', 'deliver', '.'], ['Furthermore', ',', 'you', 'ca', \"n't\", 'even', 'find', 'hours', 'of', 'operation', 'on', 'the', 'website', '!'], ['I', \"'m\", 'so', 'happy', 'to', 'be', 'here', '!', '!', '!', \"''\"], ['Talk', 'about', 'great', 'customer', 'service', 'of', 'course', 'we', 'will', 'be', 'back', '.'], ['Definitely', 'a', 'turn', 'off', 'for', 'me', '&', 'i', 'doubt', 'I', \"'ll\", 'be', 'back', 'unless', 'someone', 'else', 'is', 'buying', '.'], ['(', 'The', 'bathroom', 'is', 'just', 'next', 'door', 'and', 'very', 'nice', '.', ')'], ['A', 'lady', 'at', 'the', 'table', 'next', 'to', 'us', 'found', 'a', 'live', 'green', 'caterpillar', 'In', 'her', 'salad', '.'], ['The', 'desserts', 'were', 'a', 'bit', 'strange', '.'], ['Pricing', 'is', 'a', 'bit', 'of', 'a', 'concern', 'at', 'Mellow', 'Mushroom', '.'], ['Once', 'your', 'food', 'arrives', 'it', \"'s\", 'meh', '.'], ['My', 'fiancé', 'and', 'I', 'came', 'in', 'the', 'middle', 'of', 'the', 'day', 'and', 'we', 'were', 'greeted', 'and', 'seated', 'right', 'away', '.'], ['He', 'came', 'running', 'after', 'us', 'when', 'he', 'realized', 'my', 'husband', 'had', 'left', 'his', 'sunglasses', 'on', 'the', 'table', '.'], ['Waitress', 'was', 'a', 'little', 'slow', 'in', 'service', '.'], ['Hot', 'dishes', 'are', 'not', 'hot', ',', 'cold', 'dishes', 'are', 'close', 'to', 'room', 'temp.I', 'watched', 'staff', 'prepare', 'food', 'with', 'BARE', 'HANDS', ',', 'no', 'gloves.Everything', 'is', 'deep', 'fried', 'in', 'oil', '.'], ['My', 'ribeye', 'steak', 'was', 'cooked', 'perfectly', 'and', 'had', 'great', 'mesquite', 'flavor', '.'], ['Then', 'our', 'food', 'came', 'out', ',', 'disappointment', 'ensued', '.'], ['He', 'also', 'came', 'back', 'to', 'check', 'on', 'us', 'regularly', ',', 'excellent', 'service', '.'], ['My', 'gyro', 'was', 'basically', 'lettuce', 'only', '.'], ['Eew', '...', 'This', 'location', 'needs', 'a', 'complete', 'overhaul', '.'], ['Very', 'good', ',', 'though', '!'], ['I', \"'m\", 'probably', 'one', 'of', 'the', 'few', 'people', 'to', 'ever', 'go', 'to', 'Ians', 'and', 'not', 'like', 'it', '.'], ['Very', 'bad', 'Experience', '!'], ['It', 'lacked', 'flavor', ',', 'seemed', 'undercooked', ',', 'and', 'dry', '.'], ['We', 'recently', 'witnessed', 'her', 'poor', 'quality', 'of', 'management', 'towards', 'other', 'guests', 'as', 'well', '.'], ['The', 'meat', 'was', 'pretty', 'dry', ',', 'I', 'had', 'the', 'sliced', 'brisket', 'and', 'pulled', 'pork', '.'], ['I', 'ate', 'there', 'twice', 'on', 'my', 'last', 'visit', ',', 'and', 'especially', 'enjoyed', 'the', 'salmon', 'salad', '.'], ['They', 'could', 'serve', 'it', 'with', 'just', 'the', 'vinaigrette', 'and', 'it', 'may', 'make', 'for', 'a', 'better', 'overall', 'dish', ',', 'but', 'it', 'was', 'still', 'very', 'good', '.'], ['It', \"'s\", 'a', 'great', 'place', 'and', 'I', 'highly', 'recommend', 'it', '.'], ['This', 'place', 'is', 'like', 'Chipotle', ',', 'but', 'BETTER', '.'], ['Best', 'tacos', 'in', 'town', 'by', 'far', '!', '!'], ['Spend', 'your', 'money', 'elsewhere', '.'], ['If', 'you', 'love', 'authentic', 'Mexican', 'food', 'and', 'want', 'a', 'whole', 'bunch', 'of', 'interesting', ',', 'yet', 'delicious', 'meats', 'to', 'choose', 'from', ',', 'you', 'need', 'to', 'try', 'this', 'place', '.'], ['I', 'swung', 'in', 'to', 'give', 'them', 'a', 'try', 'but', 'was', 'deeply', 'disappointed', '.'], ['They', 'really', 'want', 'to', 'make', 'your', 'experience', 'a', 'good', 'one', '.'], ['Try', 'them', 'in', 'the', 'airport', 'to', 'experience', 'some', 'tasty', 'food', 'and', 'speedy', ',', 'friendly', 'service', '.'], ['Now', 'the', 'burgers', 'are', \"n't\", 'as', 'good', ',', 'the', 'pizza', 'which', 'used', 'to', 'be', 'amazing', 'is', 'doughy', 'and', 'flavorless', '.'], ['Loved', 'it', '...', 'friendly', 'servers', ',', 'great', 'food', ',', 'wonderful', 'and', 'imaginative', 'menu', '.'], ['The', 'service', 'here', 'leaves', 'a', 'lot', 'to', 'be', 'desired', '.'], ['The', 'grilled', 'chicken', 'was', 'so', 'tender', 'and', 'yellow', 'from', 'the', 'saffron', 'seasoning', '.'], ['Check', 'it', 'out', '.'], ['We', \"'ve\", 'have', 'gotten', 'a', 'much', 'better', 'service', 'from', 'the', 'pizza', 'place', 'next', 'door', 'than', 'the', 'services', 'we', 'received', 'from', 'this', 'restaurant', '.'], ['Wow', '...', 'Loved', 'this', 'place', '.'], ['I', 'ordered', 'Albondigas', 'soup', '-', 'which', 'was', 'just', 'warm', '-', 'and', 'tasted', 'like', 'tomato', 'soup', 'with', 'frozen', 'meatballs', '.'], ['Great', 'steak', ',', 'great', 'sides', ',', 'great', 'wine', ',', 'amazing', 'desserts', '.'], ['Everyone', 'is', 'treated', 'equally', 'special', '.'], ['Just', 'spicy', 'enough..', 'Perfect', 'actually', '.'], ['Ample', 'portions', 'and', 'good', 'prices', '.'], ['Maybe', 'it', \"'s\", 'just', 'their', 'Vegetarian', 'fare', ',', 'but', 'I', \"'ve\", 'been', 'twice', 'and', 'I', 'thought', 'it', 'was', 'average', 'at', 'best', '.'], ['Took', 'an', 'hour', 'to', 'get', 'our', 'food', 'only', '4', 'tables', 'in', 'restaurant', 'my', 'food', 'was', 'Luke', 'warm', ',', 'Our', 'sever', 'was', 'running', 'around', 'like', 'he', 'was', 'totally', 'overwhelmed', '.'], ['The', 'service', 'was', 'outshining', '&', 'I', 'definitely', 'recommend', 'the', 'Halibut', '.'], ['Go', 'To', 'Place', 'for', 'Gyros', '.'], ['This', 'place', 'is', 'amazing', '!'], ['I', \"'ve\", 'never', 'been', 'treated', 'so', 'bad', '.'], ['When', 'my', 'order', 'arrived', ',', 'one', 'of', 'the', 'gyros', 'was', 'missing', '.'], ['this', 'was', 'a', 'different', 'cut', 'than', 'the', 'piece', 'the', 'other', 'day', 'but', 'still', 'wonderful', 'and', 'tender', 's', 'well', 'as', 'well', 'flavored', '.'], ['The', 'servers', 'went', 'back', 'and', 'forth', 'several', 'times', ',', 'not', 'even', 'so', 'much', 'as', 'an', '``', 'Are', 'you', 'being', 'helped', '?', \"''\"], ['I', 'was', 'VERY', 'disappointed', '!', '!'], ['The', 'management', 'is', 'rude', '.'], ['And', 'the', 'drinks', 'are', 'WEAK', ',', 'people', '!'], ['We', 'had', 'a', 'group', 'of', '70+', 'when', 'we', 'claimed', 'we', 'would', 'only', 'have', '40', 'and', 'they', 'handled', 'us', 'beautifully', '.'], ['An', 'excellent', 'new', 'restaurant', 'by', 'an', 'experienced', 'Frenchman', '.'], ['Ryan', \"'s\", 'Bar', 'is', 'definitely', 'one', 'Edinburgh', 'establishment', 'I', 'wo', \"n't\", 'be', 'revisiting', '.'], ['We', 'are', \"n't\", 'ones', 'to', 'make', 'a', 'scene', 'at', 'restaurants', 'but', 'I', 'just', 'do', \"n't\", 'get', 'it', '...', 'definitely', 'lost', 'the', 'love', 'after', 'this', 'one', '!'], ['I', 'was', 'proven', 'dead', 'wrong', 'by', 'this', 'sushi', 'bar', ',', 'not', 'only', 'because', 'the', 'quality', 'is', 'great', ',', 'but', 'the', 'service', 'is', 'fast', 'and', 'the', 'food', ',', 'impeccable', '.'], ['The', 'bus', 'boy', 'on', 'the', 'other', 'hand', 'was', 'so', 'rude', '.'], ['My', 'husband', 'said', 'she', 'was', 'very', 'rude', '...', 'did', 'not', 'even', 'apologize', 'for', 'the', 'bad', 'food', 'or', 'anything', '.'], ['She', 'ordered', 'a', 'toasted', 'English', 'muffin', 'that', 'came', 'out', 'untoasted', '.'], ['I', 'was', 'so', 'insulted', '.'], ['Never', 'going', 'back', '.'], ['We', 'are', 'so', 'glad', 'we', 'found', 'this', 'place', '.'], ['For', 'that', 'price', 'I', 'can', 'think', 'of', 'a', 'few', 'place', 'I', 'would', 'have', 'much', 'rather', 'gone', '.'], ['I', 'was', \"n't\", 'really', 'impressed', 'with', 'Strip', 'Steak', '.'], ['Nice', ',', 'spicy', 'and', 'tender', '.'], ['I', 'give', 'it', '2', 'thumbs', 'down'], ['Not', 'much', 'seafood', 'and', 'like', '5', 'strings', 'of', 'pasta', 'at', 'the', 'bottom', '.'], ['Their', 'daily', 'specials', 'are', 'always', 'a', 'hit', 'with', 'my', 'group', '.'], ['OMG', ',', 'the', 'food', 'was', 'delicioso', '!'], ['This', 'wonderful', 'experience', 'made', 'this', 'place', 'a', 'must-stop', 'whenever', 'we', 'are', 'in', 'town', 'again', '.'], ['Anyway', ',', 'I', 'do', 'not', 'think', 'i', 'will', 'go', 'back', 'there', '.'], ['I', 'would', 'avoid', 'this', 'place', 'if', 'you', 'are', 'staying', 'in', 'the', 'Mirage', '.'], ['Join', 'the', 'club', 'and', 'get', 'awesome', 'offers', 'via', 'email', '.'], ['I', 'can', 'assure', 'you', 'that', 'you', 'wo', \"n't\", 'be', 'disappointed', '.'], ['I', 'seriously', 'can', 'not', 'believe', 'that', 'the', 'owner', 'has', 'so', 'many', 'unexperienced', 'employees', 'that', 'all', 'are', 'running', 'around', 'like', 'chickens', 'with', 'their', 'heads', 'cut', 'off', '.'], ['I', 'had', 'high', 'hopes', 'for', 'this', 'place', 'since', 'the', 'burgers', 'are', 'cooked', 'over', 'a', 'charcoal', 'grill', ',', 'but', 'unfortunately', 'the', 'taste', 'fell', 'flat', ',', 'way', 'flat', '.'], ['The', 'selection', 'on', 'the', 'menu', 'was', 'great', 'and', 'so', 'were', 'the', 'prices', '.'], ['Hands', 'down', 'my', 'favorite', 'Italian', 'restaurant', '!'], ['I', 'recently', 'tried', 'Caballero', \"'s\", 'and', 'I', 'have', 'been', 'back', 'every', 'week', 'since', '!'], ['When', 'I', \"'m\", 'on', 'this', 'side', 'of', 'town', ',', 'this', 'will', 'definitely', 'be', 'a', 'spot', 'I', \"'ll\", 'hit', 'up', 'again', '!'], ['Also', 'there', 'are', 'combos', 'like', 'a', 'burger', ',', 'fries', ',', 'and', 'beer', 'for', '23', 'which', 'is', 'a', 'decent', 'deal', '.'], ['Unfortunately', ',', 'we', 'must', 'have', 'hit', 'the', 'bakery', 'on', 'leftover', 'day', 'because', 'everything', 'we', 'ordered', 'was', 'STALE', '.'], ['This', 'is', 'was', 'due', 'to', 'the', 'fact', 'that', 'it', 'took', '20', 'minutes', 'to', 'be', 'acknowledged', ',', 'then', 'another', '35', 'minutes', 'to', 'get', 'our', 'food', '...', 'and', 'they', 'kept', 'forgetting', 'things', '.'], ['The', 'ambiance', 'here', 'did', 'not', 'feel', 'like', 'a', 'buffet', 'setting', ',', 'but', 'more', 'of', 'a', 'douchey', 'indoor', 'garden', 'for', 'tea', 'and', 'biscuits', '.'], ['Terrible', 'management', '.'], ['That', \"'s\", 'right', '...', '.the', 'red', 'velvet', 'cake', '...', '..ohhh', 'this', 'stuff', 'is', 'so', 'good', '.'], ['This', 'is', 'an', 'unbelievable', 'BARGAIN', '!'], ['They', 'had', 'a', 'toro', 'tartare', 'with', 'a', 'cavier', 'that', 'was', 'extraordinary', 'and', 'I', 'liked', 'the', 'thinly', 'sliced', 'wagyu', 'with', 'white', 'truffle', '.'], ['The', 'only', 'downside', 'is', 'the', 'service', '.'], ['All', 'the', 'bread', 'is', 'made', 'in-house', '!'], ['I', 'do', \"n't\", 'know', 'what', 'kind', 'it', 'is', 'but', 'they', 'have', 'the', 'best', 'iced', 'tea', '.'], ['Their', 'menu', 'is', 'diverse', ',', 'and', 'reasonably', 'priced', '.'], ['I', 'gave', 'it', '5', 'stars', 'then', ',', 'and', 'I', \"'m\", 'giving', 'it', '5', 'stars', 'now', '.'], ['Appetite', 'instantly', 'gone', '.'], ['If', 'you', 'want', 'healthy', 'authentic', 'or', 'ethic', 'food', ',', 'try', 'this', 'place', '.'], ['I', 'find', 'wasting', 'food', 'to', 'be', 'despicable', ',', 'but', 'this', 'just', 'was', \"n't\", 'food', '.'], ['We', 'literally', 'sat', 'there', 'for', '20', 'minutes', 'with', 'no', 'one', 'asking', 'to', 'take', 'our', 'order', '.'], ['I', \"'m\", 'not', 'sure', 'how', 'long', 'we', 'stood', 'there', 'but', 'it', 'was', 'long', 'enough', 'for', 'me', 'to', 'begin', 'to', 'feel', 'awkwardly', 'out', 'of', 'place', '.'], ['I', 'loved', 'the', 'grilled', 'pizza', ',', 'reminded', 'me', 'of', 'legit', 'Italian', 'pizza', '.'], ['Best', 'tater', 'tots', 'in', 'the', 'southwest', '.'], ['The', 'only', 'good', 'thing', 'was', 'our', 'waiter', ',', 'he', 'was', 'very', 'helpful', 'and', 'kept', 'the', 'bloddy', 'mary', \"'s\", 'coming', '.'], ['And', 'considering', 'the', 'two', 'of', 'us', 'left', 'there', 'very', 'full', 'and', 'happy', 'for', 'about', '$', '20', ',', 'you', 'just', 'ca', \"n't\", 'go', 'wrong', '.'], ['Good', 'Service-check', '!'], ['To', 'summarize', '...', 'the', 'food', 'was', 'incredible', ',', 'nay', ',', 'transcendant', '...', 'but', 'nothing', 'brings', 'me', 'joy', 'quite', 'like', 'the', 'memory', 'of', 'the', 'pneumatic', 'condiment', 'dispenser', '.'], ['Kids', 'pizza', 'is', 'always', 'a', 'hit', 'too', 'with', 'lots', 'of', 'great', 'side', 'dish', 'options', 'for', 'the', 'kiddos', '!'], ['I', 'really', 'enjoyed', 'eating', 'here', '.'], ['Service', 'is', 'also', 'cute', '.'], ['This', 'one', 'is', 'simply', 'a', 'disappointment', '.'], ['The', 'croutons', 'also', 'taste', 'homemade', 'which', 'is', 'an', 'extra', 'plus', '.'], ['The', 'shower', 'area', 'is', 'outside', 'so', 'you', 'can', 'only', 'rinse', ',', 'not', 'take', 'a', 'full', 'shower', ',', 'unless', 'you', 'do', \"n't\", 'mind', 'being', 'nude', 'for', 'everyone', 'to', 'see', '!'], ['Waitress', 'was', 'good', 'though', '!'], ['Love', 'this', 'place', ',', 'hits', 'the', 'spot', 'when', 'I', 'want', 'something', 'healthy', 'but', 'not', 'lacking', 'in', 'quantity', 'or', 'flavor', '.'], ['What', 'did', 'bother', 'me', ',', 'was', 'the', 'slow', 'service', '.'], ['It', \"'s\", 'NOT', 'hard', 'to', 'make', 'a', 'decent', 'hamburger', '.'], ['Now', 'the', 'pizza', 'itself', 'was', 'good', 'the', 'peanut', 'sauce', 'was', 'very', 'tasty', '.'], ['The', 'whole', 'experience', 'was', 'underwhelming', ',', 'and', 'I', 'think', 'we', \"'ll\", 'just', 'go', 'to', 'Ninja', 'Sushi', 'next', 'time', '.'], ['I', 'have', 'watched', 'their', 'prices', 'inflate', ',', 'portions', 'get', 'smaller', 'and', 'management', 'attitudes', 'grow', 'rapidly', '!'], ['Favorite', 'place', 'in', 'town', 'for', 'shawarrrrrrma', '!', '!', '!', '!', '!', '!'], ['This', 'place', 'is', 'great', '!', '!', '!', '!', '!', '!', '!', '!', '!', '!', '!', '!', '!', '!'], ['I', \"'ll\", 'take', 'my', 'business', 'dinner', 'dollars', 'elsewhere', '.'], ['Google', 'mediocre', 'and', 'I', 'imagine', 'Smashburger', 'will', 'pop', 'up', '.'], ['Overall', 'I', 'was', \"n't\", 'very', 'impressed', 'with', 'Noca', '.'], ['The', 'place', 'was', 'not', 'clean', 'and', 'the', 'food', 'oh', 'so', 'stale', '!'], ['He', 'was', 'terrible', '!'], ['Delicious', 'NYC', 'bagels', ',', 'good', 'selections', 'of', 'cream', 'cheese', ',', 'real', 'Lox', 'with', 'capers', 'even', '.'], ['Our', 'server', 'was', 'very', 'nice', 'and', 'attentive', 'as', 'were', 'the', 'other', 'serving', 'staff', '.'], ['On', 'the', 'good', 'side', ',', 'the', 'staff', 'was', 'genuinely', 'pleasant', 'and', 'enthusiastic', '-', 'a', 'real', 'treat', '.'], ['We', 'ordered', 'the', 'duck', 'rare', 'and', 'it', 'was', 'pink', 'and', 'tender', 'on', 'the', 'inside', 'with', 'a', 'nice', 'char', 'on', 'the', 'outside', '.'], ['The', 'staff', 'are', 'great', ',', 'the', 'ambiance', 'is', 'great', '.'], ['Four', 'stars', 'for', 'the', 'food', '&', 'the', 'guy', 'in', 'the', 'blue', 'shirt', 'for', 'his', 'great', 'vibe', '&', 'still', 'letting', 'us', 'in', 'to', 'eat', '!'], ['This', 'was', 'like', 'the', 'final', 'blow', '!'], ['They', 'also', 'have', 'the', 'best', 'cheese', 'crisp', 'in', 'town', '.'], ['This', 'is', \"n't\", 'a', 'small', 'family', 'restaurant', ',', 'this', 'is', 'a', 'fine', 'dining', 'establishment', '.'], ['The', 'service', 'was', 'extremely', 'slow', '.'], ['The', 'chefs', 'were', 'friendly', 'and', 'did', 'a', 'good', 'job', '.'], ['It', \"'s\", 'like', 'a', 'really', 'sexy', 'party', 'in', 'your', 'mouth', ',', 'where', 'you', \"'re\", 'outrageously', 'flirting', 'with', 'the', 'hottest', 'person', 'at', 'the', 'party', '.'], ['WILL', 'NEVER', 'EVER', 'GO', 'BACK', 'AND', 'HAVE', 'TOLD', 'MANY', 'PEOPLE', 'WHAT', 'HAD', 'HAPPENED', '.'], ['This', 'hole', 'in', 'the', 'wall', 'has', 'great', 'Mexican', 'street', 'tacos', ',', 'and', 'friendly', 'staff', '.'], ['Great', 'Pizza', 'and', 'Salads', '!'], ['I', 'went', 'to', 'Bachi', 'Burger', 'on', 'a', 'friend', \"'s\", 'recommendation', 'and', 'was', 'not', 'disappointed', '.'], ['Service', 'was', 'fantastic', '.'], ['Not', 'good', 'by', 'any', 'stretch', 'of', 'the', 'imagination', '.'], ['At', 'least', '40min', 'passed', 'in', 'between', 'us', 'ordering', 'and', 'the', 'food', 'arriving', ',', 'and', 'it', 'was', \"n't\", 'that', 'busy', '.'], ['Horrible', '-', 'do', \"n't\", 'waste', 'your', 'time', 'and', 'money', '.'], ['If', 'the', 'food', 'is', \"n't\", 'bad', 'enough', 'for', 'you', ',', 'then', 'enjoy', 'dealing', 'with', 'the', 'world', \"'s\", 'worst/annoying', 'drunk', 'people', '.'], ['It', 'should', \"n't\", 'take', '30', 'min', 'for', 'pancakes', 'and', 'eggs', '.'], ['Total', 'letdown', ',', 'I', 'would', 'much', 'rather', 'just', 'go', 'to', 'the', 'Camelback', 'Flower', 'Shop', 'and', 'Cartel', 'Coffee', '.'], ['The', 'food', 'came', 'out', 'at', 'a', 'good', 'pace', '.'], ['The', 'pizza', 'tasted', 'old', ',', 'super', 'chewy', 'in', 'not', 'a', 'good', 'way', '.'], ['By', 'this', 'time', 'our', 'side', 'of', 'the', 'restaurant', 'was', 'almost', 'empty', 'so', 'there', 'was', 'no', 'excuse', '.'], ['the', 'spaghetti', 'is', 'nothing', 'special', 'whatsoever', '.'], ['The', 'food', 'was', 'terrible', '.'], ['I', 'love', 'the', 'Pho', 'and', 'the', 'spring', 'rolls', 'oh', 'so', 'yummy', 'you', 'have', 'to', 'try', '.'], ['Friend', \"'s\", 'pasta', '--', 'also', 'bad', ',', 'he', 'barely', 'touched', 'it', '.'], ['As', 'always', 'the', 'evening', 'was', 'wonderful', 'and', 'the', 'food', 'delicious', '!'], ['Wo', \"n't\", 'ever', 'go', 'here', 'again', '.'], ['We', 'wo', \"n't\", 'be', 'going', 'back', '.'], ['It', 'was', 'probably', 'dirt', '.'], ['My', 'boyfriend', 'tried', 'the', 'Mediterranean', 'Chicken', 'Salad', 'and', 'fell', 'in', 'love', '.'], ['Very', 'very', 'fun', 'chef', '.'], ['You', 'ca', \"n't\", 'beat', 'that', '.'], ['The', 'staff', 'is', 'always', 'super', 'friendly', 'and', 'helpful', ',', 'which', 'is', 'especially', 'cool', 'when', 'you', 'bring', 'two', 'small', 'boys', 'and', 'a', 'baby', '!'], ['I', 'guess', 'I', 'should', 'have', 'known', 'that', 'this', 'place', 'would', 'suck', ',', 'because', 'it', 'is', 'inside', 'of', 'the', 'Excalibur', ',', 'but', 'I', 'did', \"n't\", 'use', 'my', 'common', 'sense', '.'], ['Server', 'did', 'a', 'great', 'job', 'handling', 'our', 'large', 'rowdy', 'table', '.'], ['On', 'three', 'different', 'occasions', 'I', 'asked', 'for', 'well', 'done', 'or', 'medium', 'well', ',', 'and', 'all', 'three', 'times', 'I', 'got', 'the', 'bloodiest', 'piece', 'of', 'meat', 'on', 'my', 'plate', '.'], ['Love', 'the', 'margaritas', ',', 'too', '!'], ['My', 'salad', 'had', 'a', 'bland', 'vinegrette', 'on', 'the', 'baby', 'greens', 'and', 'hearts', 'of', 'Palm', '.'], ['-Drinks', 'took', 'close', 'to', '30', 'minutes', 'to', 'come', 'out', 'at', 'one', 'point', '.'], ['After', 'all', 'the', 'rave', 'reviews', 'I', 'could', \"n't\", 'wait', 'to', 'eat', 'here', '...', '...', 'what', 'a', 'disappointment', '!'], ['We', 'got', 'sitting', 'fairly', 'fast', ',', 'but', ',', 'ended', 'up', 'waiting', '40', 'minutes', 'just', 'to', 'place', 'our', 'order', ',', 'another', '30', 'minutes', 'before', 'the', 'food', 'arrived', '.'], ['If', 'you', 'stay', 'in', 'Vegas', 'you', 'must', 'get', 'breakfast', 'here', 'at', 'least', 'once', '.'], ['The', 'scallop', 'dish', 'is', 'quite', 'appalling', 'for', 'value', 'as', 'well', '.'], ['It', \"'s\", 'too', 'bad', 'the', 'food', 'is', 'so', 'damn', 'generic', '.'], ['Always', 'a', 'great', 'time', 'at', 'Dos', 'Gringos', '!'], ['I', 'found', 'this', 'place', 'by', 'accident', 'and', 'I', 'could', 'not', 'be', 'happier', '.'], ['Will', 'never', ',', 'ever', 'go', 'back', '.'], ['Im', 'in', 'AZ', 'all', 'the', 'time', 'and', 'now', 'have', 'my', 'new', 'spot', '.'], ['The', 'food', 'is', 'good', '.'], ['Come', 'hungry', ',', 'leave', 'happy', 'and', 'stuffed', '!'], ['The', 'chipolte', 'ranch', 'dipping', 'sause', 'was', 'tasteless', ',', 'seemed', 'thin', 'and', 'watered', 'down', 'with', 'no', 'heat', '.'], ['Sooooo', 'good', '!', '!'], ['I', 'do', \"n't\", 'think', 'we', \"'ll\", 'be', 'going', 'back', 'anytime', 'soon', '.'], ['All', 'I', 'have', 'to', 'say', 'is', 'the', 'food', 'was', 'amazing', '!', '!', '!'], ['Extremely', 'Tasty', '!'], ['Worse', 'of', 'all', ',', 'he', 'humiliated', 'his', 'worker', 'right', 'in', 'front', 'of', 'me..Bunch', 'of', 'horrible', 'name', 'callings', '.'], ['Service', 'was', 'fine', 'and', 'the', 'waitress', 'was', 'friendly', '.'], ['Best', 'Buffet', 'in', 'town', ',', 'for', 'the', 'price', 'you', 'can', 'not', 'beat', 'it', '.'], ['I', 'have', 'been', 'to', 'very', 'few', 'places', 'to', 'eat', 'that', 'under', 'no', 'circumstances', 'would', 'I', 'ever', 'return', 'to', ',', 'and', 'this', 'tops', 'the', 'list', '.'], ['Owner', \"'s\", 'are', 'really', 'great', 'people', '.', '!'], ['I', 'always', 'order', 'from', 'the', 'vegetarian', 'menu', 'during', 'dinner', ',', 'which', 'has', 'a', 'wide', 'array', 'of', 'options', 'to', 'choose', 'from', '.'], ['They', 'will', 'customize', 'your', 'order', 'any', 'way', 'you', \"'d\", 'like', ',', 'my', 'usual', 'is', 'Eggplant', 'with', 'Green', 'Bean', 'stir', 'fry', ',', 'love', 'it', '!'], ['I', 'liked', 'the', 'patio', 'and', 'the', 'service', 'was', 'outstanding', '.'], ['The', 'warm', 'beer', 'did', \"n't\", 'help', '.'], ['An', 'absolute', 'must', 'visit', '!'], ['The', 'atmosphere', 'was', 'great', 'with', 'a', 'lovely', 'duo', 'of', 'violinists', 'playing', 'songs', 'we', 'requested', '.'], ['I', 'love', 'the', 'decor', 'with', 'the', 'Chinese', 'calligraphy', 'wall', 'paper', '.'], ['-My', 'order', 'was', 'not', 'correct', '.'], ['Delicious', 'and', 'I', 'will', 'absolutely', 'be', 'back', '!'], ['All', 'in', 'all', 'an', 'excellent', 'restaurant', 'highlighted', 'by', 'great', 'service', ',', 'a', 'unique', 'menu', ',', 'and', 'a', 'beautiful', 'setting', '.'], ['I', 'was', 'mortified', '.'], ['Give', 'it', 'a', 'try', ',', 'you', 'will', 'be', 'happy', 'you', 'did', '.'], ['Restaurant', 'is', 'always', 'full', 'but', 'never', 'a', 'wait', '.'], ['What', 'happened', 'next', 'was', 'pretty', '...', '.off', 'putting', '.'], ['The', 'one', 'down', 'note', 'is', 'the', 'ventilation', 'could', 'use', 'some', 'upgrading', '.'], ['Terrible', 'service', '!'], ['I', 'was', 'shocked', 'because', 'no', 'signs', 'indicate', 'cash', 'only', '.'], ['I', 'can', 'say', 'that', 'the', 'desserts', 'were', 'yummy', '.'], ['I', 'also', 'had', 'to', 'taste', 'my', 'Mom', \"'s\", 'multi-grain', 'pumpkin', 'pancakes', 'with', 'pecan', 'butter', 'and', 'they', 'were', 'amazing', ',', 'fluffy', ',', 'and', 'delicious', '!'], ['A', 'FLY', 'was', 'in', 'my', 'apple', 'juice..', 'A', 'FLY', '!', '!', '!', '!', '!', '!', '!', '!'], ['The', 'sergeant', 'pepper', 'beef', 'sandwich', 'with', 'auju', 'sauce', 'is', 'an', 'excellent', 'sandwich', 'as', 'well', '.'], ['It', 'was', 'way', 'over', 'fried', '.'], ['We', \"'d\", 'definitely', 'go', 'back', 'here', 'again', '.'], ['It', 'was', 'a', 'pale', 'color', 'instead', 'of', 'nice', 'and', 'char', 'and', 'has', 'NO', 'flavor', '.'], ['For', 'about', '10', 'minutes', ',', 'we', 'we', \"'re\", 'waiting', 'for', 'her', 'salad', 'when', 'we', 'realized', 'that', 'it', 'was', \"n't\", 'coming', 'any', 'time', 'soon', '.'], ['Went', 'for', 'lunch', '-', 'service', 'was', 'slow', '.'], ['Today', 'is', 'the', 'second', 'time', 'I', \"'ve\", 'been', 'to', 'their', 'lunch', 'buffet', 'and', 'it', 'was', 'pretty', 'good', '.'], ['REAL', 'sushi', 'lovers', ',', 'let', \"'s\", 'be', 'honest', '-', 'Yama', 'is', 'not', 'that', 'good', '.'], ['My', 'side', 'Greek', 'salad', 'with', 'the', 'Greek', 'dressing', 'was', 'so', 'tasty', ',', 'and', 'the', 'pita', 'and', 'hummus', 'was', 'very', 'refreshing', '.'], ['Ordered', 'burger', 'rare', 'came', 'in', 'we', \"'ll\", 'done', '.'], ['Only', 'Pros', ':', 'Large', 'seating', 'area/', 'Nice', 'bar', 'area/', 'Great', 'simple', 'drink', 'menu/', 'The', 'BEST', 'brick', 'oven', 'pizza', 'with', 'homemade', 'dough', '!'], ['I', 'asked', 'multiple', 'times', 'for', 'the', 'wine', 'list', 'and', 'after', 'some', 'time', 'of', 'being', 'ignored', 'I', 'went', 'to', 'the', 'hostess', 'and', 'got', 'one', 'myself', '.'], ['Any', 'grandmother', 'can', 'make', 'a', 'roasted', 'chicken', 'better', 'than', 'this', 'one', '.'], ['The', 'selection', 'of', 'food', 'was', 'not', 'the', 'best', '.'], ['the', 'potatoes', 'were', 'great', 'and', 'so', 'was', 'the', 'biscuit', '.'], ['In', 'an', 'interesting', 'part', 'of', 'town', ',', 'this', 'place', 'is', 'amazing', '.'], ['The', 'steaks', 'are', 'all', 'well', 'trimmed', 'and', 'also', 'perfectly', 'cooked', '.'], ['It', 'took', 'over', '30', 'min', 'to', 'get', 'their', 'milkshake', ',', 'which', 'was', 'nothing', 'more', 'than', 'chocolate', 'milk', '.'], ['The', 'Heart', 'Attack', 'Grill', 'in', 'downtown', 'Vegas', 'is', 'an', 'absolutely', 'flat-lined', 'excuse', 'for', 'a', 'restaurant', '.'], ['Lastly', ',', 'the', 'mozzarella', 'sticks', ',', 'they', 'were', 'the', 'best', 'thing', 'we', 'ordered', '.'], ['The', 'server', 'was', 'very', 'negligent', 'of', 'our', 'needs', 'and', 'made', 'us', 'feel', 'very', 'unwelcome', '...', 'I', 'would', 'not', 'suggest', 'this', 'place', '!'], ['The', 'waiter', 'was', \"n't\", 'helpful', 'or', 'friendly', 'and', 'rarely', 'checked', 'on', 'us', '.'], ['Unfortunately', ',', 'it', 'only', 'set', 'us', 'up', 'for', 'disapppointment', 'with', 'our', 'entrees', '.'], ['I', 'had', 'heard', 'good', 'things', 'about', 'this', 'place', ',', 'but', 'it', 'exceeding', 'every', 'hope', 'I', 'could', 'have', 'dreamed', 'of', '.'], ['Before', 'I', 'go', 'in', 'to', 'why', 'I', 'gave', 'a', '1', 'star', 'rating', 'please', 'know', 'that', 'this', 'was', 'my', 'third', 'time', 'eating', 'at', 'Bachi', 'burger', 'before', 'writing', 'a', 'review', '.'], ['This', 'place', 'is', 'awesome', 'if', 'you', 'want', 'something', 'light', 'and', 'healthy', 'during', 'the', 'summer', '.'], ['The', 'classic', 'Maine', 'Lobster', 'Roll', 'was', 'fantastic', '.'], ['Nicest', 'Chinese', 'restaurant', 'I', \"'ve\", 'been', 'in', 'a', 'while', '.'], ['A', 'good', 'time', '!'], ['Definitely', 'not', 'worth', 'the', '$', '3', 'I', 'paid', '.'], ['Worst', 'food/service', 'I', \"'ve\", 'had', 'in', 'a', 'while', '.'], ['WAAAAAAyyyyyyyyyy', 'over', 'rated', 'is', 'all', 'I', 'am', 'saying', '.'], ['This', 'place', 'is', 'not', 'quality', 'sushi', ',', 'it', 'is', 'not', 'a', 'quality', 'restaurant', '.'], ['The', 'servers', 'are', 'not', 'pleasant', 'to', 'deal', 'with', 'and', 'they', 'do', \"n't\", 'always', 'honor', 'Pizza', 'Hut', 'coupons', '.'], ['If', 'you', 'want', 'to', 'wait', 'for', 'mediocre', 'food', 'and', 'downright', 'terrible', 'service', ',', 'then', 'this', 'is', 'the', 'place', 'for', 'you', '.'], ['Have', 'been', 'going', 'since', '2007', 'and', 'every', 'meal', 'has', 'been', 'awesome', '!', '!'], ['The', 'ambiance', 'is', \"n't\", 'much', 'better', '.'], ['Their', 'steaks', 'are', '100', '%', 'recommended', '!'], ['Food', 'was', 'really', 'boring', '.'], ['Lordy', ',', 'the', 'Khao', 'Soi', 'is', 'a', 'dish', 'that', 'is', 'not', 'to', 'be', 'missed', 'for', 'curry', 'lovers', '!'], ['We', 'thought', 'you', \"'d\", 'have', 'to', 'venture', 'further', 'away', 'to', 'get', 'good', 'sushi', ',', 'but', 'this', 'place', 'really', 'hit', 'the', 'spot', 'that', 'night', '.'], ['I', 'probably', 'would', 'not', 'go', 'here', 'again', '.'], ['I', 'ca', \"n't\", 'tell', 'you', 'how', 'disappointed', 'I', 'was', '.'], ['So', 'in', 'a', 'nutshell', ':', '1', ')', 'The', 'restaraunt', 'smells', 'like', 'a', 'combination', 'of', 'a', 'dirty', 'fish', 'market', 'and', 'a', 'sewer', '.'], ['The', 'sweet', 'potato', 'tots', 'were', 'good', 'but', 'the', 'onion', 'rings', 'were', 'perfection', 'or', 'as', 'close', 'as', 'I', 'have', 'had', '.'], ['It', 'sure', 'does', 'beat', 'the', 'nachos', 'at', 'the', 'movies', 'but', 'I', 'would', 'expect', 'a', 'little', 'bit', 'more', 'coming', 'from', 'a', 'restaurant', '.'], ['Coming', 'here', 'is', 'like', 'experiencing', 'an', 'underwhelming', 'relationship', 'where', 'both', 'parties', 'ca', \"n't\", 'wait', 'for', 'the', 'other', 'person', 'to', 'ask', 'to', 'break', 'up', '.'], ['This', 'place', 'has', 'it', '!'], ['It', 'was', 'absolutely', 'amazing', '.'], ['I', 'probably', 'wo', \"n't\", 'be', 'back', ',', 'to', 'be', 'honest', '.'], ['They', 'were', 'golden-crispy', 'and', 'delicious', '.'], ['I', 'had', 'the', 'mac', 'salad', 'and', 'it', 'was', 'pretty', 'bland', 'so', 'I', 'will', 'not', 'be', 'getting', 'that', 'again', '.'], ['The', 'manager', 'was', 'the', 'worst', '.'], ['I', 'really', 'enjoyed', 'Crema', 'Café', 'before', 'they', 'expanded', ';', 'I', 'even', 'told', 'friends', 'they', 'had', 'the', 'BEST', 'breakfast', '.'], ['Your', 'servers', 'suck', ',', 'wait', ',', 'correction', ',', 'our', 'server', 'Heimer', 'sucked', '.'], ['Soggy', 'and', 'not', 'good', '.'], ['The', 'food', 'was', 'terrible', '.'], ['I', 'LOVED', 'it', '!'], ['The', 'Greek', 'dressing', 'was', 'very', 'creamy', 'and', 'flavorful', '.'], ['Great', 'place', 'to', 'relax', 'and', 'have', 'an', 'awesome', 'burger', 'and', 'beer', '.'], ['Definitely', 'worth', 'venturing', 'off', 'the', 'strip', 'for', 'the', 'pork', 'belly', ',', 'will', 'return', 'next', 'time', 'I', \"'m\", 'in', 'Vegas', '.'], ['The', 'staff', 'was', 'very', 'attentive', '.'], ['And', 'service', 'was', 'super', 'friendly', '.'], ['I', \"'ve\", 'had', 'better', ',', 'not', 'only', 'from', 'dedicated', 'boba', 'tea', 'spots', ',', 'but', 'even', 'from', 'Jenni', 'Pho', '.'], ['Great', 'atmosphere', ',', 'friendly', 'and', 'fast', 'service', '.'], ['This', 'is', 'one', 'of', 'the', 'best', 'bars', 'with', 'food', 'in', 'Vegas', '.'], ['The', 'food', 'was', 'very', 'good', '.'], ['Del', 'Taco', 'is', 'pretty', 'nasty', 'and', 'should', 'be', 'avoided', 'if', 'possible', '.'], ['It', 'was', 'a', 'bit', 'too', 'sweet', ',', 'not', 'really', 'spicy', 'enough', ',', 'and', 'lacked', 'flavor', '.'], ['The', 'place', 'was', 'fairly', 'clean', 'but', 'the', 'food', 'simply', 'was', \"n't\", 'worth', 'it', '.'], ['This', 'is', 'a', 'really', 'fantastic', 'Thai', 'restaurant', 'which', 'is', 'definitely', 'worth', 'a', 'visit', '.'], ['Seriously', 'flavorful', 'delights', ',', 'folks', '.'], ['It', 'was', 'awesome', '.'], ['This', 'is', 'a', 'great', 'restaurant', 'at', 'the', 'Mandalay', 'Bay', '.'], ['We', 'also', 'ordered', 'the', 'spinach', 'and', 'avocado', 'salad', ';', 'the', 'ingredients', 'were', 'sad', 'and', 'the', 'dressing', 'literally', 'had', 'zero', 'taste', '.'], ['One', 'of', 'the', 'few', 'places', 'in', 'Phoenix', 'that', 'I', 'would', 'definately', 'go', 'back', 'to', 'again', '.'], ['I', 'would', 'not', 'recommend', 'this', 'place', '.'], ['Everything', 'was', 'gross', '.'], ['The', 'last', '3', 'times', 'I', 'had', 'lunch', 'here', 'has', 'been', 'bad', '.'], ['Great', 'Subway', ',', 'in', 'fact', 'it', \"'s\", 'so', 'good', 'when', 'you', 'come', 'here', 'every', 'other', 'Subway', 'will', 'not', 'meet', 'your', 'expectations', '.'], ['Just', 'as', 'good', 'as', 'when', 'I', 'had', 'it', 'more', 'than', 'a', 'year', 'ago', '!'], ['Penne', 'vodka', 'excellent', '!'], ['a', 'drive', 'thru', 'means', 'you', 'do', 'not', 'want', 'to', 'wait', 'around', 'for', 'half', 'an', 'hour', 'for', 'your', 'food', ',', 'but', 'somehow', 'when', 'we', 'end', 'up', 'going', 'here', 'they', 'make', 'us', 'wait', 'and', 'wait', '.'], ['As', 'much', 'as', 'I', \"'d\", 'like', 'to', 'go', 'back', ',', 'I', 'ca', \"n't\", 'get', 'passed', 'the', 'atrocious', 'service', 'and', 'will', 'never', 'return', '.'], ['The', 'pan', 'cakes', 'everyone', 'are', 'raving', 'about', 'taste', 'like', 'a', 'sugary', 'disaster', 'tailored', 'to', 'the', 'palate', 'of', 'a', 'six', 'year', 'old', '.'], ['He', 'deserves', '5', 'stars', '.'], ['Food', 'was', 'good', ',', 'service', 'was', 'good', ',', 'Prices', 'were', 'good', '.'], ['We', 'will', 'not', 'be', 'coming', 'back', '.'], ['The', 'chicken', 'dishes', 'are', 'OK', ',', 'the', 'beef', 'is', 'like', 'shoe', 'leather', '.'], ['The', 'ambiance', 'was', 'incredible', '.'], ['The', 'only', 'reason', 'to', 'eat', 'here', 'would', 'be', 'to', 'fill', 'up', 'before', 'a', 'night', 'of', 'binge', 'drinking', 'just', 'to', 'get', 'some', 'carbs', 'in', 'your', 'stomach', '.'], ['We', 'watched', 'our', 'waiter', 'pay', 'a', 'lot', 'more', 'attention', 'to', 'other', 'tables', 'and', 'ignore', 'us', '.'], ['The', 'chips', 'and', 'sals', 'a', 'here', 'is', 'amazing', '!', '!', '!', '!', '!', '!', '!', '!', '!', '!', '!', '!', '!', '!', '!', '!', '!', '!', '!'], ['Everything', 'on', 'the', 'menu', 'is', 'terrific', 'and', 'we', 'were', 'also', 'thrilled', 'that', 'they', 'made', 'amazing', 'accommodations', 'for', 'our', 'vegetarian', 'daughter', '.'], ['The', 'block', 'was', 'amazing', '.'], ['The', 'food', 'is', 'delicious', 'and', 'just', 'spicy', 'enough', ',', 'so', 'be', 'sure', 'to', 'ask', 'for', 'spicier', 'if', 'you', 'prefer', 'it', 'that', 'way', '.'], ['I', 'wo', \"n't\", 'be', 'back', '.'], ['The', 'ripped', 'banana', 'was', 'not', 'only', 'ripped', ',', 'but', 'petrified', 'and', 'tasteless', '.'], ['The', 'food', 'is', 'very', 'good', 'for', 'your', 'typical', 'bar', 'food', '.'], ['We', 'waited', 'for', 'forty', 'five', 'minutes', 'in', 'vain', '.'], ['But', 'then', 'they', 'came', 'back', 'cold', '.'], ['We', 'got', 'the', 'food', 'and', 'apparently', 'they', 'have', 'never', 'heard', 'of', 'salt', 'and', 'the', 'batter', 'on', 'the', 'fish', 'was', 'chewy', '.'], ['They', 'have', 'great', 'dinners', '.'], ['The', 'service', 'was', 'a', 'bit', 'lacking', '.'], ['We', 'enjoy', 'their', 'pizza', 'and', 'brunch', '.'], ['I', 'was', 'seated', 'immediately', '.'], ['Service', 'sucks', '.'], ['Spend', 'your', 'money', 'and', 'time', 'some', 'place', 'else', '.'], ['Then', ',', 'as', 'if', 'I', 'had', \"n't\", 'wasted', 'enough', 'of', 'my', 'life', 'there', ',', 'they', 'poured', 'salt', 'in', 'the', 'wound', 'by', 'drawing', 'out', 'the', 'time', 'it', 'took', 'to', 'bring', 'the', 'check', '.'], ['Our', 'server', 'was', 'very', 'nice', ',', 'and', 'even', 'though', 'he', 'looked', 'a', 'little', 'overwhelmed', 'with', 'all', 'of', 'our', 'needs', ',', 'he', 'stayed', 'professional', 'and', 'friendly', 'until', 'the', 'end', '.'], ['Not', 'a', 'single', 'employee', 'came', 'out', 'to', 'see', 'if', 'we', 'were', 'OK', 'or', 'even', 'needed', 'a', 'water', 'refill', 'once', 'they', 'finally', 'served', 'us', 'our', 'food', '.'], ['Probably', 'never', 'coming', 'back', ',', 'and', 'would', \"n't\", 'recommend', 'it', '.'], ['I', 'never', 'come', 'again', '.'], ['Host', 'staff', 'were', ',', 'for', 'lack', 'of', 'a', 'better', 'word', ',', 'BITCHES', '!'], ['Your', 'staff', 'spends', 'more', 'time', 'talking', 'to', 'themselves', 'than', 'me', '.'], ['In', 'summary', ',', 'this', 'was', 'a', 'largely', 'disappointing', 'dining', 'experience', '.'], ['this', 'is', 'the', 'worst', 'sushi', 'i', 'have', 'ever', 'eat', 'besides', 'Costco', \"'s\", '.'], ['After', 'waiting', 'an', 'hour', 'and', 'being', 'seated', ',', 'I', 'was', 'not', 'in', 'the', 'greatest', 'of', 'moods', '.'], ['The', 'building', 'itself', 'seems', 'pretty', 'neat', ';', 'the', 'bathroom', 'is', 'pretty', 'trippy', ',', 'but', 'I', 'would', \"n't\", 'eat', 'here', 'again', '.'], ['I', 'dont', 'think', 'I', 'will', 'be', 'back', 'for', 'a', 'very', 'long', 'time', '.'], ['The', 'cashew', 'cream', 'sauce', 'was', 'bland', 'and', 'the', 'vegetables', 'were', 'undercooked', '.'], ['Although', 'I', 'very', 'much', 'liked', 'the', 'look', 'and', 'sound', 'of', 'this', 'place', ',', 'the', 'actual', 'experience', 'was', 'a', 'bit', 'disappointing', '.'], ['And', 'the', 'red', 'curry', 'had', 'so', 'much', 'bamboo', 'shoots', 'and', 'was', \"n't\", 'very', 'tasty', 'to', 'me', '.'], ['This', 'place', 'lacked', 'style', '!', '!'], ['The', 'sangria', 'was', 'about', 'half', 'of', 'a', 'glass', 'wine', 'full', 'and', 'was', '$', '12', ',', 'ridiculous', '.'], ['A', 'greasy', ',', 'unhealthy', 'meal', '.'], ['Today', 'was', 'my', 'first', 'taste', 'of', 'a', 'Buldogis', 'Gourmet', 'Hot', 'Dog', 'and', 'I', 'have', 'to', 'tell', 'you', 'it', 'was', 'more', 'than', 'I', 'ever', 'thought', 'possible', '.'], ['The', 'seasonal', 'fruit', 'was', 'fresh', 'white', 'peach', 'puree', '.'], ['Boy', 'was', 'that', 'sucker', 'dry', '!', '!', '.'], ['Food', 'was', 'below', 'average', '.'], ['The', 'ambience', 'is', 'wonderful', 'and', 'there', 'is', 'music', 'playing', '.'], ['Not', 'my', 'thing', '.'], ['Update', '...', '..went', 'back', 'for', 'a', 'second', 'time', 'and', 'it', 'was', 'still', 'just', 'as', 'amazing'], ['I', 'live', 'in', 'the', 'neighborhood', 'so', 'I', 'am', 'disappointed', 'I', 'wo', \"n't\", 'be', 'back', 'here', ',', 'because', 'it', 'is', 'a', 'convenient', 'location', '.'], ['Do', \"n't\", 'do', 'it', '!', '!', '!', '!'], ['We', 'waited', 'an', 'hour', 'for', 'what', 'was', 'a', 'breakfast', 'I', 'could', 'have', 'done', '100', 'times', 'better', 'at', 'home', '.'], ['This', 'place', 'deserves', 'one', 'star', 'and', '90', '%', 'has', 'to', 'do', 'with', 'the', 'food', '.'], ['On', 'the', 'ground', ',', 'right', 'next', 'to', 'our', 'table', 'was', 'a', 'large', ',', 'smeared', ',', 'been-stepped-in-and-tracked-everywhere', 'pile', 'of', 'green', 'bird', 'poop', '.'], ['AVOID', 'THIS', 'ESTABLISHMENT', '!'], ['This', 'is', 'one', 'of', 'the', 'better', 'buffets', 'that', 'I', 'have', 'been', 'to', '.'], ['Our', 'waiter', 'was', 'very', 'attentive', ',', 'friendly', ',', 'and', 'informative', '.'], ['If', 'you', 'want', 'a', 'sandwich', 'just', 'go', 'to', 'any', 'Firehouse', '!', '!', '!', '!', '!'], ['Shrimp-', 'When', 'I', 'unwrapped', 'it', '(', 'I', 'live', 'only', '1/2', 'a', 'mile', 'from', 'Brushfire', ')', 'it', 'was', 'literally', 'ice', 'cold', '.'], ['We', 'were', 'promptly', 'greeted', 'and', 'seated', '.'], ['I', \"'m\", 'not', 'really', 'sure', 'how', 'Joey', \"'s\", 'was', 'voted', 'best', 'hot', 'dog', 'in', 'the', 'Valley', 'by', 'readers', 'of', 'Phoenix', 'Magazine', '.'], ['My', 'girlfriend', \"'s\", 'veal', 'was', 'very', 'bad', '.'], ['No', 'complaints', '!'], ['The', 'only', 'redeeming', 'quality', 'of', 'the', 'restaurant', 'was', 'that', 'it', 'was', 'very', 'inexpensive', '.'], ['I', 'promise', 'they', 'wo', \"n't\", 'disappoint', '.'], ['Back', 'to', 'good', 'BBQ', ',', 'lighter', 'fare', ',', 'reasonable', 'pricing', 'and', 'tell', 'the', 'public', 'they', 'are', 'back', 'to', 'the', 'old', 'ways', '.'], ['Omelets', 'are', 'to', 'die', 'for', '!'], ['Bad', 'day', 'or', 'not', ',', 'I', 'have', 'a', 'very', 'low', 'tolerance', 'for', 'rude', 'customer', 'service', 'people', ',', 'it', 'is', 'your', 'job', 'to', 'be', 'nice', 'and', 'polite', ',', 'wash', 'dishes', 'otherwise', '!', '!'], ['This', 'greedy', 'corporation', 'will', 'NEVER', 'see', 'another', 'dime', 'from', 'me', '!'], ['i', 'felt', 'insulted', 'and', 'disrespected', ',', 'how', 'could', 'you', 'talk', 'and', 'judge', 'another', 'human', 'being', 'like', 'that', '?'], ['This', 'is', 'my', 'new', 'fav', 'Vegas', 'buffet', 'spot', '.'], ['Despite', 'how', 'hard', 'I', 'rate', 'businesses', ',', 'its', 'actually', 'rare', 'for', 'me', 'to', 'give', 'a', '1', 'star', '.'], ['The', 'cocktails', 'are', 'all', 'handmade', 'and', 'delicious', '.'], ['My', 'first', 'visit', 'to', 'Hiro', 'was', 'a', 'delight', '!'], ['Ordered', 'an', 'appetizer', 'and', 'took', '40', 'minutes', 'and', 'then', 'the', 'pizza', 'another', '10', 'minutes', '.'], ['I', 'wo', \"n't\", 'try', 'going', 'back', 'there', 'even', 'if', 'it', \"'s\", 'empty', '.'], ['The', 'bartender', 'was', 'also', 'nice', '.'], ['I', 'have', 'never', 'had', 'such', 'bland', 'food', 'which', 'surprised', 'me', 'considering', 'the', 'article', 'we', 'read', 'focused', 'so', 'much', 'on', 'their', 'spices', 'and', 'flavor', '.'], ['for', '40', 'bucks', 'a', 'head', ',', 'i', 'really', 'expect', 'better', 'food', '.'], ['Dessert', ':', 'Panna', 'Cotta', 'was', 'amazing', '.'], ['Those', 'burgers', 'were', 'amazing', '.'], ['It', 'was', 'attached', 'to', 'a', 'gas', 'station', ',', 'and', 'that', 'is', 'rarely', 'a', 'good', 'sign', '.'], ['The', 'potato', 'chip', 'order', 'was', 'sad', '...', 'I', 'could', 'probably', 'count', 'how', 'many', 'chips', 'were', 'in', 'that', 'box', 'and', 'it', 'was', 'probably', 'around', '12', '.'], ['You', 'cant', 'go', 'wrong', 'with', 'any', 'of', 'the', 'food', 'here', '.'], ['Strike', '2', ',', 'who', 'wants', 'to', 'be', 'rushed', '.'], ['You', 'wo', \"n't\", 'be', 'disappointed', '.'], ['Tonight', 'I', 'had', 'the', 'Elk', 'Filet', 'special', '...', 'and', 'it', 'sucked', '.'], ['I', 'would', 'definitely', 'recommend', 'the', 'wings', 'as', 'well', 'as', 'the', 'pizza', '.'], ['Not', 'much', 'flavor', 'to', 'them', ',', 'and', 'very', 'poorly', 'constructed', '.'], ['Would', 'not', 'recommend', 'to', 'others', '.'], ['I', 'will', 'not', 'be', 'eating', 'there', 'again', '.'], ['The', 'chicken', 'was', 'deliciously', 'seasoned', 'and', 'had', 'the', 'perfect', 'fry', 'on', 'the', 'outside', 'and', 'moist', 'chicken', 'on', 'the', 'inside', '.'], ['Food', 'arrived', 'quickly', '!'], ['I', 'got', 'to', 'enjoy', 'the', 'seafood', 'salad', ',', 'with', 'a', 'fabulous', 'vinegrette', '.'], ['Seafood', 'was', 'limited', 'to', 'boiled', 'shrimp', 'and', 'crab', 'legs', 'but', 'the', 'crab', 'legs', 'definitely', 'did', 'not', 'taste', 'fresh', '.'], ['For', 'service', ',', 'I', 'give', 'them', 'no', 'stars', '.'], ['After', 'I', 'pulled', 'up', 'my', 'car', 'I', 'waited', 'for', 'another', '15', 'minutes', 'before', 'being', 'acknowledged', '.'], ['The', 'food', 'was', 'delicious', ',', 'our', 'bartender', 'was', 'attentive', 'and', 'personable', 'AND', 'we', 'got', 'a', 'great', 'deal', '!'], ['Waited', '2', 'hours', '&', 'never', 'got', 'either', 'of', 'our', 'pizzas', 'as', 'many', 'other', 'around', 'us', 'who', 'came', 'in', 'later', 'did', '!'], ['My', 'friend', 'loved', 'the', 'salmon', 'tartar', '.'], ['As', 'a', 'sushi', 'lover', 'avoid', 'this', 'place', 'by', 'all', 'means', '.'], ['I', 'love', 'their', 'fries', 'and', 'their', 'beans', '.'], ['After', '20', 'minutes', 'wait', ',', 'I', 'got', 'a', 'table', '.'], ['I', \"'m\", 'not', 'eating', 'here', '!'], ['The', 'vegetables', 'are', 'so', 'fresh', 'and', 'the', 'sauce', 'feels', 'like', 'authentic', 'Thai', '.'], ['The', 'pizza', 'selections', 'are', 'good', '.'], ['I', 'think', 'not', 'again'], ['The', 'decor', 'is', 'nice', ',', 'and', 'the', 'piano', 'music', 'soundtrack', 'is', 'pleasant', '.'], ['Level', '5', 'spicy', 'was', 'perfect', ',', 'where', 'spice', 'did', \"n't\", 'over-whelm', 'the', 'soup', '.'], ['Overall', ',', 'I', 'was', 'very', 'disappointed', 'with', 'the', 'quality', 'of', 'food', 'at', 'Bouchon', '.'], ['It', 'was', 'just', 'not', 'a', 'fun', 'experience', '.'], ['Tried', 'to', 'go', 'here', 'for', 'lunch', 'and', 'it', 'was', 'a', 'madhouse', '.'], ['They', 'have', 'horrible', 'attitudes', 'towards', 'customers', ',', 'and', 'talk', 'down', 'to', 'each', 'one', 'when', 'customers', 'do', \"n't\", 'enjoy', 'their', 'food', '.'], ['Third', ',', 'the', 'cheese', 'on', 'my', 'friend', \"'s\", 'burger', 'was', 'cold', '.'], ['Frozen', 'pucks', 'of', 'disgust', ',', 'with', 'some', 'of', 'the', 'worst', 'people', 'behind', 'the', 'register', '.'], ['Damn', 'good', 'steak', '.'], ['It', \"'s\", 'close', 'to', 'my', 'house', ',', 'it', \"'s\", 'low-key', ',', 'non-fancy', ',', 'affordable', 'prices', ',', 'good', 'food', '.'], ['As', 'for', 'the', 'service', ',', 'I', 'thought', 'it', 'was', 'good', '.'], ['Great', 'time', '-', 'family', 'dinner', 'on', 'a', 'Sunday', 'night', '.'], ['The', 'only', 'thing', 'I', 'was', \"n't\", 'too', 'crazy', 'about', 'was', 'their', 'guacamole', 'as', 'I', 'do', \"n't\", 'like', 'it', 'puréed', '.'], ['I', '*heart*', 'this', 'place', '.'], ['It', 'was', 'extremely', '``', 'crumby', \"''\", 'and', 'pretty', 'tasteless', '.'], ['This', 'place', 'is', 'not', 'worth', 'your', 'time', ',', 'let', 'alone', 'Vegas', '.'], ['What', 'SHOULD', 'have', 'been', 'a', 'hilarious', ',', 'yummy', 'Christmas', 'Eve', 'dinner', 'to', 'remember', 'was', 'the', 'biggest', 'fail', 'of', 'the', 'entire', 'trip', 'for', 'us', '.'], ['Everything', 'was', 'perfect', 'the', 'night', 'we', 'were', 'in', '.'], ['The', 'roast', 'beef', 'sandwich', 'tasted', 'really', 'good', '!'], ['I', 'hope', 'this', 'place', 'sticks', 'around', '.'], ['If', 'someone', 'orders', 'two', 'tacos', 'do', \"n't\", \"'\", 'you', 'think', 'it', 'may', 'be', 'part', 'of', 'customer', 'service', 'to', 'ask', 'if', 'it', 'is', 'combo', 'or', 'ala', 'cart', '?'], ['On', 'the', 'up', 'side', ',', 'their', 'cafe', 'serves', 'really', 'good', 'food', '.'], ['Very', 'good', 'food', ',', 'great', 'atmosphere.1'], ['Never', 'had', 'anything', 'to', 'complain', 'about', 'here', '.'], ['This', 'place', 'was', 'such', 'a', 'nice', 'surprise', '!'], ['The', 'tables', 'outside', 'are', 'also', 'dirty', 'a', 'lot', 'of', 'the', 'time', 'and', 'the', 'workers', 'are', 'not', 'always', 'friendly', 'and', 'helpful', 'with', 'the', 'menu', '.'], ['did', 'not', 'like', 'at', 'all', '.'], ['Do', 'not', 'waste', 'your', 'money', 'here', '!'], ['I', 'came', 'back', 'today', 'since', 'they', 'relocated', 'and', 'still', 'not', 'impressed', '.'], ['The', 'fries', 'were', 'great', 'too', '.'], ['We', 'wo', \"n't\", 'be', 'returning', '.'], ['The', 'food', 'is', 'about', 'on', 'par', 'with', 'Denny', \"'s\", ',', 'which', 'is', 'to', 'say', ',', 'not', 'good', 'at', 'all', '.'], ['We', 'had', 'fantastic', 'service', ',', 'and', 'were', 'pleased', 'by', 'the', 'atmosphere', '.'], ['It', 'was', 'either', 'too', 'cold', ',', 'not', 'enough', 'flavor', 'or', 'just', 'bad', '.'], ['No', 'allergy', 'warnings', 'on', 'the', 'menu', ',', 'and', 'the', 'waitress', 'had', 'absolutely', 'no', 'clue', 'as', 'to', 'which', 'meals', 'did', 'or', 'did', 'not', 'contain', 'peanuts', '.'], ['Mediocre', 'food', '.'], ['Do', \"n't\", 'waste', 'your', 'time', 'here', '.'], ['Why', 'are', 'these', 'sad', 'little', 'vegetables', 'so', 'overcooked', '?'], ['Also', ',', 'I', 'feel', 'like', 'the', 'chips', 'are', 'bought', ',', 'not', 'made', 'in', 'house', '.'], ['This', 'was', 'my', 'first', 'and', 'only', 'Vegas', 'buffet', 'and', 'it', 'did', 'not', 'disappoint', '.'], ['For', 'sushi', 'on', 'the', 'Strip', ',', 'this', 'is', 'the', 'place', 'to', 'go', '.'], ['When', 'I', 'opened', 'the', 'sandwich', ',', 'I', 'was', 'impressed', ',', 'but', 'not', 'in', 'a', 'good', 'way', '.'], ['Now', 'this', 'dish', 'was', 'quite', 'flavourful', '.'], ['The', 'Burrittos', 'Blah', '!'], ['It', 'was', 'packed', '!', '!'], ['The', 'yellowtail', 'carpaccio', 'was', 'melt', 'in', 'your', 'mouth', 'fresh', '.'], ['The', 'real', 'disappointment', 'was', 'our', 'waiter', '.'], ['The', 'feel', 'of', 'the', 'dining', 'room', 'was', 'more', 'college', 'cooking', 'course', 'than', 'high', 'class', 'dining', 'and', 'the', 'service', 'was', 'slow', 'at', 'best', '.'], ['The', 'sides', 'are', 'delish', '-', 'mixed', 'mushrooms', ',', 'yukon', 'gold', 'puree', ',', 'white', 'corn', '-', 'beateous', '.'], ['I', 'got', 'home', 'to', 'see', 'the', 'driest', 'damn', 'wings', 'ever', '!'], ['I', 'love', 'this', 'place', '.'], ['The', 'restaurant', 'is', 'very', 'clean', 'and', 'has', 'a', 'family', 'restaurant', 'feel', 'to', 'it', '.'], ['Fantastic', 'service', 'here', '.'], ['The', 'menu', 'is', 'always', 'changing', ',', 'food', 'quality', 'is', 'going', 'down', '&', 'service', 'is', 'extremely', 'slow', '.'], ['It', 'is', 'worth', 'the', 'drive', '.'], ['We', 'started', 'with', 'the', 'tuna', 'sashimi', 'which', 'was', 'brownish', 'in', 'color', 'and', 'obviously', 'was', \"n't\", 'fresh', '.'], ['The', 'sweet', 'potato', 'fries', 'were', 'very', 'good', 'and', 'seasoned', 'well', '.'], ['A', 'couple', 'of', 'months', 'later', ',', 'I', 'returned', 'and', 'had', 'an', 'amazing', 'meal', '.'], ['The', 'service', 'was', 'meh', '.'], ['All', 'in', 'all', ',', 'Ha', 'Long', 'Bay', 'was', 'a', 'bit', 'of', 'a', 'flop', '.'], ['From', 'what', 'my', 'dinner', 'companions', 'told', 'me', '...', 'everything', 'was', 'very', 'fresh', 'with', 'nice', 'texture', 'and', 'taste', '.'], ['Waitress', 'was', 'sweet', 'and', 'funny', '.'], ['Weird', 'vibe', 'from', 'owners', '.'], ['The', 'crêpe', 'was', 'delicate', 'and', 'thin', 'and', 'moist', '.'], ['And', 'the', 'chef', 'was', 'generous', 'with', 'his', 'time', '(', 'even', 'came', 'around', 'twice', 'so', 'we', 'can', 'take', 'pictures', 'with', 'him', ')', '.'], ['Good', 'value', ',', 'great', 'food', ',', 'great', 'service', '.'], ['2', 'times', '-', 'Very', 'Bad', 'Customer', 'Service', '!'], ['One', 'nice', 'thing', 'was', 'that', 'they', 'added', 'gratuity', 'on', 'the', 'bill', 'since', 'our', 'party', 'was', 'larger', 'than', '6', 'or', '8', ',', 'and', 'they', 'did', \"n't\", 'expect', 'more', 'tip', 'than', 'that', '.'], ['So', 'we', 'went', 'to', 'Tigerlilly', 'and', 'had', 'a', 'fantastic', 'afternoon', '!'], ['The', 'portion', 'was', 'huge', '!'], ['Very', 'convenient', ',', 'since', 'we', 'were', 'staying', 'at', 'the', 'MGM', '!'], ['The', 'steak', 'and', 'the', 'shrimp', 'are', 'in', 'my', 'opinion', 'the', 'best', 'entrees', 'at', 'GC', '.'], ['We', 'had', 'so', 'much', 'to', 'say', 'about', 'the', 'place', 'before', 'we', 'walked', 'in', 'that', 'he', 'expected', 'it', 'to', 'be', 'amazing', ',', 'but', 'was', 'quickly', 'disappointed', '.'], ['It', \"'ll\", 'be', 'a', 'regular', 'stop', 'on', 'my', 'trips', 'to', 'Phoenix', '!'], ['This', 'is', 'an', 'Outstanding', 'little', 'restaurant', 'with', 'some', 'of', 'the', 'Best', 'Food', 'I', 'have', 'ever', 'tasted', '.'], ['I', 'do', \"n't\", 'think', 'I', \"'ll\", 'be', 'running', 'back', 'to', 'Carly', \"'s\", 'anytime', 'soon', 'for', 'food', '.'], ['The', 'restaurant', 'atmosphere', 'was', 'exquisite', '.'], ['A', 'great', 'touch', '.'], ['The', 'salad', 'had', 'just', 'the', 'right', 'amount', 'of', 'sauce', 'to', 'not', 'over', 'power', 'the', 'scallop', ',', 'which', 'was', 'perfectly', 'cooked', '.'], ['The', 'wontons', 'were', 'thin', ',', 'not', 'thick', 'and', 'chewy', ',', 'almost', 'melt', 'in', 'your', 'mouth', '.'], ['I', 'love', 'this', 'place', '.'], ['The', 'service', 'was', 'a', 'little', 'slow', ',', 'considering', 'that', 'were', 'served', 'by', '3', 'people', 'servers', 'so', 'the', 'food', 'was', 'coming', 'in', 'a', 'slow', 'pace', '.'], ['Both', 'of', 'the', 'egg', 'rolls', 'were', 'fantastic', '.'], ['I', 'tried', 'the', 'Cape', 'Cod', 'ravoli', ',', 'chicken', ',', 'with', 'cranberry', '...', 'mmmm', '!'], ['Food', 'was', 'great', 'and', 'so', 'was', 'the', 'serivce', '!'], ['We', 'loved', 'the', 'place', '.'], ['I', 'will', 'come', 'back', 'here', 'every', 'time', 'I', \"'m\", 'in', 'Vegas', '.'], ['The', 'steak', 'was', 'amazing', '...', 'rge', 'fillet', 'relleno', 'was', 'the', 'best', 'seafood', 'plate', 'i', 'have', 'ever', 'had', '!'], ['2', 'Thumbs', 'Up', '!', '!'], ['My', 'friend', 'did', 'not', 'like', 'his', 'Bloody', 'Mary', '.'], ['The', 'food', 'was', 'outstanding', 'and', 'the', 'prices', 'were', 'very', 'reasonable', '.'], ['TOTAL', 'WASTE', 'OF', 'TIME', '.'], ['We', 'asked', 'for', 'the', 'bill', 'to', 'leave', 'without', 'eating', 'and', 'they', 'did', \"n't\", 'bring', 'that', 'either', '.'], ['I', 'had', 'a', 'salad', 'with', 'the', 'wings', ',', 'and', 'some', 'ice', 'cream', 'for', 'dessert', 'and', 'left', 'feeling', 'quite', 'satisfied', '.'], ['The', 'best', 'place', 'in', 'Vegas', 'for', 'breakfast', '(', 'just', 'check', 'out', 'a', 'Sat', ',', 'or', 'Sun', '.'], ['AN', 'HOUR', '...', 'seriously', '?'], ['It', 'also', 'took', 'her', 'forever', 'to', 'bring', 'us', 'the', 'check', 'when', 'we', 'asked', 'for', 'it', '.'], ['I', 'like', 'Steiners', 'because', 'it', \"'s\", 'dark', 'and', 'it', 'feels', 'like', 'a', 'bar', '.'], ['Cant', 'say', 'enough', 'good', 'things', 'about', 'this', 'place', '.'], ['This', 'place', 'should', 'honestly', 'be', 'blown', 'up', '.'], ['A', 'fantastic', 'neighborhood', 'gem', '!', '!', '!'], ['Great', 'place', 'to', 'have', 'a', 'couple', 'drinks', 'and', 'watch', 'any', 'and', 'all', 'sporting', 'events', 'as', 'the', 'walls', 'are', 'covered', 'with', 'TV', \"'s\", '.'], ['Insults', ',', 'profound', 'deuchebaggery', ',', 'and', 'had', 'to', 'go', 'outside', 'for', 'a', 'smoke', 'break', 'while', 'serving', 'just', 'to', 'solidify', 'it', '.'], ['What', 'a', 'mistake', '.'], ['I', 'guess', 'maybe', 'we', 'went', 'on', 'an', 'off', 'night', 'but', 'it', 'was', 'disgraceful', '.'], ['Overpriced', 'for', 'what', 'you', 'are', 'getting', '.'], ['This', 'place', 'deserves', 'no', 'stars', '.'], ['Not', 'tasty', 'and', 'the', 'texture', 'was', 'just', 'nasty', '.'], ['I', 'do', \"n't\", 'have', 'to', 'be', 'an', 'accountant', 'to', 'know', 'I', \"'m\", 'getting', 'screwed', '!'], ['The', 'food', 'was', 'very', 'good', 'and', 'I', 'enjoyed', 'every', 'mouthful', ',', 'an', 'enjoyable', 'relaxed', 'venue', 'for', 'couples', 'small', 'family', 'groups', 'etc', '.'], ['I', 'miss', 'it', 'and', 'wish', 'they', 'had', 'one', 'in', 'Philadelphia', '!'], ['If', 'you', \"'re\", 'not', 'familiar', ',', 'check', 'it', 'out', '.'], ['The', 'guys', 'all', 'had', 'steaks', ',', 'and', 'our', 'steak', 'loving', 'son', 'who', 'has', 'had', 'steak', 'at', 'the', 'best', 'and', 'worst', 'places', 'said', 'it', 'was', 'the', 'best', 'steak', 'he', \"'s\", 'ever', 'eaten', '.'], ['Now', 'I', 'am', 'getting', 'angry', 'and', 'I', 'want', 'my', 'damn', 'pho', '.'], ['The', 'cashier', 'had', 'no', 'care', 'what', 'so', 'ever', 'on', 'what', 'I', 'had', 'to', 'say', 'it', 'still', 'ended', 'up', 'being', 'wayyy', 'overpriced', '.'], ['Unfortunately', ',', 'it', 'was', 'not', 'good', '.'], ['We', 'waited', 'for', 'thirty', 'minutes', 'to', 'be', 'seated', '(', 'although', 'there', 'were', '8', 'vacant', 'tables', 'and', 'we', 'were', 'the', 'only', 'folks', 'waiting', ')', '.'], ['I', 'dressed', 'up', 'to', 'be', 'treated', 'so', 'rudely', '!'], ['The', 'bathrooms', 'are', 'clean', 'and', 'the', 'place', 'itself', 'is', 'well', 'decorated', '.'], ['Great', 'service', 'and', 'food', '.'], ['The', 'burger', 'is', 'good', 'beef', ',', 'cooked', 'just', 'right', '.'], ['The', 'RI', 'style', 'calamari', 'was', 'a', 'joke', '.'], ['Prices', 'are', 'very', 'reasonable', ',', 'flavors', 'are', 'spot', 'on', ',', 'the', 'sauce', 'is', 'home', 'made', ',', 'and', 'the', 'slaw', 'is', 'not', 'drenched', 'in', 'mayo', '.'], ['first', 'time', 'there', 'and', 'might', 'just', 'be', 'the', 'last', '.'], ['I', 'as', 'well', 'would', \"'ve\", 'given', 'godfathers', 'zero', 'stars', 'if', 'possible', '.'], ['I', \"'m\", 'not', 'impressed', 'with', 'the', 'concept', 'or', 'the', 'food', '.'], ['Very', 'disappointing', '!', '!', '!'], ['this', 'place', 'is', 'good', '.'], ['Once', 'you', 'get', 'inside', 'you', \"'ll\", 'be', 'impressed', 'with', 'the', 'place', '.'], ['By', 'far', 'the', 'BEST', 'cheesecurds', 'we', 'have', 'ever', 'had', '!'], ['Anyways', ',', 'The', 'food', 'was', 'definitely', 'not', 'filling', 'at', 'all', ',', 'and', 'for', 'the', 'price', 'you', 'pay', 'you', 'should', 'expect', 'more', '.'], ['The', 'staff', 'are', 'now', 'not', 'as', 'friendly', ',', 'the', 'wait', 'times', 'for', 'being', 'served', 'are', 'horrible', ',', 'no', 'one', 'even', 'says', 'hi', 'for', 'the', 'first', '10', 'minutes', '.'], ['The', 'service', 'was', 'terrible', ',', 'food', 'was', 'mediocre', '.'], ['This', 'really', 'is', 'how', 'Vegas', 'fine', 'dining', 'used', 'to', 'be', ',', 'right', 'down', 'to', 'the', 'menus', 'handed', 'to', 'the', 'ladies', 'that', 'have', 'no', 'prices', 'listed', '.'], ['The', 'problem', 'I', 'have', 'is', 'that', 'they', 'charge', '$', '11.99', 'for', 'a', 'sandwich', 'that', 'is', 'no', 'bigger', 'than', 'a', 'Subway', 'sub', '(', 'which', 'offers', 'better', 'and', 'more', 'amount', 'of', 'vegetables', ')', '.'], ['My', 'fella', 'got', 'the', 'huevos', 'rancheros', 'and', 'they', 'did', \"n't\", 'look', 'too', 'appealing', '.'], ['But', 'I', 'do', \"n't\", 'like', 'it', '.'], ['Nice', 'blanket', 'of', 'moz', 'over', 'top', 'but', 'i', 'feel', 'like', 'this', 'was', 'done', 'to', 'cover', 'up', 'the', 'subpar', 'food', '.'], ['The', 'potatoes', 'were', 'like', 'rubber', 'and', 'you', 'could', 'tell', 'they', 'had', 'been', 'made', 'up', 'ahead', 'of', 'time', 'being', 'kept', 'under', 'a', 'warmer', '.'], ['Our', 'server', 'was', 'fantastic', 'and', 'when', 'he', 'found', 'out', 'the', 'wife', 'loves', 'roasted', 'garlic', 'and', 'bone', 'marrow', ',', 'he', 'added', 'extra', 'to', 'our', 'meal', 'and', 'another', 'marrow', 'to', 'go', '!'], ['I', 'waited', 'and', 'waited', '.'], ['The', 'goat', 'taco', 'did', \"n't\", 'skimp', 'on', 'the', 'meat', 'and', 'wow', 'what', 'FLAVOR', '!'], ['It', 'kept', 'getting', 'worse', 'and', 'worse', 'so', 'now', 'I', \"'m\", 'officially', 'done', '.'], ['Con', ':', 'spotty', 'service', '.'], ['But', 'now', 'I', 'was', 'completely', 'grossed', 'out', '.'], ['I', 'wo', \"n't\", 'be', 'back', '.'], ['This', 'place', 'is', 'horrible', 'and', 'way', 'overpriced', '.'], ['Would', 'not', 'go', 'back', '.'], ['They', 'have', 'a', 'really', 'nice', 'atmosphere', '.'], ['Over', 'rated', '.'], ['I', 'do', 'love', 'sushi', ',', 'but', 'I', 'found', 'Kabuki', 'to', 'be', 'over-priced', ',', 'over-hip', 'and', 'under-services', '.'], ['And', 'it', 'was', 'way', 'to', 'expensive', '.'], ['It', 'was', 'so', 'bad', ',', 'I', 'had', 'lost', 'the', 'heart', 'to', 'finish', 'it', '.'], ['He', 'was', 'extremely', 'rude', 'and', 'really', ',', 'there', 'are', 'so', 'many', 'other', 'restaurants', 'I', 'would', 'love', 'to', 'dine', 'at', 'during', 'a', 'weekend', 'in', 'Vegas', '.'], ['Overall', ',', 'I', 'like', 'there', 'food', 'and', 'the', 'service', '.'], ['Wo', \"n't\", 'go', 'back', '.'], ['The', 'owner', 'used', 'to', 'work', 'at', 'Nobu', ',', 'so', 'this', 'place', 'is', 'really', 'similar', 'for', 'half', 'the', 'price', '.'], ['The', 'food', 'was', 'great', 'as', 'always', ',', 'compliments', 'to', 'the', 'chef', '.'], ['Very', 'good', 'lunch', 'spot', '.'], ['like', 'the', 'other', 'reviewer', 'said', '``', 'you', 'could', \"n't\", 'pay', 'me', 'to', 'eat', 'at', 'this', 'place', 'again', '.', \"''\"], ['I', 'do', \"n't\", 'know', 'what', 'the', 'big', 'deal', 'is', 'about', 'this', 'place', ',', 'but', 'I', 'wo', \"n't\", 'be', 'back', '``', \"ya'all\", \"''\", '.'], ['However', ',', 'there', 'was', 'so', 'much', 'garlic', 'in', 'the', 'fondue', ',', 'it', 'was', 'barely', 'edible', '.'], ['I', 'can', 'take', 'a', 'little', 'bad', 'service', 'but', 'the', 'food', 'sucks', '.'], ['We', 'definately', 'enjoyed', 'ourselves', '.'], ['The', 'selection', 'was', 'probably', 'the', 'worst', 'I', \"'ve\", 'seen', 'in', 'Vegas', '...', '..there', 'was', 'none', '.'], ['Ordered', 'a', 'double', 'cheeseburger', '&', 'got', 'a', 'single', 'patty', 'that', 'was', 'falling', 'apart', '(', 'picture', 'uploaded', ')', 'Yeah', ',', 'still', 'sucks', '.'], ['Things', 'that', 'went', 'wrong', ':', '-', 'They', 'burned', 'the', 'saganaki', '.'], ['Their', 'monster', 'chicken', 'fried', 'steak', 'and', 'eggs', 'is', 'my', 'all', 'time', 'favorite', '.'], ['I', 'personally', 'love', 'the', 'hummus', ',', 'pita', ',', 'baklava', ',', 'falafels', 'and', 'Baba', 'Ganoush', '(', 'it', \"'s\", 'amazing', 'what', 'they', 'do', 'with', 'eggplant', '!', ')', '.'], ['As', 'for', 'the', '``', 'mains', ',', \"''\", 'also', 'uninspired', '.'], ['Do', \"n't\", 'bother', 'coming', 'here', '.'], ['Great', 'food', 'for', 'the', 'price', ',', 'which', 'is', 'very', 'high', 'quality', 'and', 'house', 'made', '.'], ['Never', 'again', 'will', 'I', 'be', 'dining', 'at', 'this', 'place', '!'], ['And', 'then', 'tragedy', 'struck', '.'], ['CONCLUSION', ':', 'Very', 'filling', 'meals', '.'], ['The', 'chips', 'that', 'came', 'out', 'were', 'dripping', 'with', 'grease', ',', 'and', 'mostly', 'not', 'edible', '.'], ['The', 'staff', 'is', 'great', ',', 'the', 'food', 'is', 'delish', ',', 'and', 'they', 'have', 'an', 'incredible', 'beer', 'selection', '.'], ['-', 'the', 'food', 'is', 'rich', 'so', 'order', 'accordingly', '.'], ['the', 'presentation', 'of', 'the', 'food', 'was', 'awful', '.'], ['My', 'boyfriend', 'and', 'i', 'sat', 'at', 'the', 'bar', 'and', 'had', 'a', 'completely', 'delightful', 'experience', '.'], ['I', 'would', 'recommend', 'saving', 'room', 'for', 'this', '!'], ['I', 'think', 'this', 'restaurant', 'suffers', 'from', 'not', 'trying', 'hard', 'enough', '.'], ['Some', 'may', 'say', 'this', 'buffet', 'is', 'pricey', 'but', 'I', 'think', 'you', 'get', 'what', 'you', 'pay', 'for', 'and', 'this', 'place', 'you', 'are', 'getting', 'quite', 'a', 'lot', '!'], ['The', 'Macarons', 'here', 'are', 'insanely', 'good', '.'], ['Not', 'to', 'mention', 'the', 'combination', 'of', 'pears', ',', 'almonds', 'and', 'bacon', 'is', 'a', 'big', 'winner', '!'], ['*', 'Both', 'the', 'Hot', '&', 'Sour', '&', 'the', 'Egg', 'Flower', 'Soups', 'were', 'absolutely', '5', 'Stars', '!'], ['5', 'stars', 'for', 'the', 'brick', 'oven', 'bread', 'app', '!'], ['We', 'sat', 'another', 'ten', 'minutes', 'and', 'finally', 'gave', 'up', 'and', 'left', '.'], ['There', 'is', 'nothing', 'privileged', 'about', 'working/eating', 'there', '.'], ['The', 'cashier', 'was', 'friendly', 'and', 'even', 'brought', 'the', 'food', 'out', 'to', 'me', '.'], ['-', 'Really', ',', 'really', 'good', 'rice', ',', 'all', 'the', 'time', '.'], ['Not', 'good', 'for', 'the', 'money', '.'], ['It', 'was', 'a', 'huge', 'awkward', '1.5lb', 'piece', 'of', 'cow', 'that', 'was', '3/4ths', 'gristle', 'and', 'fat', '.']]\n"
     ]
    }
   ],
   "source": [
    "print(newlist)"
   ]
  },
  {
   "cell_type": "code",
   "execution_count": 101,
   "metadata": {},
   "outputs": [],
   "source": [
    "ft_model_review = FastText(newlist, \n",
    "                    size=100, window=5, min_count=4, workers=4, min_n=3, max_n=10)\n",
    " "
   ]
  },
  {
   "cell_type": "code",
   "execution_count": 102,
   "metadata": {},
   "outputs": [
    {
     "name": "stdout",
     "output_type": "stream",
     "text": [
      "[ 0.00237118 -0.07017058  0.06169593  0.04147431  0.00737701  0.04981044\n",
      " -0.01953617 -0.02376368 -0.01923763  0.05807265 -0.01281185  0.02227164\n",
      " -0.03608696 -0.06227923 -0.02482579 -0.02828285 -0.03934916 -0.05208848\n",
      " -0.01573289  0.00074317 -0.06875519 -0.01631264 -0.01785827  0.07530216\n",
      "  0.01013231  0.00280726  0.0143693  -0.04978695  0.05145357  0.03329439\n",
      "  0.0145702   0.01275945  0.0483248   0.03354006  0.03133095 -0.01426795\n",
      " -0.04903844  0.08560066 -0.04308633  0.00185916 -0.05490748  0.03764706\n",
      " -0.05359709  0.05596232 -0.06138756 -0.00652251  0.03383454  0.00150283\n",
      "  0.01886829  0.02414264 -0.11148748  0.03165822 -0.03844579  0.04683124\n",
      "  0.02219635 -0.04747485  0.04237026 -0.07873179  0.02765547 -0.02129019\n",
      "  0.04801062  0.05153881  0.0452814  -0.06092123  0.0516263   0.09759278\n",
      "  0.03923365 -0.00227158 -0.02957733  0.04970457 -0.03923433  0.0160317\n",
      " -0.02983596 -0.05729965  0.04418963 -0.02717121 -0.01034923 -0.10169852\n",
      " -0.03087859  0.00867088  0.06217441  0.08561447 -0.00027442 -0.00789865\n",
      "  0.04001757 -0.03157721  0.05569565  0.02701534 -0.05388748  0.04125961\n",
      "  0.0438804  -0.05503275 -0.06116303 -0.10249121 -0.00354904 -0.0658811\n",
      " -0.05823097 -0.05450308  0.05677005  0.00376647]\n"
     ]
    },
    {
     "name": "stderr",
     "output_type": "stream",
     "text": [
      "/Users/rajnishechauhan/anaconda/envs/dl_env/lib/python3.6/site-packages/ipykernel_launcher.py:1: DeprecationWarning: Call to deprecated `__getitem__` (Method will be removed in 4.0.0, use self.wv.__getitem__() instead).\n",
      "  \"\"\"Entry point for launching an IPython kernel.\n"
     ]
    }
   ],
   "source": [
    "print(ft_model_review['ravoli'][0:100])"
   ]
  },
  {
   "cell_type": "code",
   "execution_count": 103,
   "metadata": {},
   "outputs": [
    {
     "name": "stderr",
     "output_type": "stream",
     "text": [
      "/Users/rajnishechauhan/anaconda/envs/dl_env/lib/python3.6/site-packages/ipykernel_launcher.py:12: DeprecationWarning: Call to deprecated `__getitem__` (Method will be removed in 4.0.0, use self.wv.__getitem__() instead).\n",
      "  if sys.path[0] == '':\n"
     ]
    }
   ],
   "source": [
    "embedding_dime = 100\n",
    "embedding_matrix_review = create_embedding_matrix(ft_model_review,\n",
    "                                           tokenizer.word_index, \n",
    "                                           embedding_dime)"
   ]
  },
  {
   "cell_type": "code",
   "execution_count": 104,
   "metadata": {},
   "outputs": [
    {
     "data": {
      "text/plain": [
       "array([[ 0.        ,  0.        ,  0.        ,  0.        ,  0.        ,\n",
       "         0.        ,  0.        ,  0.        ,  0.        ,  0.        ,\n",
       "         0.        ,  0.        ,  0.        ,  0.        ,  0.        ,\n",
       "         0.        ,  0.        ,  0.        ,  0.        ,  0.        ,\n",
       "         0.        ,  0.        ,  0.        ,  0.        ,  0.        ,\n",
       "         0.        ,  0.        ,  0.        ,  0.        ,  0.        ,\n",
       "         0.        ,  0.        ,  0.        ,  0.        ,  0.        ,\n",
       "         0.        ,  0.        ,  0.        ,  0.        ,  0.        ,\n",
       "         0.        ,  0.        ,  0.        ,  0.        ,  0.        ,\n",
       "         0.        ,  0.        ,  0.        ,  0.        ,  0.        ,\n",
       "         0.        ,  0.        ,  0.        ,  0.        ,  0.        ,\n",
       "         0.        ,  0.        ,  0.        ,  0.        ,  0.        ,\n",
       "         0.        ,  0.        ,  0.        ,  0.        ,  0.        ,\n",
       "         0.        ,  0.        ,  0.        ,  0.        ,  0.        ,\n",
       "         0.        ,  0.        ,  0.        ,  0.        ,  0.        ,\n",
       "         0.        ,  0.        ,  0.        ,  0.        ,  0.        ,\n",
       "         0.        ,  0.        ,  0.        ,  0.        ,  0.        ,\n",
       "         0.        ,  0.        ,  0.        ,  0.        ,  0.        ,\n",
       "         0.        ,  0.        ,  0.        ,  0.        ,  0.        ,\n",
       "         0.        ,  0.        ,  0.        ,  0.        ,  0.        ],\n",
       "       [ 0.08854409, -0.73973089,  0.72204828,  0.55801332,  0.1260087 ,\n",
       "         0.5838747 , -0.19347025, -0.1909876 , -0.12177344,  0.70390737,\n",
       "        -0.10817026,  0.22888784, -0.36560836, -0.70618433, -0.19108665,\n",
       "        -0.28268763, -0.38716564, -0.60448998, -0.07995059,  0.08820102,\n",
       "        -0.692334  , -0.1451889 , -0.19353203,  0.84908664,  0.05278983,\n",
       "         0.07147949,  0.13786981, -0.5331369 ,  0.57682472,  0.35521394,\n",
       "         0.17587151,  0.13424647,  0.51808262,  0.3515484 ,  0.35983506,\n",
       "        -0.17606655, -0.49282068,  0.9103319 , -0.40782031,  0.02545727,\n",
       "        -0.62122804,  0.38811401, -0.60040385,  0.61870325, -0.75180244,\n",
       "        -0.14652286,  0.47390062,  0.04564362,  0.23839705,  0.33327478,\n",
       "        -1.14654851,  0.2870011 , -0.32525492,  0.49693838,  0.22385967,\n",
       "        -0.50772631,  0.49541196, -0.84034425,  0.32378483, -0.21222869,\n",
       "         0.56006557,  0.50849599,  0.44671768, -0.62903756,  0.52684063,\n",
       "         1.07528102,  0.40754575,  0.05936266, -0.36687925,  0.58488309,\n",
       "        -0.43876782,  0.17153059, -0.30782381, -0.62103283,  0.53294837,\n",
       "        -0.32482341, -0.10984993, -1.14193559, -0.27579057,  0.09441336,\n",
       "         0.60576725,  0.95132029,  0.00671899, -0.06796693,  0.41676858,\n",
       "        -0.38289776,  0.67825085,  0.30868202, -0.5698061 ,  0.48130783,\n",
       "         0.48964781, -0.61595619, -0.62622184, -1.19429028, -0.01941118,\n",
       "        -0.63341194, -0.66009581, -0.68593973,  0.6082142 ,  0.10335688]])"
      ]
     },
     "execution_count": 104,
     "metadata": {},
     "output_type": "execute_result"
    }
   ],
   "source": [
    "embedding_matrix_review[0:2]"
   ]
  },
  {
   "cell_type": "code",
   "execution_count": null,
   "metadata": {},
   "outputs": [],
   "source": []
  }
 ],
 "metadata": {
  "kernelspec": {
   "display_name": "Python 3",
   "language": "python",
   "name": "python3"
  },
  "language_info": {
   "codemirror_mode": {
    "name": "ipython",
    "version": 3
   },
   "file_extension": ".py",
   "mimetype": "text/x-python",
   "name": "python",
   "nbconvert_exporter": "python",
   "pygments_lexer": "ipython3",
   "version": "3.6.8"
  }
 },
 "nbformat": 4,
 "nbformat_minor": 2
}
