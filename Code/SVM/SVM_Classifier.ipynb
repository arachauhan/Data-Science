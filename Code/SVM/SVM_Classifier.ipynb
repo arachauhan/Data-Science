{
 "cells": [
  {
   "cell_type": "markdown",
   "metadata": {},
   "source": [
    "This is a guide to do implement SVM Classifier in Python 3."
   ]
  },
  {
   "cell_type": "code",
   "execution_count": 4,
   "metadata": {
    "collapsed": true
   },
   "outputs": [],
   "source": [
    "# Import the necessary Python libraries\n",
    "\n",
    "import numpy as np\n",
    "import pandas as pd\n",
    "import matplotlib.pyplot as plt\n",
    "import sys\n",
    "from time import time\n",
    "from sklearn import metrics,datasets\n",
    "from sklearn.model_selection import KFold \n",
    "from sklearn.model_selection import cross_val_score\n",
    "from sklearn.model_selection import cross_val_predict\n",
    "from sklearn.svm import SVC\n",
    "from sklearn.metrics import accuracy_score\n",
    "from sklearn import model_selection\n",
    "from sklearn.metrics import classification_report\n",
    "from sklearn.metrics import confusion_matrix\n"
   ]
  },
  {
   "cell_type": "code",
   "execution_count": 2,
   "metadata": {
    "collapsed": true
   },
   "outputs": [],
   "source": [
    "# Import the data set\n",
    "\n",
    "\n",
    "\n",
    "# Load dataset\n",
    "url = \"https://archive.ics.uci.edu/ml/machine-learning-databases/iris/iris.data\"\n",
    "names = ['sepal-length', 'sepal-width', 'petal-length', 'petal-width', 'class']\n",
    "dataset = pd.read_csv(url, names=names)\n",
    "#dataset = datasets.load_iris()"
   ]
  },
  {
   "cell_type": "code",
   "execution_count": 3,
   "metadata": {},
   "outputs": [
    {
     "data": {
      "text/html": [
       "<div>\n",
       "<style scoped>\n",
       "    .dataframe tbody tr th:only-of-type {\n",
       "        vertical-align: middle;\n",
       "    }\n",
       "\n",
       "    .dataframe tbody tr th {\n",
       "        vertical-align: top;\n",
       "    }\n",
       "\n",
       "    .dataframe thead th {\n",
       "        text-align: right;\n",
       "    }\n",
       "</style>\n",
       "<table border=\"1\" class=\"dataframe\">\n",
       "  <thead>\n",
       "    <tr style=\"text-align: right;\">\n",
       "      <th></th>\n",
       "      <th>sepal-length</th>\n",
       "      <th>sepal-width</th>\n",
       "      <th>petal-length</th>\n",
       "      <th>petal-width</th>\n",
       "      <th>class</th>\n",
       "    </tr>\n",
       "  </thead>\n",
       "  <tbody>\n",
       "    <tr>\n",
       "      <th>0</th>\n",
       "      <td>5.1</td>\n",
       "      <td>3.5</td>\n",
       "      <td>1.4</td>\n",
       "      <td>0.2</td>\n",
       "      <td>Iris-setosa</td>\n",
       "    </tr>\n",
       "    <tr>\n",
       "      <th>1</th>\n",
       "      <td>4.9</td>\n",
       "      <td>3.0</td>\n",
       "      <td>1.4</td>\n",
       "      <td>0.2</td>\n",
       "      <td>Iris-setosa</td>\n",
       "    </tr>\n",
       "    <tr>\n",
       "      <th>2</th>\n",
       "      <td>4.7</td>\n",
       "      <td>3.2</td>\n",
       "      <td>1.3</td>\n",
       "      <td>0.2</td>\n",
       "      <td>Iris-setosa</td>\n",
       "    </tr>\n",
       "    <tr>\n",
       "      <th>3</th>\n",
       "      <td>4.6</td>\n",
       "      <td>3.1</td>\n",
       "      <td>1.5</td>\n",
       "      <td>0.2</td>\n",
       "      <td>Iris-setosa</td>\n",
       "    </tr>\n",
       "    <tr>\n",
       "      <th>4</th>\n",
       "      <td>5.0</td>\n",
       "      <td>3.6</td>\n",
       "      <td>1.4</td>\n",
       "      <td>0.2</td>\n",
       "      <td>Iris-setosa</td>\n",
       "    </tr>\n",
       "  </tbody>\n",
       "</table>\n",
       "</div>"
      ],
      "text/plain": [
       "   sepal-length  sepal-width  petal-length  petal-width        class\n",
       "0           5.1          3.5           1.4          0.2  Iris-setosa\n",
       "1           4.9          3.0           1.4          0.2  Iris-setosa\n",
       "2           4.7          3.2           1.3          0.2  Iris-setosa\n",
       "3           4.6          3.1           1.5          0.2  Iris-setosa\n",
       "4           5.0          3.6           1.4          0.2  Iris-setosa"
      ]
     },
     "execution_count": 3,
     "metadata": {},
     "output_type": "execute_result"
    }
   ],
   "source": [
    "# Check the top 5 records\n",
    "\n",
    "dataset.head(5)"
   ]
  },
  {
   "cell_type": "code",
   "execution_count": 4,
   "metadata": {
    "collapsed": true
   },
   "outputs": [],
   "source": [
    "# Split the dataset into Training and Validation\n",
    "\n",
    "array = dataset.values\n",
    "X = array[:,0:4]\n",
    "Y = array[:,4]\n",
    "validation_size = 0.20\n",
    "seed = 7\n",
    "X_train, X_validation, Y_train, Y_validation = model_selection.train_test_split(X, Y, test_size=validation_size, random_state=seed)"
   ]
  },
  {
   "cell_type": "code",
   "execution_count": 8,
   "metadata": {},
   "outputs": [
    {
     "name": "stdout",
     "output_type": "stream",
     "text": [
      "Training time: 0.009 s\n",
      "Prediction time: 0.0 s\n",
      "0.8\n"
     ]
    },
    {
     "name": "stderr",
     "output_type": "stream",
     "text": [
      "/Users/rajnishechauhan/anaconda/lib/python3.6/site-packages/sklearn/svm/base.py:931: ConvergenceWarning: Liblinear failed to converge, increase the number of iterations.\n",
      "  \"the number of iterations.\", ConvergenceWarning)\n"
     ]
    }
   ],
   "source": [
    "from sklearn.svm import LinearSVC\n",
    "t0 = time()\n",
    "\n",
    "linClf = LinearSVC(C=1)\n",
    "# loss=\"hinge\"\n",
    "linClf.fit(X_train, Y_train)\n",
    "\n",
    "print(\"Training time:\", round(time()-t0, 3), \"s\")\n",
    "t1 = time()\n",
    "\n",
    "pred = linClf.predict(X_validation)\n",
    "\n",
    "print(\"Prediction time:\", round(time()-t1, 3), \"s\")\n",
    "\n",
    "accuracy = accuracy_score(Y_validation, pred)\n",
    "print(accuracy)"
   ]
  },
  {
   "cell_type": "code",
   "execution_count": 42,
   "metadata": {},
   "outputs": [
    {
     "name": "stdout",
     "output_type": "stream",
     "text": [
      "Training time: 0.001 s\n",
      "Prediction time: 0.001 s\n",
      "0.9666666666666667\n"
     ]
    }
   ],
   "source": [
    "# Build the model\n",
    "# it is slow \n",
    "from sklearn.svm import SVC\n",
    "clf = SVC(kernel=\"linear\",C=1)\n",
    "t0 = time()\n",
    "clf.fit(X_train, Y_train)\n",
    "print(\"Training time:\", round(time()-t0, 3), \"s\")\n",
    "t1 = time()\n",
    "pred = clf.predict(X_validation)\n",
    "print(\"Prediction time:\", round(time()-t1, 3), \"s\")\n",
    "accuracy = accuracy_score(Y_validation, pred)\n",
    "print(accuracy)"
   ]
  },
  {
   "cell_type": "code",
   "execution_count": 43,
   "metadata": {},
   "outputs": [
    {
     "data": {
      "text/plain": [
       "array(['Iris-virginica'], dtype=object)"
      ]
     },
     "execution_count": 43,
     "metadata": {},
     "output_type": "execute_result"
    }
   ],
   "source": [
    "clf.predict([[4.9, 2.5, 4.5, 1.7]])"
   ]
  },
  {
   "cell_type": "code",
   "execution_count": 12,
   "metadata": {},
   "outputs": [
    {
     "name": "stdout",
     "output_type": "stream",
     "text": [
      "Training time: 0.003 s\n",
      "Prediction time: 0.001 s\n",
      "0.8666666666666667\n"
     ]
    },
    {
     "name": "stderr",
     "output_type": "stream",
     "text": [
      "/Users/rajnishechauhan/anaconda/lib/python3.6/site-packages/sklearn/svm/base.py:196: FutureWarning: The default value of gamma will change from 'auto' to 'scale' in version 0.22 to account better for unscaled features. Set gamma explicitly to 'auto' or 'scale' to avoid this warning.\n",
      "  \"avoid this warning.\", FutureWarning)\n"
     ]
    }
   ],
   "source": [
    "# Build the model\n",
    "\n",
    "clf2 = SVC(kernel=\"poly\",degree=3,C=0.001)\n",
    "t0 = time()\n",
    "clf2.fit(X_train, Y_train)\n",
    "print(\"Training time:\", round(time()-t0, 3), \"s\")\n",
    "t1 = time()\n",
    "pred = clf2.predict(X_validation)\n",
    "print(\"Prediction time:\", round(time()-t1, 3), \"s\")\n",
    "accuracy = accuracy_score(Y_validation, pred)\n",
    "print(accuracy)"
   ]
  },
  {
   "cell_type": "code",
   "execution_count": 14,
   "metadata": {},
   "outputs": [
    {
     "name": "stdout",
     "output_type": "stream",
     "text": [
      "Training time: 0.003 s\n",
      "Prediction time: 0.001 s\n",
      "0.8\n"
     ]
    }
   ],
   "source": [
    "# Build the model\n",
    "\n",
    "clf3 = SVC(kernel=\"rbf\",gamma=5,C=.1)\n",
    "t0 = time()\n",
    "clf3.fit(X_train, Y_train)\n",
    "print(\"Training time:\", round(time()-t0, 3), \"s\")\n",
    "t1 = time()\n",
    "pred = clf3.predict(X_validation)\n",
    "print(\"Prediction time:\", round(time()-t1, 3), \"s\")\n",
    "accuracy = accuracy_score(Y_validation, pred)\n",
    "print(accuracy)"
   ]
  },
  {
   "cell_type": "code",
   "execution_count": 47,
   "metadata": {
    "collapsed": true
   },
   "outputs": [],
   "source": [
    "import numpy as np\n",
    "import matplotlib.pyplot as plt\n",
    "from sklearn import svm\n",
    "\n",
    "\n",
    "def plot_decision_function(classifier, sample_weight, axis, title):\n",
    "    # plot the decision function\n",
    "    xx, yy = np.meshgrid(np.linspace(-4, 5, 500), np.linspace(-4, 5, 500))\n",
    "\n",
    "    Z = classifier.decision_function(np.c_[xx.ravel(), yy.ravel()])\n",
    "    Z = Z.reshape(xx.shape)\n",
    "\n",
    "    # plot the line, the points, and the nearest vectors to the plane\n",
    "    axis.contourf(xx, yy, Z, alpha=0.75, cmap=plt.cm.bone)\n",
    "    axis.scatter(X[:, 0], X[:, 1], c=y, s=100 * sample_weight, alpha=0.9,\n",
    "                 cmap=plt.cm.bone, edgecolors='black')\n",
    "\n",
    "    axis.axis('off')\n",
    "    axis.set_title(title)\n",
    "\n"
   ]
  },
  {
   "cell_type": "code",
   "execution_count": 53,
   "metadata": {},
   "outputs": [
    {
     "name": "stdout",
     "output_type": "stream",
     "text": [
      "[1.04855297 1.42001794 1.70627019 1.9507754  0.50965218 0.4380743\n",
      " 1.25279536 0.77749036 1.61389785 3.1911042  0.89546656 0.3869025\n",
      " 0.51080514 1.18063218 0.02818223 2.14165935 0.33258611 1.51235949\n",
      " 3.17161047 1.81370583]\n"
     ]
    }
   ],
   "source": [
    "\n",
    "# we create 20 points\n",
    "np.random.seed(0)\n",
    "\n",
    "X = np.r_[np.random.randn(10, 2) + [1, 1], np.random.randn(10, 2)]\n",
    "y = [1] * 10 + [-1] * 10\n",
    "\n",
    "sample_weight_last_ten = abs(np.random.randn(len(X)))\n",
    "sample_weight_constant = np.ones(len(X))\n",
    "\n",
    "# and bigger weights to some outliers\n",
    "sample_weight_last_ten[15:] *= 5\n",
    "sample_weight_last_ten[9] *= 15\n",
    "\n",
    "print(sample_weight_last_ten)"
   ]
  },
  {
   "cell_type": "code",
   "execution_count": 48,
   "metadata": {},
   "outputs": [
    {
     "data": {
      "image/png": "[encoded data removed]",
      "text/plain": [
       "<Figure size 1008x432 with 2 Axes>"
      ]
     },
     "metadata": {},
     "output_type": "display_data"
    }
   ],
   "source": [
    "\n",
    "\n",
    "# for reference, first fit without sample weights\n",
    "\n",
    "# fit the model\n",
    "clf_weights = svm.SVC(gamma=1)\n",
    "clf_weights.fit(X, y, sample_weight=sample_weight_last_ten)\n",
    "\n",
    "clf_no_weights = svm.SVC(gamma=1)\n",
    "clf_no_weights.fit(X, y)\n",
    "\n",
    "fig, axes = plt.subplots(1, 2, figsize=(14, 6))\n",
    "plot_decision_function(clf_no_weights, sample_weight_constant, axes[0],\n",
    "                       \"Constant weights\")\n",
    "plot_decision_function(clf_weights, sample_weight_last_ten, axes[1],\n",
    "                       \"Modified weights\")\n",
    "\n",
    "plt.show()"
   ]
  },
  {
   "cell_type": "code",
   "execution_count": 49,
   "metadata": {
    "collapsed": true
   },
   "outputs": [],
   "source": [
    "import numpy as np\n",
    "import matplotlib.pyplot as plt\n",
    "from sklearn import svm, datasets\n",
    "\n",
    "\n",
    "def make_meshgrid(x, y, h=.02):\n",
    "    \"\"\"Create a mesh of points to plot in\n",
    "\n",
    "    Parameters\n",
    "    ----------\n",
    "    x: data to base x-axis meshgrid on\n",
    "    y: data to base y-axis meshgrid on\n",
    "    h: stepsize for meshgrid, optional\n",
    "\n",
    "    Returns\n",
    "    -------\n",
    "    xx, yy : ndarray\n",
    "    \"\"\"\n",
    "    x_min, x_max = x.min() - 1, x.max() + 1\n",
    "    y_min, y_max = y.min() - 1, y.max() + 1\n",
    "    xx, yy = np.meshgrid(np.arange(x_min, x_max, h),\n",
    "                         np.arange(y_min, y_max, h))\n",
    "    return xx, yy"
   ]
  },
  {
   "cell_type": "code",
   "execution_count": 50,
   "metadata": {
    "collapsed": true
   },
   "outputs": [],
   "source": [
    "def plot_contours(ax, clf, xx, yy, **params):\n",
    "    \"\"\"Plot the decision boundaries for a classifier.\n",
    "\n",
    "    Parameters\n",
    "    ----------\n",
    "    ax: matplotlib axes object\n",
    "    clf: a classifier\n",
    "    xx: meshgrid ndarray\n",
    "    yy: meshgrid ndarray\n",
    "    params: dictionary of params to pass to contourf, optional\n",
    "    \"\"\"\n",
    "    Z = clf.predict(np.c_[xx.ravel(), yy.ravel()])\n",
    "    Z = Z.reshape(xx.shape)\n",
    "    out = ax.contourf(xx, yy, Z, **params)\n",
    "    return out"
   ]
  },
  {
   "cell_type": "code",
   "execution_count": 51,
   "metadata": {
    "collapsed": true
   },
   "outputs": [],
   "source": [
    "# import some data to play with\n",
    "iris = datasets.load_iris()\n",
    "# Take the first two features. We could avoid this by using a two-dim dataset\n",
    "X = iris.data[:, :2]\n",
    "y = iris.target\n",
    "\n",
    "# we create an instance of SVM and fit out data. We do not scale our\n",
    "# data since we want to plot the support vectors\n",
    "C = 1.0  # SVM regularization parameter\n",
    "models = (svm.SVC(kernel='linear', C=C),\n",
    "          svm.LinearSVC(C=C),\n",
    "          svm.SVC(kernel='rbf', gamma=0.7, C=C),\n",
    "          svm.SVC(kernel='poly', degree=3, C=C))\n",
    "\n",
    "models = (clf.fit(X, y) for clf in models)\n",
    "\n"
   ]
  },
  {
   "cell_type": "code",
   "execution_count": 52,
   "metadata": {},
   "outputs": [
    {
     "name": "stderr",
     "output_type": "stream",
     "text": [
      "/Users/rajnishechauhan/anaconda/lib/python3.6/site-packages/sklearn/svm/base.py:931: ConvergenceWarning: Liblinear failed to converge, increase the number of iterations.\n",
      "  \"the number of iterations.\", ConvergenceWarning)\n",
      "/Users/rajnishechauhan/anaconda/lib/python3.6/site-packages/sklearn/svm/base.py:196: FutureWarning: The default value of gamma will change from 'auto' to 'scale' in version 0.22 to account better for unscaled features. Set gamma explicitly to 'auto' or 'scale' to avoid this warning.\n",
      "  \"avoid this warning.\", FutureWarning)\n"
     ]
    },
    {
     "data": {
      "image/png": "[encoded data removed]",
      "text/plain": [
       "<Figure size 432x288 with 4 Axes>"
      ]
     },
     "metadata": {},
     "output_type": "display_data"
    }
   ],
   "source": [
    "# title for the plots\n",
    "titles = ('SVC with linear kernel',\n",
    "          'LinearSVC (linear kernel)',\n",
    "          'SVC with RBF kernel',\n",
    "          'SVC with polynomial (degree 3) kernel')\n",
    "\n",
    "# Set-up 2x2 grid for plotting.\n",
    "fig, sub = plt.subplots(2, 2)\n",
    "plt.subplots_adjust(wspace=0.4, hspace=0.4)\n",
    "\n",
    "X0, X1 = X[:, 0], X[:, 1]\n",
    "xx, yy = make_meshgrid(X0, X1)\n",
    "\n",
    "for clf, title, ax in zip(models, titles, sub.flatten()):\n",
    "    plot_contours(ax, clf, xx, yy,\n",
    "                  cmap=plt.cm.coolwarm, alpha=0.8)\n",
    "    ax.scatter(X0, X1, c=y, cmap=plt.cm.coolwarm, s=20, edgecolors='k')\n",
    "    ax.set_xlim(xx.min(), xx.max())\n",
    "    ax.set_ylim(yy.min(), yy.max())\n",
    "    ax.set_xlabel('Sepal length')\n",
    "    ax.set_ylabel('Sepal width')\n",
    "    ax.set_xticks(())\n",
    "    ax.set_yticks(())\n",
    "    ax.set_title(title)\n",
    "\n",
    "plt.show()"
   ]
  },
  {
   "cell_type": "markdown",
   "metadata": {},
   "source": [
    "# Unbalanced problems"
   ]
  },
  {
   "cell_type": "markdown",
   "metadata": {},
   "source": [
    "In problems where it is desired to give more importance to certain classes or certain individual samples keywords class_weight \n",
    "and sample_weight can be used."
   ]
  },
  {
   "cell_type": "markdown",
   "metadata": {},
   "source": [
    "# Outlier Detection using OneClassSVM\n",
    "\n",
    "Inliers are labeled 1, while outliers are labeled -1.\n",
    "\n",
    "<OL>\n",
    "\n",
    "<LI> <B>Outlier detection:</B>\n",
    " \tThe training data contains outliers which are defined as observations that are far from the others. Outlier detection estimators thus try to fit the regions where the training data is the most concentrated, ignoring the deviant observations.\n",
    "<LI> <B>Novelty detection:</B>\n",
    " \tThe training data is not polluted by outliers and we are interested in detecting whether a new observation is an outlier. In this context an outlier is also called a novelty.\n",
    "\n",
    "</Ol>"
   ]
  },
  {
   "cell_type": "code",
   "execution_count": 60,
   "metadata": {},
   "outputs": [
    {
     "data": {
      "text/plain": [
       "(200, 2)"
      ]
     },
     "execution_count": 60,
     "metadata": {},
     "output_type": "execute_result"
    }
   ],
   "source": [
    "import numpy as np\n",
    "import matplotlib.pyplot as plt\n",
    "import matplotlib.font_manager\n",
    "from sklearn import svm\n",
    "\n",
    "xx, yy = np.meshgrid(np.linspace(-5, 5, 500), np.linspace(-5, 5, 500))\n",
    "\n",
    "# Generate train data\n",
    "X = 0.3 * np.random.randn(100, 2)\n",
    "X_train = np.r_[X + 2, X - 2]\n",
    "\n",
    "# Generate some regular novel observations\n",
    "X = 0.3 * np.random.randn(20, 2)\n",
    "X_test = np.r_[X + 2, X - 2]\n",
    "\n",
    "# Generate some abnormal novel observations\n",
    "X_outliers = np.random.uniform(low=-4, high=4, size=(20, 2))\n",
    "\n",
    "X_train.shape"
   ]
  },
  {
   "cell_type": "code",
   "execution_count": 61,
   "metadata": {},
   "outputs": [
    {
     "data": {
      "text/plain": [
       "(20, 2)"
      ]
     },
     "execution_count": 61,
     "metadata": {},
     "output_type": "execute_result"
    }
   ],
   "source": [
    "X_outliers.shape"
   ]
  },
  {
   "cell_type": "code",
   "execution_count": 59,
   "metadata": {},
   "outputs": [
    {
     "name": "stdout",
     "output_type": "stream",
     "text": [
      "[[ 1.79826187  1.89213405]\n",
      " [ 1.75605612  1.48211522]\n",
      " [ 2.05322784  1.87946572]\n",
      " [ 1.5109405   2.13883468]\n",
      " [ 1.72781049  2.01558362]\n",
      " [ 2.21872717  2.03869487]\n",
      " [ 2.34182021  1.62955225]\n",
      " [ 2.12070249  1.79455697]\n",
      " [ 1.73876086  1.8263451 ]\n",
      " [ 1.90653424  2.0168496 ]\n",
      " [ 1.65045505  2.27024795]\n",
      " [ 2.13969873  1.53912689]\n",
      " [ 2.44647566  2.56876675]\n",
      " [ 2.35363387  1.94602255]\n",
      " [ 1.67877421  2.31633552]\n",
      " [ 1.87904692  2.36673352]\n",
      " [ 2.06248249  2.29299171]\n",
      " [ 2.10690992  2.21197195]\n",
      " [ 2.00315001  2.53576115]\n",
      " [ 2.03807363  2.12059681]\n",
      " [ 2.56494521  1.59567228]\n",
      " [ 1.6188545   2.29081901]\n",
      " [ 1.64806298  2.58308636]\n",
      " [ 1.87591431  1.77576356]\n",
      " [ 2.57688261  2.44415444]\n",
      " [ 2.56026769  2.2718134 ]\n",
      " [ 1.74163229  2.57301949]\n",
      " [ 1.91959899  2.24073692]\n",
      " [ 2.28417559  1.95349697]\n",
      " [ 2.18422381  2.276662  ]\n",
      " [ 2.11292766  1.67017976]\n",
      " [ 2.08947145  2.39791577]\n",
      " [ 1.79162964  1.95510964]\n",
      " [ 1.86945393  2.55477912]\n",
      " [ 2.20168843  2.12223855]\n",
      " [ 1.76902518  2.16177476]\n",
      " [ 1.7977002   2.00954917]\n",
      " [ 1.80924618  2.20292999]\n",
      " [ 2.17297724  1.93751037]\n",
      " [ 2.11880201  1.67208155]\n",
      " [ 1.55262272  2.13181751]\n",
      " [ 2.05000205  2.19050943]\n",
      " [ 2.71494343  2.28334385]\n",
      " [ 1.72615333  2.33510489]\n",
      " [ 1.60522778  1.86152462]\n",
      " [ 1.97952752  2.51400282]\n",
      " [ 1.77657355  1.75206844]\n",
      " [ 1.97046424  1.80095651]\n",
      " [ 2.33799078  1.67602055]\n",
      " [ 1.6557594   1.86865399]\n",
      " [ 1.85059026  2.57885962]\n",
      " [ 2.28482624  2.02626537]\n",
      " [ 1.63236934  2.25330889]\n",
      " [ 1.6999354   1.53656867]\n",
      " [ 2.35640894  2.09508278]\n",
      " [ 2.27625765  2.0956183 ]\n",
      " [ 2.25704918  1.80469232]\n",
      " [ 1.68972715  2.20447836]\n",
      " [ 1.7589771   1.79313507]\n",
      " [ 1.86334025  2.00524375]\n",
      " [ 1.89380183  1.58751461]\n",
      " [ 1.80691448  1.33297905]\n",
      " [ 2.18756944  1.5193827 ]\n",
      " [ 1.668685    2.01564952]\n",
      " [ 1.7781311   2.46290438]\n",
      " [ 1.61214293  2.08011526]\n",
      " [ 1.98821515  1.64957195]\n",
      " [ 2.156983    1.9485361 ]\n",
      " [ 2.23153717  2.24705125]\n",
      " [ 2.64897078  2.40095838]\n",
      " [ 1.88924545  1.92818625]\n",
      " [ 2.32989788  2.19657912]\n",
      " [ 2.19203946  1.51491319]\n",
      " [ 1.99270216  1.77859073]\n",
      " [ 2.08397738  1.97055488]\n",
      " [ 2.27305367  2.09516546]\n",
      " [ 2.23589839  1.86007427]\n",
      " [ 1.71666612  1.87698509]\n",
      " [ 1.99489388  2.11374552]\n",
      " [ 2.67779269  1.98732285]\n",
      " [ 1.7132165   1.89620547]\n",
      " [ 1.86092121  2.14444444]\n",
      " [ 1.5377609   2.0189786 ]\n",
      " [ 2.04695196  2.06965431]\n",
      " [ 1.82080518  1.92862348]\n",
      " [ 1.57278173  1.85200403]\n",
      " [ 1.83714156  2.12481501]\n",
      " [ 1.65314527  2.23435943]\n",
      " [ 2.44834536  1.37900449]\n",
      " [ 2.12787762  2.20307241]\n",
      " [ 1.80876889  1.88081846]\n",
      " [ 1.96013583  1.91066274]\n",
      " [ 1.90729611  1.49719886]\n",
      " [ 2.34569947  2.32388558]\n",
      " [ 1.75599072  1.5600727 ]\n",
      " [ 2.15631946  1.82726361]\n",
      " [ 2.04258595  1.90420147]\n",
      " [ 2.20746163  2.20842474]\n",
      " [ 1.78232079  1.58499081]\n",
      " [ 1.52511848  2.18311381]\n",
      " [-2.20173813 -2.10786595]\n",
      " [-2.24394388 -2.51788478]\n",
      " [-1.94677216 -2.12053428]\n",
      " [-2.4890595  -1.86116532]\n",
      " [-2.27218951 -1.98441638]\n",
      " [-1.78127283 -1.96130513]\n",
      " [-1.65817979 -2.37044775]\n",
      " [-1.87929751 -2.20544303]\n",
      " [-2.26123914 -2.1736549 ]\n",
      " [-2.09346576 -1.9831504 ]\n",
      " [-2.34954495 -1.72975205]\n",
      " [-1.86030127 -2.46087311]\n",
      " [-1.55352434 -1.43123325]\n",
      " [-1.64636613 -2.05397745]\n",
      " [-2.32122579 -1.68366448]\n",
      " [-2.12095308 -1.63326648]\n",
      " [-1.93751751 -1.70700829]\n",
      " [-1.89309008 -1.78802805]\n",
      " [-1.99684999 -1.46423885]\n",
      " [-1.96192637 -1.87940319]\n",
      " [-1.43505479 -2.40432772]\n",
      " [-2.3811455  -1.70918099]\n",
      " [-2.35193702 -1.41691364]\n",
      " [-2.12408569 -2.22423644]\n",
      " [-1.42311739 -1.55584556]\n",
      " [-1.43973231 -1.7281866 ]\n",
      " [-2.25836771 -1.42698051]\n",
      " [-2.08040101 -1.75926308]\n",
      " [-1.71582441 -2.04650303]\n",
      " [-1.81577619 -1.723338  ]\n",
      " [-1.88707234 -2.32982024]\n",
      " [-1.91052855 -1.60208423]\n",
      " [-2.20837036 -2.04489036]\n",
      " [-2.13054607 -1.44522088]\n",
      " [-1.79831157 -1.87776145]\n",
      " [-2.23097482 -1.83822524]\n",
      " [-2.2022998  -1.99045083]\n",
      " [-2.19075382 -1.79707001]\n",
      " [-1.82702276 -2.06248963]\n",
      " [-1.88119799 -2.32791845]\n",
      " [-2.44737728 -1.86818249]\n",
      " [-1.94999795 -1.80949057]\n",
      " [-1.28505657 -1.71665615]\n",
      " [-2.27384667 -1.66489511]\n",
      " [-2.39477222 -2.13847538]\n",
      " [-2.02047248 -1.48599718]\n",
      " [-2.22342645 -2.24793156]\n",
      " [-2.02953576 -2.19904349]\n",
      " [-1.66200922 -2.32397945]\n",
      " [-2.3442406  -2.13134601]\n",
      " [-2.14940974 -1.42114038]\n",
      " [-1.71517376 -1.97373463]\n",
      " [-2.36763066 -1.74669111]\n",
      " [-2.3000646  -2.46343133]\n",
      " [-1.64359106 -1.90491722]\n",
      " [-1.72374235 -1.9043817 ]\n",
      " [-1.74295082 -2.19530768]\n",
      " [-2.31027285 -1.79552164]\n",
      " [-2.2410229  -2.20686493]\n",
      " [-2.13665975 -1.99475625]\n",
      " [-2.10619817 -2.41248539]\n",
      " [-2.19308552 -2.66702095]\n",
      " [-1.81243056 -2.4806173 ]\n",
      " [-2.331315   -1.98435048]\n",
      " [-2.2218689  -1.53709562]\n",
      " [-2.38785707 -1.91988474]\n",
      " [-2.01178485 -2.35042805]\n",
      " [-1.843017   -2.0514639 ]\n",
      " [-1.76846283 -1.75294875]\n",
      " [-1.35102922 -1.59904162]\n",
      " [-2.11075455 -2.07181375]\n",
      " [-1.67010212 -1.80342088]\n",
      " [-1.80796054 -2.48508681]\n",
      " [-2.00729784 -2.22140927]\n",
      " [-1.91602262 -2.02944512]\n",
      " [-1.72694633 -1.90483454]\n",
      " [-1.76410161 -2.13992573]\n",
      " [-2.28333388 -2.12301491]\n",
      " [-2.00510612 -1.88625448]\n",
      " [-1.32220731 -2.01267715]\n",
      " [-2.2867835  -2.10379453]\n",
      " [-2.13907879 -1.85555556]\n",
      " [-2.4622391  -1.9810214 ]\n",
      " [-1.95304804 -1.93034569]\n",
      " [-2.17919482 -2.07137652]\n",
      " [-2.42721827 -2.14799597]\n",
      " [-2.16285844 -1.87518499]\n",
      " [-2.34685473 -1.76564057]\n",
      " [-1.55165464 -2.62099551]\n",
      " [-1.87212238 -1.79692759]\n",
      " [-2.19123111 -2.11918154]\n",
      " [-2.03986417 -2.08933726]\n",
      " [-2.09270389 -2.50280114]\n",
      " [-1.65430053 -1.67611442]\n",
      " [-2.24400928 -2.4399273 ]\n",
      " [-1.84368054 -2.17273639]\n",
      " [-1.95741405 -2.09579853]\n",
      " [-1.79253837 -1.79157526]\n",
      " [-2.21767921 -2.41500919]\n",
      " [-2.47488152 -1.81688619]]\n"
     ]
    }
   ],
   "source": [
    "print(X_train)"
   ]
  },
  {
   "cell_type": "code",
   "execution_count": 56,
   "metadata": {
    "collapsed": true
   },
   "outputs": [],
   "source": [
    "# fit the model\n",
    "\n",
    "clf = svm.OneClassSVM(nu=0.1, kernel=\"rbf\", gamma=0.1)\n",
    "\n",
    "clf.fit(X_train)\n",
    "\n",
    "y_pred_train = clf.predict(X_train)\n",
    "\n",
    "y_pred_test = clf.predict(X_test)\n",
    "\n",
    "y_pred_outliers = clf.predict(X_outliers)\n",
    "\n",
    "n_error_train = y_pred_train[y_pred_train == -1].size\n",
    "n_error_test = y_pred_test[y_pred_test == -1].size\n",
    "n_error_outliers = y_pred_outliers[y_pred_outliers == 1].size\n",
    "\n"
   ]
  },
  {
   "cell_type": "code",
   "execution_count": 57,
   "metadata": {},
   "outputs": [
    {
     "name": "stdout",
     "output_type": "stream",
     "text": [
      "[-1 -1 -1 -1 -1 -1 -1 -1 -1  1 -1 -1 -1  1 -1 -1 -1 -1 -1 -1]\n"
     ]
    }
   ],
   "source": [
    "print(y_pred_outliers)"
   ]
  },
  {
   "cell_type": "code",
   "execution_count": 58,
   "metadata": {},
   "outputs": [
    {
     "name": "stdout",
     "output_type": "stream",
     "text": [
      "[ 1  1  1  1  1  1  1  1  1  1  1  1 -1  1  1  1  1  1  1  1 -1  1 -1  1\n",
      "  1  1 -1  1  1  1  1  1  1  1  1  1  1  1  1  1  1  1 -1  1  1  1  1  1\n",
      "  1  1 -1  1  1  1  1  1  1  1  1  1  1 -1  1  1  1  1  1  1  1 -1  1  1\n",
      "  1  1  1  1  1  1  1  1  1  1  1  1  1  1  1  1 -1  1  1  1  1  1  1  1\n",
      "  1  1  1  1  1 -1  1 -1  1  1  1  1  1  1  1  1  1  1  1  1  1  1  1  1\n",
      " -1  1 -1  1  1  1 -1  1  1  1  1  1  1  1  1  1  1  1  1  1  1  1 -1  1\n",
      "  1  1  1  1  1  1 -1  1  1 -1  1  1  1  1  1  1  1 -1  1  1  1  1  1  1\n",
      "  1  1  1  1  1  1  1  1  1  1  1  1  1  1  1  1  1  1  1  1 -1  1  1  1\n",
      "  1  1  1  1  1  1  1 -1]\n"
     ]
    }
   ],
   "source": [
    "print(y_pred_train)"
   ]
  },
  {
   "cell_type": "code",
   "execution_count": 65,
   "metadata": {
    "collapsed": true
   },
   "outputs": [],
   "source": [
    "y_pred_train = clf.fit_predict(X_train)\n",
    "\n"
   ]
  },
  {
   "cell_type": "code",
   "execution_count": 66,
   "metadata": {},
   "outputs": [
    {
     "name": "stdout",
     "output_type": "stream",
     "text": [
      "[ 1  1  1  1  1  1  1  1  1  1  1  1  1  1  1  1  1  1  1  1  1 -1  1  1\n",
      "  1  1  1  1  1  1  1  1  1  1 -1 -1  1  1  1  1  1  1  1  1  1  1  1  1\n",
      "  1  1  1  1  1  1 -1 -1  1  1  1 -1  1  1  1 -1  1  1  1 -1  1  1  1  1\n",
      " -1  1  1  1  1  1  1  1  1  1  1  1  1  1  1  1  1  1  1 -1  1  1  1  1\n",
      "  1  1  1 -1  1  1  1  1  1  1  1  1  1  1  1  1  1  1  1  1  1  1  1  1\n",
      "  1  1  1  1  1  1  1  1  1  1  1  1  1  1 -1 -1  1  1  1  1  1  1  1  1\n",
      "  1  1  1  1  1  1  1  1  1  1  1 -1  1  1  1  1  1  1  1 -1  1  1  1  1\n",
      "  1  1  1  1 -1  1  1  1  1  1  1  1  1  1  1  1  1  1  1  1  1 -1  1 -1\n",
      "  1  1  1  1  1  1  1 -1]\n"
     ]
    }
   ],
   "source": [
    "print(y_pred_train)"
   ]
  },
  {
   "cell_type": "code",
   "execution_count": null,
   "metadata": {
    "collapsed": true
   },
   "outputs": [],
   "source": [
    "GridSearch/RandomSearch\n",
    "\n",
    "Class wt / Sample wt -- Done\n",
    "Feature Engineering  -- ------\n",
    "  Outlier detection  -- Done\n",
    "  SMOTE              -- Code done , presentation to create\n",
    "AWS setup of Deep    -- ------\n",
    "Learning\n",
    "\n",
    "Model saving         -- Done\n",
    "\n",
    "\n",
    "# and bigger weights to some outliers\n",
    "sample_weight_last_ten[15:] *= 5\n",
    "sample_weight_last_ten[9] *= 15"
   ]
  },
  {
   "cell_type": "code",
   "execution_count": 7,
   "metadata": {},
   "outputs": [
    {
     "data": {
      "text/plain": [
       "(20, 2)"
      ]
     },
     "execution_count": 7,
     "metadata": {},
     "output_type": "execute_result"
    }
   ],
   "source": [
    "X = np.r_[np.random.randn(10, 2) + [1, 1], np.random.randn(10, 2)]\n",
    "y = [1] * 10 + [-1] * 10\n",
    "X.shape"
   ]
  },
  {
   "cell_type": "code",
   "execution_count": 8,
   "metadata": {},
   "outputs": [
    {
     "name": "stdout",
     "output_type": "stream",
     "text": [
      "[[ 0.81103085  0.54162418]\n",
      " [ 0.20064942 -0.02828967]\n",
      " [ 0.74796976  0.60898746]\n",
      " [ 0.77803461  0.85917707]\n",
      " [ 0.35831908  1.96313195]\n",
      " [ 2.98487459  0.77843668]\n",
      " [ 1.23053943  0.99093594]\n",
      " [ 1.02452358  0.7444717 ]\n",
      " [ 0.30323931  2.53557724]\n",
      " [-0.15939783  1.78216575]\n",
      " [-0.76083068  1.26891416]\n",
      " [ 0.22240426 -2.44246163]\n",
      " [-0.04340513 -0.60825352]\n",
      " [ 0.58734952 -0.9186073 ]\n",
      " [-0.09703165  1.12131638]\n",
      " [ 0.71634238  1.33204951]\n",
      " [ 1.0267542   1.24173815]\n",
      " [ 1.01692235  2.22697301]\n",
      " [-0.10615346 -0.89438056]\n",
      " [-0.85874839  0.279133  ]]\n"
     ]
    }
   ],
   "source": [
    "print(X)"
   ]
  },
  {
   "cell_type": "code",
   "execution_count": 9,
   "metadata": {},
   "outputs": [
    {
     "name": "stdout",
     "output_type": "stream",
     "text": [
      "[0.83756745 0.67764996 1.39645994 2.66770932 1.04153224 0.10990072\n",
      " 0.0451113  0.96312583 1.82835309 1.43508138 0.84367012 0.69982717\n",
      " 0.59673651 0.55209912 1.65765064 1.19170088 0.81817857 1.78038887\n",
      " 0.71784811 1.35445322]\n"
     ]
    }
   ],
   "source": [
    "sample_weight_last_ten = abs(np.random.randn(len(X)))\n",
    "sample_weight_constant = np.ones(len(X))\n",
    "print(sample_weight_last_ten)"
   ]
  },
  {
   "cell_type": "code",
   "execution_count": 10,
   "metadata": {},
   "outputs": [
    {
     "name": "stdout",
     "output_type": "stream",
     "text": [
      "[1. 1. 1. 1. 1. 1. 1. 1. 1. 1. 1. 1. 1. 1. 1. 1. 1. 1. 1. 1.]\n"
     ]
    }
   ],
   "source": [
    "print(sample_weight_constant)"
   ]
  },
  {
   "cell_type": "code",
   "execution_count": 11,
   "metadata": {
    "collapsed": true
   },
   "outputs": [],
   "source": [
    "sample_weight_last_ten[15:] *= 5\n",
    "sample_weight_last_ten[9] *= 15"
   ]
  },
  {
   "cell_type": "code",
   "execution_count": 12,
   "metadata": {},
   "outputs": [
    {
     "name": "stdout",
     "output_type": "stream",
     "text": [
      "[ 0.83756745  0.67764996  1.39645994  2.66770932  1.04153224  0.10990072\n",
      "  0.0451113   0.96312583  1.82835309 21.52622066  0.84367012  0.69982717\n",
      "  0.59673651  0.55209912  1.65765064  5.95850439  4.09089287  8.90194435\n",
      "  3.58924056  6.77226611]\n"
     ]
    }
   ],
   "source": [
    "print(sample_weight_last_ten)"
   ]
  },
  {
   "cell_type": "raw",
   "metadata": {},
   "source": [
    "The sample weighting rescales the C parameter, \n",
    "which means that the classifier puts more emphasis on getting these points right. \n",
    "Put more weight to outlier  making the deformation of the decision boundary very visible."
   ]
  },
  {
   "cell_type": "raw",
   "metadata": {},
   "source": [
    "It's similar concepts, but with sample_weights you can force estimator to pay more attention on some samples, and with class_weights you can force estimator to learn with attention to some particular class. \n",
    "\n",
    "sample_weight=0 or class_weight=0 basically means that estimator doesn't need to take into consideration such samples/classes in learning process at all. Thus classifier (for example) will never predict some class if class_weight = 0 for this class. \n",
    "\n",
    "If some sample_weight/class_weight bigger than sample_weight/class_weight on other samples/classes - estimator will try to minimize error on that samples/classes in the first place. You can use user-defined sample_weights and class_weights simultaneously."
   ]
  },
  {
   "cell_type": "code",
   "execution_count": null,
   "metadata": {
    "collapsed": true
   },
   "outputs": [],
   "source": []
  }
 ],
 "metadata": {
  "kernelspec": {
   "display_name": "Python 3",
   "language": "python",
   "name": "python3"
  },
  "language_info": {
   "codemirror_mode": {
    "name": "ipython",
    "version": 3
   },
   "file_extension": ".py",
   "mimetype": "text/x-python",
   "name": "python",
   "nbconvert_exporter": "python",
   "pygments_lexer": "ipython3",
   "version": "3.6.7"
  }
 },
 "nbformat": 4,
 "nbformat_minor": 1
}
